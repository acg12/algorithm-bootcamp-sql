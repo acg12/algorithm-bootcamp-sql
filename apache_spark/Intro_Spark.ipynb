{
  "nbformat": 4,
  "nbformat_minor": 0,
  "metadata": {
    "colab": {
      "name": "Intro_Spark.ipynb",
      "provenance": [],
      "collapsed_sections": [
        "W7_EmZXWvm1_",
        "Q5h_7zxt4o9c",
        "9cHg_lCSvgfr",
        "x3teX41loYmQ",
        "gw-fXvoMQ1wg",
        "dqwIwRc7sQcG",
        "h0IjWt5Zv_Qy"
      ],
      "toc_visible": true
    },
    "kernelspec": {
      "name": "python3",
      "display_name": "Python 3"
    },
    "language_info": {
      "name": "python"
    }
  },
  "cells": [
    {
      "cell_type": "markdown",
      "metadata": {
        "id": "W7_EmZXWvm1_"
      },
      "source": [
        "# Import libraries"
      ]
    },
    {
      "cell_type": "code",
      "metadata": {
        "colab": {
          "base_uri": "https://localhost:8080/"
        },
        "id": "6tG16vr8kxMN",
        "outputId": "397c9987-2c99-4135-9687-09b4ff5ea66e"
      },
      "source": [
        "# install Java8\n",
        "!apt-get install openjdk-8-jdk-headless -qq > /dev/null\n",
        "\n",
        "# download spark3.0.2\n",
        "!wget -q https://downloads.apache.org/spark/spark-3.0.2/spark-3.0.2-bin-hadoop2.7.tgz\n",
        "\n",
        "# unzip it\n",
        "!tar -xvf spark-3.0.2-bin-hadoop2.7.tgz\n",
        "\n",
        "# install findspark \n",
        "!pip install -q findspark\n",
        "\n",
        "# set environment variables\n",
        "import os\n",
        "os.environ[\"JAVA_HOME\"] = \"/usr/lib/jvm/java-8-openjdk-amd64\"\n",
        "os.environ[\"SPARK_HOME\"] = \"/content/spark-3.0.2-bin-hadoop2.7\"\n",
        "\n",
        "# buat spypark agar dapat diimport sebagai regular library\n",
        "import findspark\n",
        "findspark.init()\n"
      ],
      "execution_count": 1,
      "outputs": [
        {
          "output_type": "stream",
          "text": [
            "spark-3.0.2-bin-hadoop2.7/\n",
            "spark-3.0.2-bin-hadoop2.7/R/\n",
            "spark-3.0.2-bin-hadoop2.7/R/lib/\n",
            "spark-3.0.2-bin-hadoop2.7/R/lib/sparkr.zip\n",
            "spark-3.0.2-bin-hadoop2.7/R/lib/SparkR/\n",
            "spark-3.0.2-bin-hadoop2.7/R/lib/SparkR/worker/\n",
            "spark-3.0.2-bin-hadoop2.7/R/lib/SparkR/worker/worker.R\n",
            "spark-3.0.2-bin-hadoop2.7/R/lib/SparkR/worker/daemon.R\n",
            "spark-3.0.2-bin-hadoop2.7/R/lib/SparkR/tests/\n",
            "spark-3.0.2-bin-hadoop2.7/R/lib/SparkR/tests/testthat/\n",
            "spark-3.0.2-bin-hadoop2.7/R/lib/SparkR/tests/testthat/test_basic.R\n",
            "spark-3.0.2-bin-hadoop2.7/R/lib/SparkR/profile/\n",
            "spark-3.0.2-bin-hadoop2.7/R/lib/SparkR/profile/shell.R\n",
            "spark-3.0.2-bin-hadoop2.7/R/lib/SparkR/profile/general.R\n",
            "spark-3.0.2-bin-hadoop2.7/R/lib/SparkR/doc/\n",
            "spark-3.0.2-bin-hadoop2.7/R/lib/SparkR/doc/sparkr-vignettes.html\n",
            "spark-3.0.2-bin-hadoop2.7/R/lib/SparkR/doc/sparkr-vignettes.Rmd\n",
            "spark-3.0.2-bin-hadoop2.7/R/lib/SparkR/doc/sparkr-vignettes.R\n",
            "spark-3.0.2-bin-hadoop2.7/R/lib/SparkR/doc/index.html\n",
            "spark-3.0.2-bin-hadoop2.7/R/lib/SparkR/R/\n",
            "spark-3.0.2-bin-hadoop2.7/R/lib/SparkR/R/SparkR\n",
            "spark-3.0.2-bin-hadoop2.7/R/lib/SparkR/R/SparkR.rdx\n",
            "spark-3.0.2-bin-hadoop2.7/R/lib/SparkR/R/SparkR.rdb\n",
            "spark-3.0.2-bin-hadoop2.7/R/lib/SparkR/Meta/\n",
            "spark-3.0.2-bin-hadoop2.7/R/lib/SparkR/Meta/features.rds\n",
            "spark-3.0.2-bin-hadoop2.7/R/lib/SparkR/Meta/package.rds\n",
            "spark-3.0.2-bin-hadoop2.7/R/lib/SparkR/Meta/links.rds\n",
            "spark-3.0.2-bin-hadoop2.7/R/lib/SparkR/Meta/hsearch.rds\n",
            "spark-3.0.2-bin-hadoop2.7/R/lib/SparkR/Meta/nsInfo.rds\n",
            "spark-3.0.2-bin-hadoop2.7/R/lib/SparkR/Meta/vignette.rds\n",
            "spark-3.0.2-bin-hadoop2.7/R/lib/SparkR/Meta/Rd.rds\n",
            "spark-3.0.2-bin-hadoop2.7/R/lib/SparkR/DESCRIPTION\n",
            "spark-3.0.2-bin-hadoop2.7/R/lib/SparkR/NAMESPACE\n",
            "spark-3.0.2-bin-hadoop2.7/R/lib/SparkR/INDEX\n",
            "spark-3.0.2-bin-hadoop2.7/R/lib/SparkR/html/\n",
            "spark-3.0.2-bin-hadoop2.7/R/lib/SparkR/html/R.css\n",
            "spark-3.0.2-bin-hadoop2.7/R/lib/SparkR/html/00Index.html\n",
            "spark-3.0.2-bin-hadoop2.7/R/lib/SparkR/help/\n",
            "spark-3.0.2-bin-hadoop2.7/R/lib/SparkR/help/aliases.rds\n",
            "spark-3.0.2-bin-hadoop2.7/R/lib/SparkR/help/AnIndex\n",
            "spark-3.0.2-bin-hadoop2.7/R/lib/SparkR/help/SparkR.rdx\n",
            "spark-3.0.2-bin-hadoop2.7/R/lib/SparkR/help/SparkR.rdb\n",
            "spark-3.0.2-bin-hadoop2.7/R/lib/SparkR/help/paths.rds\n",
            "spark-3.0.2-bin-hadoop2.7/sbin/\n",
            "spark-3.0.2-bin-hadoop2.7/sbin/stop-slaves.sh\n",
            "spark-3.0.2-bin-hadoop2.7/sbin/stop-slave.sh\n",
            "spark-3.0.2-bin-hadoop2.7/sbin/stop-all.sh\n",
            "spark-3.0.2-bin-hadoop2.7/sbin/start-slaves.sh\n",
            "spark-3.0.2-bin-hadoop2.7/sbin/start-slave.sh\n",
            "spark-3.0.2-bin-hadoop2.7/sbin/start-all.sh\n",
            "spark-3.0.2-bin-hadoop2.7/sbin/spark-daemons.sh\n",
            "spark-3.0.2-bin-hadoop2.7/sbin/spark-daemon.sh\n",
            "spark-3.0.2-bin-hadoop2.7/sbin/spark-config.sh\n",
            "spark-3.0.2-bin-hadoop2.7/sbin/slaves.sh\n",
            "spark-3.0.2-bin-hadoop2.7/sbin/stop-thriftserver.sh\n",
            "spark-3.0.2-bin-hadoop2.7/sbin/stop-mesos-shuffle-service.sh\n",
            "spark-3.0.2-bin-hadoop2.7/sbin/stop-mesos-dispatcher.sh\n",
            "spark-3.0.2-bin-hadoop2.7/sbin/stop-master.sh\n",
            "spark-3.0.2-bin-hadoop2.7/sbin/stop-history-server.sh\n",
            "spark-3.0.2-bin-hadoop2.7/sbin/start-thriftserver.sh\n",
            "spark-3.0.2-bin-hadoop2.7/sbin/start-mesos-shuffle-service.sh\n",
            "spark-3.0.2-bin-hadoop2.7/sbin/start-mesos-dispatcher.sh\n",
            "spark-3.0.2-bin-hadoop2.7/sbin/start-master.sh\n",
            "spark-3.0.2-bin-hadoop2.7/sbin/start-history-server.sh\n",
            "spark-3.0.2-bin-hadoop2.7/python/\n",
            "spark-3.0.2-bin-hadoop2.7/python/pyspark.egg-info/\n",
            "spark-3.0.2-bin-hadoop2.7/python/pyspark.egg-info/SOURCES.txt\n",
            "spark-3.0.2-bin-hadoop2.7/python/pyspark.egg-info/top_level.txt\n",
            "spark-3.0.2-bin-hadoop2.7/python/pyspark.egg-info/requires.txt\n",
            "spark-3.0.2-bin-hadoop2.7/python/pyspark.egg-info/dependency_links.txt\n",
            "spark-3.0.2-bin-hadoop2.7/python/pyspark.egg-info/PKG-INFO\n",
            "spark-3.0.2-bin-hadoop2.7/python/pyspark/\n",
            "spark-3.0.2-bin-hadoop2.7/python/pyspark/python/\n",
            "spark-3.0.2-bin-hadoop2.7/python/pyspark/python/pyspark/\n",
            "spark-3.0.2-bin-hadoop2.7/python/pyspark/python/pyspark/shell.py\n",
            "spark-3.0.2-bin-hadoop2.7/python/pyspark/tests/\n",
            "spark-3.0.2-bin-hadoop2.7/python/pyspark/tests/test_worker.py\n",
            "spark-3.0.2-bin-hadoop2.7/python/pyspark/tests/test_util.py\n",
            "spark-3.0.2-bin-hadoop2.7/python/pyspark/tests/test_taskcontext.py\n",
            "spark-3.0.2-bin-hadoop2.7/python/pyspark/tests/test_shuffle.py\n",
            "spark-3.0.2-bin-hadoop2.7/python/pyspark/tests/test_serializers.py\n",
            "spark-3.0.2-bin-hadoop2.7/python/pyspark/tests/test_readwrite.py\n",
            "spark-3.0.2-bin-hadoop2.7/python/pyspark/tests/test_rddbarrier.py\n",
            "spark-3.0.2-bin-hadoop2.7/python/pyspark/tests/test_rdd.py\n",
            "spark-3.0.2-bin-hadoop2.7/python/pyspark/tests/test_profiler.py\n",
            "spark-3.0.2-bin-hadoop2.7/python/pyspark/tests/test_pin_thread.py\n",
            "spark-3.0.2-bin-hadoop2.7/python/pyspark/tests/test_join.py\n",
            "spark-3.0.2-bin-hadoop2.7/python/pyspark/tests/test_daemon.py\n",
            "spark-3.0.2-bin-hadoop2.7/python/pyspark/tests/test_context.py\n",
            "spark-3.0.2-bin-hadoop2.7/python/pyspark/tests/test_conf.py\n",
            "spark-3.0.2-bin-hadoop2.7/python/pyspark/tests/test_broadcast.py\n",
            "spark-3.0.2-bin-hadoop2.7/python/pyspark/tests/test_appsubmit.py\n",
            "spark-3.0.2-bin-hadoop2.7/python/pyspark/tests/__init__.py\n",
            "spark-3.0.2-bin-hadoop2.7/python/pyspark/testing/\n",
            "spark-3.0.2-bin-hadoop2.7/python/pyspark/testing/mllibutils.py\n",
            "spark-3.0.2-bin-hadoop2.7/python/pyspark/testing/__init__.py\n",
            "spark-3.0.2-bin-hadoop2.7/python/pyspark/testing/utils.py\n",
            "spark-3.0.2-bin-hadoop2.7/python/pyspark/testing/streamingutils.py\n",
            "spark-3.0.2-bin-hadoop2.7/python/pyspark/testing/sqlutils.py\n",
            "spark-3.0.2-bin-hadoop2.7/python/pyspark/testing/mlutils.py\n",
            "spark-3.0.2-bin-hadoop2.7/python/pyspark/streaming/\n",
            "spark-3.0.2-bin-hadoop2.7/python/pyspark/streaming/tests/\n",
            "spark-3.0.2-bin-hadoop2.7/python/pyspark/streaming/tests/__init__.py\n",
            "spark-3.0.2-bin-hadoop2.7/python/pyspark/streaming/tests/test_listener.py\n",
            "spark-3.0.2-bin-hadoop2.7/python/pyspark/streaming/tests/test_kinesis.py\n",
            "spark-3.0.2-bin-hadoop2.7/python/pyspark/streaming/tests/test_dstream.py\n",
            "spark-3.0.2-bin-hadoop2.7/python/pyspark/streaming/tests/test_context.py\n",
            "spark-3.0.2-bin-hadoop2.7/python/pyspark/streaming/listener.py\n",
            "spark-3.0.2-bin-hadoop2.7/python/pyspark/streaming/__init__.py\n",
            "spark-3.0.2-bin-hadoop2.7/python/pyspark/streaming/util.py\n",
            "spark-3.0.2-bin-hadoop2.7/python/pyspark/streaming/kinesis.py\n",
            "spark-3.0.2-bin-hadoop2.7/python/pyspark/streaming/dstream.py\n",
            "spark-3.0.2-bin-hadoop2.7/python/pyspark/streaming/context.py\n",
            "spark-3.0.2-bin-hadoop2.7/python/pyspark/status.py\n",
            "spark-3.0.2-bin-hadoop2.7/python/pyspark/sql/\n",
            "spark-3.0.2-bin-hadoop2.7/python/pyspark/sql/streaming.py\n",
            "spark-3.0.2-bin-hadoop2.7/python/pyspark/sql/session.py\n",
            "spark-3.0.2-bin-hadoop2.7/python/pyspark/sql/readwriter.py\n",
            "spark-3.0.2-bin-hadoop2.7/python/pyspark/sql/group.py\n",
            "spark-3.0.2-bin-hadoop2.7/python/pyspark/sql/functions.py\n",
            "spark-3.0.2-bin-hadoop2.7/python/pyspark/sql/dataframe.py\n",
            "spark-3.0.2-bin-hadoop2.7/python/pyspark/sql/context.py\n",
            "spark-3.0.2-bin-hadoop2.7/python/pyspark/sql/conf.py\n",
            "spark-3.0.2-bin-hadoop2.7/python/pyspark/sql/column.py\n",
            "spark-3.0.2-bin-hadoop2.7/python/pyspark/sql/catalog.py\n",
            "spark-3.0.2-bin-hadoop2.7/python/pyspark/sql/__init__.py\n",
            "spark-3.0.2-bin-hadoop2.7/python/pyspark/sql/tests/\n",
            "spark-3.0.2-bin-hadoop2.7/python/pyspark/sql/tests/test_pandas_cogrouped_map.py\n",
            "spark-3.0.2-bin-hadoop2.7/python/pyspark/sql/tests/test_group.py\n",
            "spark-3.0.2-bin-hadoop2.7/python/pyspark/sql/tests/test_functions.py\n",
            "spark-3.0.2-bin-hadoop2.7/python/pyspark/sql/tests/test_datasources.py\n",
            "spark-3.0.2-bin-hadoop2.7/python/pyspark/sql/tests/test_dataframe.py\n",
            "spark-3.0.2-bin-hadoop2.7/python/pyspark/sql/tests/test_context.py\n",
            "spark-3.0.2-bin-hadoop2.7/python/pyspark/sql/tests/test_conf.py\n",
            "spark-3.0.2-bin-hadoop2.7/python/pyspark/sql/tests/test_column.py\n",
            "spark-3.0.2-bin-hadoop2.7/python/pyspark/sql/tests/test_catalog.py\n",
            "spark-3.0.2-bin-hadoop2.7/python/pyspark/sql/tests/test_arrow.py\n",
            "spark-3.0.2-bin-hadoop2.7/python/pyspark/sql/tests/__init__.py\n",
            "spark-3.0.2-bin-hadoop2.7/python/pyspark/sql/tests/test_utils.py\n",
            "spark-3.0.2-bin-hadoop2.7/python/pyspark/sql/tests/test_udf.py\n",
            "spark-3.0.2-bin-hadoop2.7/python/pyspark/sql/tests/test_types.py\n",
            "spark-3.0.2-bin-hadoop2.7/python/pyspark/sql/tests/test_streaming.py\n",
            "spark-3.0.2-bin-hadoop2.7/python/pyspark/sql/tests/test_session.py\n",
            "spark-3.0.2-bin-hadoop2.7/python/pyspark/sql/tests/test_serde.py\n",
            "spark-3.0.2-bin-hadoop2.7/python/pyspark/sql/tests/test_readwriter.py\n",
            "spark-3.0.2-bin-hadoop2.7/python/pyspark/sql/tests/test_pandas_udf_window.py\n",
            "spark-3.0.2-bin-hadoop2.7/python/pyspark/sql/tests/test_pandas_udf_typehints.py\n",
            "spark-3.0.2-bin-hadoop2.7/python/pyspark/sql/tests/test_pandas_udf_scalar.py\n",
            "spark-3.0.2-bin-hadoop2.7/python/pyspark/sql/tests/test_pandas_udf_grouped_agg.py\n",
            "spark-3.0.2-bin-hadoop2.7/python/pyspark/sql/tests/test_pandas_udf.py\n",
            "spark-3.0.2-bin-hadoop2.7/python/pyspark/sql/tests/test_pandas_map.py\n",
            "spark-3.0.2-bin-hadoop2.7/python/pyspark/sql/tests/test_pandas_grouped_map.py\n",
            "spark-3.0.2-bin-hadoop2.7/python/pyspark/sql/pandas/\n",
            "spark-3.0.2-bin-hadoop2.7/python/pyspark/sql/pandas/utils.py\n",
            "spark-3.0.2-bin-hadoop2.7/python/pyspark/sql/pandas/types.py\n",
            "spark-3.0.2-bin-hadoop2.7/python/pyspark/sql/pandas/typehints.py\n",
            "spark-3.0.2-bin-hadoop2.7/python/pyspark/sql/pandas/serializers.py\n",
            "spark-3.0.2-bin-hadoop2.7/python/pyspark/sql/pandas/map_ops.py\n",
            "spark-3.0.2-bin-hadoop2.7/python/pyspark/sql/pandas/group_ops.py\n",
            "spark-3.0.2-bin-hadoop2.7/python/pyspark/sql/pandas/functions.py\n",
            "spark-3.0.2-bin-hadoop2.7/python/pyspark/sql/pandas/conversion.py\n",
            "spark-3.0.2-bin-hadoop2.7/python/pyspark/sql/pandas/__init__.py\n",
            "spark-3.0.2-bin-hadoop2.7/python/pyspark/sql/avro/\n",
            "spark-3.0.2-bin-hadoop2.7/python/pyspark/sql/avro/functions.py\n",
            "spark-3.0.2-bin-hadoop2.7/python/pyspark/sql/avro/__init__.py\n",
            "spark-3.0.2-bin-hadoop2.7/python/pyspark/sql/window.py\n",
            "spark-3.0.2-bin-hadoop2.7/python/pyspark/sql/utils.py\n",
            "spark-3.0.2-bin-hadoop2.7/python/pyspark/sql/udf.py\n",
            "spark-3.0.2-bin-hadoop2.7/python/pyspark/sql/types.py\n",
            "spark-3.0.2-bin-hadoop2.7/python/pyspark/rddsampler.py\n",
            "spark-3.0.2-bin-hadoop2.7/python/pyspark/mllib/\n",
            "spark-3.0.2-bin-hadoop2.7/python/pyspark/mllib/util.py\n",
            "spark-3.0.2-bin-hadoop2.7/python/pyspark/mllib/tree.py\n",
            "spark-3.0.2-bin-hadoop2.7/python/pyspark/mllib/regression.py\n",
            "spark-3.0.2-bin-hadoop2.7/python/pyspark/mllib/recommendation.py\n",
            "spark-3.0.2-bin-hadoop2.7/python/pyspark/mllib/random.py\n",
            "spark-3.0.2-bin-hadoop2.7/python/pyspark/mllib/fpm.py\n",
            "spark-3.0.2-bin-hadoop2.7/python/pyspark/mllib/feature.py\n",
            "spark-3.0.2-bin-hadoop2.7/python/pyspark/mllib/evaluation.py\n",
            "spark-3.0.2-bin-hadoop2.7/python/pyspark/mllib/common.py\n",
            "spark-3.0.2-bin-hadoop2.7/python/pyspark/mllib/clustering.py\n",
            "spark-3.0.2-bin-hadoop2.7/python/pyspark/mllib/classification.py\n",
            "spark-3.0.2-bin-hadoop2.7/python/pyspark/mllib/__init__.py\n",
            "spark-3.0.2-bin-hadoop2.7/python/pyspark/mllib/tests/\n",
            "spark-3.0.2-bin-hadoop2.7/python/pyspark/mllib/tests/test_util.py\n",
            "spark-3.0.2-bin-hadoop2.7/python/pyspark/mllib/tests/test_streaming_algorithms.py\n",
            "spark-3.0.2-bin-hadoop2.7/python/pyspark/mllib/tests/test_stat.py\n",
            "spark-3.0.2-bin-hadoop2.7/python/pyspark/mllib/tests/test_linalg.py\n",
            "spark-3.0.2-bin-hadoop2.7/python/pyspark/mllib/tests/test_feature.py\n",
            "spark-3.0.2-bin-hadoop2.7/python/pyspark/mllib/tests/test_algorithms.py\n",
            "spark-3.0.2-bin-hadoop2.7/python/pyspark/mllib/tests/__init__.py\n",
            "spark-3.0.2-bin-hadoop2.7/python/pyspark/mllib/stat/\n",
            "spark-3.0.2-bin-hadoop2.7/python/pyspark/mllib/stat/distribution.py\n",
            "spark-3.0.2-bin-hadoop2.7/python/pyspark/mllib/stat/_statistics.py\n",
            "spark-3.0.2-bin-hadoop2.7/python/pyspark/mllib/stat/__init__.py\n",
            "spark-3.0.2-bin-hadoop2.7/python/pyspark/mllib/stat/KernelDensity.py\n",
            "spark-3.0.2-bin-hadoop2.7/python/pyspark/mllib/stat/test.py\n",
            "spark-3.0.2-bin-hadoop2.7/python/pyspark/mllib/linalg/\n",
            "spark-3.0.2-bin-hadoop2.7/python/pyspark/mllib/linalg/distributed.py\n",
            "spark-3.0.2-bin-hadoop2.7/python/pyspark/mllib/linalg/__init__.py\n",
            "spark-3.0.2-bin-hadoop2.7/python/pyspark/ml/\n",
            "spark-3.0.2-bin-hadoop2.7/python/pyspark/ml/wrapper.py\n",
            "spark-3.0.2-bin-hadoop2.7/python/pyspark/ml/util.py\n",
            "spark-3.0.2-bin-hadoop2.7/python/pyspark/ml/tuning.py\n",
            "spark-3.0.2-bin-hadoop2.7/python/pyspark/ml/tree.py\n",
            "spark-3.0.2-bin-hadoop2.7/python/pyspark/ml/stat.py\n",
            "spark-3.0.2-bin-hadoop2.7/python/pyspark/ml/regression.py\n",
            "spark-3.0.2-bin-hadoop2.7/python/pyspark/ml/recommendation.py\n",
            "spark-3.0.2-bin-hadoop2.7/python/pyspark/ml/pipeline.py\n",
            "spark-3.0.2-bin-hadoop2.7/python/pyspark/ml/image.py\n",
            "spark-3.0.2-bin-hadoop2.7/python/pyspark/ml/functions.py\n",
            "spark-3.0.2-bin-hadoop2.7/python/pyspark/ml/fpm.py\n",
            "spark-3.0.2-bin-hadoop2.7/python/pyspark/ml/feature.py\n",
            "spark-3.0.2-bin-hadoop2.7/python/pyspark/ml/evaluation.py\n",
            "spark-3.0.2-bin-hadoop2.7/python/pyspark/ml/common.py\n",
            "spark-3.0.2-bin-hadoop2.7/python/pyspark/ml/clustering.py\n",
            "spark-3.0.2-bin-hadoop2.7/python/pyspark/ml/classification.py\n",
            "spark-3.0.2-bin-hadoop2.7/python/pyspark/ml/base.py\n",
            "spark-3.0.2-bin-hadoop2.7/python/pyspark/ml/__init__.py\n",
            "spark-3.0.2-bin-hadoop2.7/python/pyspark/ml/tests/\n",
            "spark-3.0.2-bin-hadoop2.7/python/pyspark/ml/tests/test_wrapper.py\n",
            "spark-3.0.2-bin-hadoop2.7/python/pyspark/ml/tests/test_tuning.py\n",
            "spark-3.0.2-bin-hadoop2.7/python/pyspark/ml/tests/test_training_summary.py\n",
            "spark-3.0.2-bin-hadoop2.7/python/pyspark/ml/tests/test_stat.py\n",
            "spark-3.0.2-bin-hadoop2.7/python/pyspark/ml/tests/test_pipeline.py\n",
            "spark-3.0.2-bin-hadoop2.7/python/pyspark/ml/tests/test_persistence.py\n",
            "spark-3.0.2-bin-hadoop2.7/python/pyspark/ml/tests/test_param.py\n",
            "spark-3.0.2-bin-hadoop2.7/python/pyspark/ml/tests/test_linalg.py\n",
            "spark-3.0.2-bin-hadoop2.7/python/pyspark/ml/tests/test_image.py\n",
            "spark-3.0.2-bin-hadoop2.7/python/pyspark/ml/tests/test_feature.py\n",
            "spark-3.0.2-bin-hadoop2.7/python/pyspark/ml/tests/test_evaluation.py\n",
            "spark-3.0.2-bin-hadoop2.7/python/pyspark/ml/tests/test_base.py\n",
            "spark-3.0.2-bin-hadoop2.7/python/pyspark/ml/tests/test_algorithms.py\n",
            "spark-3.0.2-bin-hadoop2.7/python/pyspark/ml/tests/test_util.py\n",
            "spark-3.0.2-bin-hadoop2.7/python/pyspark/ml/tests/__init__.py\n",
            "spark-3.0.2-bin-hadoop2.7/python/pyspark/ml/param/\n",
            "spark-3.0.2-bin-hadoop2.7/python/pyspark/ml/param/shared.py\n",
            "spark-3.0.2-bin-hadoop2.7/python/pyspark/ml/param/_shared_params_code_gen.py\n",
            "spark-3.0.2-bin-hadoop2.7/python/pyspark/ml/param/__init__.py\n",
            "spark-3.0.2-bin-hadoop2.7/python/pyspark/ml/linalg/\n",
            "spark-3.0.2-bin-hadoop2.7/python/pyspark/ml/linalg/__init__.py\n",
            "spark-3.0.2-bin-hadoop2.7/python/pyspark/join.py\n",
            "spark-3.0.2-bin-hadoop2.7/python/pyspark/files.py\n",
            "spark-3.0.2-bin-hadoop2.7/python/pyspark/daemon.py\n",
            "spark-3.0.2-bin-hadoop2.7/python/pyspark/_globals.py\n",
            "spark-3.0.2-bin-hadoop2.7/python/pyspark/worker.py\n",
            "spark-3.0.2-bin-hadoop2.7/python/pyspark/version.py\n",
            "spark-3.0.2-bin-hadoop2.7/python/pyspark/util.py\n",
            "spark-3.0.2-bin-hadoop2.7/python/pyspark/taskcontext.py\n",
            "spark-3.0.2-bin-hadoop2.7/python/pyspark/storagelevel.py\n",
            "spark-3.0.2-bin-hadoop2.7/python/pyspark/statcounter.py\n",
            "spark-3.0.2-bin-hadoop2.7/python/pyspark/shuffle.py\n",
            "spark-3.0.2-bin-hadoop2.7/python/pyspark/shell.py\n",
            "spark-3.0.2-bin-hadoop2.7/python/pyspark/serializers.py\n",
            "spark-3.0.2-bin-hadoop2.7/python/pyspark/resultiterable.py\n",
            "spark-3.0.2-bin-hadoop2.7/python/pyspark/resource.py\n",
            "spark-3.0.2-bin-hadoop2.7/python/pyspark/rdd.py\n",
            "spark-3.0.2-bin-hadoop2.7/python/pyspark/profiler.py\n",
            "spark-3.0.2-bin-hadoop2.7/python/pyspark/java_gateway.py\n",
            "spark-3.0.2-bin-hadoop2.7/python/pyspark/heapq3.py\n",
            "spark-3.0.2-bin-hadoop2.7/python/pyspark/find_spark_home.py\n",
            "spark-3.0.2-bin-hadoop2.7/python/pyspark/context.py\n",
            "spark-3.0.2-bin-hadoop2.7/python/pyspark/conf.py\n",
            "spark-3.0.2-bin-hadoop2.7/python/pyspark/cloudpickle.py\n",
            "spark-3.0.2-bin-hadoop2.7/python/pyspark/broadcast.py\n",
            "spark-3.0.2-bin-hadoop2.7/python/pyspark/accumulators.py\n",
            "spark-3.0.2-bin-hadoop2.7/python/pyspark/__init__.py\n",
            "spark-3.0.2-bin-hadoop2.7/python/pyspark/traceback_utils.py\n",
            "spark-3.0.2-bin-hadoop2.7/python/lib/\n",
            "spark-3.0.2-bin-hadoop2.7/python/lib/py4j-0.10.9-src.zip\n",
            "spark-3.0.2-bin-hadoop2.7/python/lib/PY4J_LICENSE.txt\n",
            "spark-3.0.2-bin-hadoop2.7/python/lib/pyspark.zip\n",
            "spark-3.0.2-bin-hadoop2.7/python/docs/\n",
            "spark-3.0.2-bin-hadoop2.7/python/docs/pyspark.streaming.rst\n",
            "spark-3.0.2-bin-hadoop2.7/python/docs/pyspark.sql.rst\n",
            "spark-3.0.2-bin-hadoop2.7/python/docs/pyspark.rst\n",
            "spark-3.0.2-bin-hadoop2.7/python/docs/pyspark.resource.rst\n",
            "spark-3.0.2-bin-hadoop2.7/python/docs/pyspark.mllib.rst\n",
            "spark-3.0.2-bin-hadoop2.7/python/docs/pyspark.ml.rst\n",
            "spark-3.0.2-bin-hadoop2.7/python/docs/make2.bat\n",
            "spark-3.0.2-bin-hadoop2.7/python/docs/index.rst\n",
            "spark-3.0.2-bin-hadoop2.7/python/docs/conf.py\n",
            "spark-3.0.2-bin-hadoop2.7/python/docs/_templates/\n",
            "spark-3.0.2-bin-hadoop2.7/python/docs/_templates/layout.html\n",
            "spark-3.0.2-bin-hadoop2.7/python/docs/_static/\n",
            "spark-3.0.2-bin-hadoop2.7/python/docs/_static/pyspark.js\n",
            "spark-3.0.2-bin-hadoop2.7/python/docs/_static/pyspark.css\n",
            "spark-3.0.2-bin-hadoop2.7/python/docs/_static/copybutton.js\n",
            "spark-3.0.2-bin-hadoop2.7/python/docs/Makefile\n",
            "spark-3.0.2-bin-hadoop2.7/python/docs/make.bat\n",
            "spark-3.0.2-bin-hadoop2.7/python/README.md\n",
            "spark-3.0.2-bin-hadoop2.7/python/.gitignore\n",
            "spark-3.0.2-bin-hadoop2.7/python/.coveragerc\n",
            "spark-3.0.2-bin-hadoop2.7/python/setup.py\n",
            "spark-3.0.2-bin-hadoop2.7/python/run-tests.py\n",
            "spark-3.0.2-bin-hadoop2.7/python/pylintrc\n",
            "spark-3.0.2-bin-hadoop2.7/python/MANIFEST.in\n",
            "spark-3.0.2-bin-hadoop2.7/python/test_support/\n",
            "spark-3.0.2-bin-hadoop2.7/python/test_support/userlib-0.1.zip\n",
            "spark-3.0.2-bin-hadoop2.7/python/test_support/sql/\n",
            "spark-3.0.2-bin-hadoop2.7/python/test_support/sql/text-test.txt\n",
            "spark-3.0.2-bin-hadoop2.7/python/test_support/sql/streaming/\n",
            "spark-3.0.2-bin-hadoop2.7/python/test_support/sql/streaming/text-test.txt\n",
            "spark-3.0.2-bin-hadoop2.7/python/test_support/sql/people_array_utf16le.json\n",
            "spark-3.0.2-bin-hadoop2.7/python/test_support/sql/people_array.json\n",
            "spark-3.0.2-bin-hadoop2.7/python/test_support/sql/people1.json\n",
            "spark-3.0.2-bin-hadoop2.7/python/test_support/sql/people.json\n",
            "spark-3.0.2-bin-hadoop2.7/python/test_support/sql/parquet_partitioned/\n",
            "spark-3.0.2-bin-hadoop2.7/python/test_support/sql/parquet_partitioned/year=2015/\n",
            "spark-3.0.2-bin-hadoop2.7/python/test_support/sql/parquet_partitioned/year=2015/month=9/\n",
            "spark-3.0.2-bin-hadoop2.7/python/test_support/sql/parquet_partitioned/year=2015/month=9/day=1/\n",
            "spark-3.0.2-bin-hadoop2.7/python/test_support/sql/parquet_partitioned/year=2015/month=9/day=1/part-r-00007.gz.parquet\n",
            "spark-3.0.2-bin-hadoop2.7/python/test_support/sql/parquet_partitioned/year=2015/month=9/day=1/.part-r-00007.gz.parquet.crc\n",
            "spark-3.0.2-bin-hadoop2.7/python/test_support/sql/parquet_partitioned/year=2015/month=10/\n",
            "spark-3.0.2-bin-hadoop2.7/python/test_support/sql/parquet_partitioned/year=2015/month=10/day=26/\n",
            "spark-3.0.2-bin-hadoop2.7/python/test_support/sql/parquet_partitioned/year=2015/month=10/day=26/part-r-00005.gz.parquet\n",
            "spark-3.0.2-bin-hadoop2.7/python/test_support/sql/parquet_partitioned/year=2015/month=10/day=26/.part-r-00005.gz.parquet.crc\n",
            "spark-3.0.2-bin-hadoop2.7/python/test_support/sql/parquet_partitioned/year=2015/month=10/day=25/\n",
            "spark-3.0.2-bin-hadoop2.7/python/test_support/sql/parquet_partitioned/year=2015/month=10/day=25/part-r-00004.gz.parquet\n",
            "spark-3.0.2-bin-hadoop2.7/python/test_support/sql/parquet_partitioned/year=2015/month=10/day=25/part-r-00002.gz.parquet\n",
            "spark-3.0.2-bin-hadoop2.7/python/test_support/sql/parquet_partitioned/year=2015/month=10/day=25/.part-r-00004.gz.parquet.crc\n",
            "spark-3.0.2-bin-hadoop2.7/python/test_support/sql/parquet_partitioned/year=2015/month=10/day=25/.part-r-00002.gz.parquet.crc\n",
            "spark-3.0.2-bin-hadoop2.7/python/test_support/sql/parquet_partitioned/year=2014/\n",
            "spark-3.0.2-bin-hadoop2.7/python/test_support/sql/parquet_partitioned/year=2014/month=9/\n",
            "spark-3.0.2-bin-hadoop2.7/python/test_support/sql/parquet_partitioned/year=2014/month=9/day=1/\n",
            "spark-3.0.2-bin-hadoop2.7/python/test_support/sql/parquet_partitioned/year=2014/month=9/day=1/part-r-00008.gz.parquet\n",
            "spark-3.0.2-bin-hadoop2.7/python/test_support/sql/parquet_partitioned/year=2014/month=9/day=1/.part-r-00008.gz.parquet.crc\n",
            "spark-3.0.2-bin-hadoop2.7/python/test_support/sql/parquet_partitioned/_metadata\n",
            "spark-3.0.2-bin-hadoop2.7/python/test_support/sql/parquet_partitioned/_common_metadata\n",
            "spark-3.0.2-bin-hadoop2.7/python/test_support/sql/parquet_partitioned/_SUCCESS\n",
            "spark-3.0.2-bin-hadoop2.7/python/test_support/sql/orc_partitioned/\n",
            "spark-3.0.2-bin-hadoop2.7/python/test_support/sql/orc_partitioned/b=1/\n",
            "spark-3.0.2-bin-hadoop2.7/python/test_support/sql/orc_partitioned/b=1/c=1/\n",
            "spark-3.0.2-bin-hadoop2.7/python/test_support/sql/orc_partitioned/b=1/c=1/part-r-00000-829af031-b970-49d6-ad39-30460a0be2c8.orc\n",
            "spark-3.0.2-bin-hadoop2.7/python/test_support/sql/orc_partitioned/b=1/c=1/.part-r-00000-829af031-b970-49d6-ad39-30460a0be2c8.orc.crc\n",
            "spark-3.0.2-bin-hadoop2.7/python/test_support/sql/orc_partitioned/b=0/\n",
            "spark-3.0.2-bin-hadoop2.7/python/test_support/sql/orc_partitioned/b=0/c=0/\n",
            "spark-3.0.2-bin-hadoop2.7/python/test_support/sql/orc_partitioned/b=0/c=0/part-r-00000-829af031-b970-49d6-ad39-30460a0be2c8.orc\n",
            "spark-3.0.2-bin-hadoop2.7/python/test_support/sql/orc_partitioned/b=0/c=0/.part-r-00000-829af031-b970-49d6-ad39-30460a0be2c8.orc.crc\n",
            "spark-3.0.2-bin-hadoop2.7/python/test_support/sql/orc_partitioned/_SUCCESS\n",
            "spark-3.0.2-bin-hadoop2.7/python/test_support/sql/ages_newlines.csv\n",
            "spark-3.0.2-bin-hadoop2.7/python/test_support/sql/ages.csv\n",
            "spark-3.0.2-bin-hadoop2.7/python/test_support/hello/\n",
            "spark-3.0.2-bin-hadoop2.7/python/test_support/hello/sub_hello/\n",
            "spark-3.0.2-bin-hadoop2.7/python/test_support/hello/sub_hello/sub_hello.txt\n",
            "spark-3.0.2-bin-hadoop2.7/python/test_support/hello/hello.txt\n",
            "spark-3.0.2-bin-hadoop2.7/python/test_support/SimpleHTTPServer.py\n",
            "spark-3.0.2-bin-hadoop2.7/python/test_support/userlibrary.py\n",
            "spark-3.0.2-bin-hadoop2.7/python/test_coverage/\n",
            "spark-3.0.2-bin-hadoop2.7/python/test_coverage/sitecustomize.py\n",
            "spark-3.0.2-bin-hadoop2.7/python/test_coverage/coverage_daemon.py\n",
            "spark-3.0.2-bin-hadoop2.7/python/test_coverage/conf/\n",
            "spark-3.0.2-bin-hadoop2.7/python/test_coverage/conf/spark-defaults.conf\n",
            "spark-3.0.2-bin-hadoop2.7/python/setup.cfg\n",
            "spark-3.0.2-bin-hadoop2.7/python/run-tests-with-coverage\n",
            "spark-3.0.2-bin-hadoop2.7/python/run-tests\n",
            "spark-3.0.2-bin-hadoop2.7/python/dist/\n",
            "spark-3.0.2-bin-hadoop2.7/bin/\n",
            "spark-3.0.2-bin-hadoop2.7/bin/sparkR2.cmd\n",
            "spark-3.0.2-bin-hadoop2.7/bin/sparkR.cmd\n",
            "spark-3.0.2-bin-hadoop2.7/bin/sparkR\n",
            "spark-3.0.2-bin-hadoop2.7/bin/spark-submit2.cmd\n",
            "spark-3.0.2-bin-hadoop2.7/bin/spark-submit.cmd\n",
            "spark-3.0.2-bin-hadoop2.7/bin/spark-submit\n",
            "spark-3.0.2-bin-hadoop2.7/bin/spark-sql2.cmd\n",
            "spark-3.0.2-bin-hadoop2.7/bin/spark-sql.cmd\n",
            "spark-3.0.2-bin-hadoop2.7/bin/spark-sql\n",
            "spark-3.0.2-bin-hadoop2.7/bin/spark-shell2.cmd\n",
            "spark-3.0.2-bin-hadoop2.7/bin/spark-shell.cmd\n",
            "spark-3.0.2-bin-hadoop2.7/bin/spark-shell\n",
            "spark-3.0.2-bin-hadoop2.7/bin/spark-class.cmd\n",
            "spark-3.0.2-bin-hadoop2.7/bin/spark-class\n",
            "spark-3.0.2-bin-hadoop2.7/bin/run-example.cmd\n",
            "spark-3.0.2-bin-hadoop2.7/bin/run-example\n",
            "spark-3.0.2-bin-hadoop2.7/bin/pyspark.cmd\n",
            "spark-3.0.2-bin-hadoop2.7/bin/beeline.cmd\n",
            "spark-3.0.2-bin-hadoop2.7/bin/beeline\n",
            "spark-3.0.2-bin-hadoop2.7/bin/spark-class2.cmd\n",
            "spark-3.0.2-bin-hadoop2.7/bin/pyspark2.cmd\n",
            "spark-3.0.2-bin-hadoop2.7/bin/pyspark\n",
            "spark-3.0.2-bin-hadoop2.7/bin/load-spark-env.sh\n",
            "spark-3.0.2-bin-hadoop2.7/bin/load-spark-env.cmd\n",
            "spark-3.0.2-bin-hadoop2.7/bin/find-spark-home.cmd\n",
            "spark-3.0.2-bin-hadoop2.7/bin/find-spark-home\n",
            "spark-3.0.2-bin-hadoop2.7/bin/docker-image-tool.sh\n",
            "spark-3.0.2-bin-hadoop2.7/README.md\n",
            "spark-3.0.2-bin-hadoop2.7/conf/\n",
            "spark-3.0.2-bin-hadoop2.7/conf/spark-env.sh.template\n",
            "spark-3.0.2-bin-hadoop2.7/conf/spark-defaults.conf.template\n",
            "spark-3.0.2-bin-hadoop2.7/conf/slaves.template\n",
            "spark-3.0.2-bin-hadoop2.7/conf/metrics.properties.template\n",
            "spark-3.0.2-bin-hadoop2.7/conf/log4j.properties.template\n",
            "spark-3.0.2-bin-hadoop2.7/conf/fairscheduler.xml.template\n",
            "spark-3.0.2-bin-hadoop2.7/data/\n",
            "spark-3.0.2-bin-hadoop2.7/data/streaming/\n",
            "spark-3.0.2-bin-hadoop2.7/data/streaming/AFINN-111.txt\n",
            "spark-3.0.2-bin-hadoop2.7/data/mllib/\n",
            "spark-3.0.2-bin-hadoop2.7/data/mllib/streaming_kmeans_data_test.txt\n",
            "spark-3.0.2-bin-hadoop2.7/data/mllib/sample_svm_data.txt\n",
            "spark-3.0.2-bin-hadoop2.7/data/mllib/sample_multiclass_classification_data.txt\n",
            "spark-3.0.2-bin-hadoop2.7/data/mllib/sample_movielens_data.txt\n",
            "spark-3.0.2-bin-hadoop2.7/data/mllib/sample_linear_regression_data.txt\n",
            "spark-3.0.2-bin-hadoop2.7/data/mllib/sample_libsvm_data.txt\n",
            "spark-3.0.2-bin-hadoop2.7/data/mllib/sample_lda_libsvm_data.txt\n",
            "spark-3.0.2-bin-hadoop2.7/data/mllib/sample_lda_data.txt\n",
            "spark-3.0.2-bin-hadoop2.7/data/mllib/sample_kmeans_data.txt\n",
            "spark-3.0.2-bin-hadoop2.7/data/mllib/sample_isotonic_regression_libsvm_data.txt\n",
            "spark-3.0.2-bin-hadoop2.7/data/mllib/sample_fpgrowth.txt\n",
            "spark-3.0.2-bin-hadoop2.7/data/mllib/sample_binary_classification_data.txt\n",
            "spark-3.0.2-bin-hadoop2.7/data/mllib/ridge-data/\n",
            "spark-3.0.2-bin-hadoop2.7/data/mllib/ridge-data/lpsa.data\n",
            "spark-3.0.2-bin-hadoop2.7/data/mllib/pic_data.txt\n",
            "spark-3.0.2-bin-hadoop2.7/data/mllib/pagerank_data.txt\n",
            "spark-3.0.2-bin-hadoop2.7/data/mllib/kmeans_data.txt\n",
            "spark-3.0.2-bin-hadoop2.7/data/mllib/iris_libsvm.txt\n",
            "spark-3.0.2-bin-hadoop2.7/data/mllib/images/\n",
            "spark-3.0.2-bin-hadoop2.7/data/mllib/images/partitioned/\n",
            "spark-3.0.2-bin-hadoop2.7/data/mllib/images/partitioned/cls=multichannel/\n",
            "spark-3.0.2-bin-hadoop2.7/data/mllib/images/partitioned/cls=multichannel/date=2018-02/\n",
            "spark-3.0.2-bin-hadoop2.7/data/mllib/images/partitioned/cls=multichannel/date=2018-02/grayscale.jpg\n",
            "spark-3.0.2-bin-hadoop2.7/data/mllib/images/partitioned/cls=multichannel/date=2018-02/chr30.4.184.jpg\n",
            "spark-3.0.2-bin-hadoop2.7/data/mllib/images/partitioned/cls=multichannel/date=2018-01/\n",
            "spark-3.0.2-bin-hadoop2.7/data/mllib/images/partitioned/cls=multichannel/date=2018-01/BGRA_alpha_60.png\n",
            "spark-3.0.2-bin-hadoop2.7/data/mllib/images/partitioned/cls=multichannel/date=2018-01/BGRA.png\n",
            "spark-3.0.2-bin-hadoop2.7/data/mllib/images/partitioned/cls=kittens/\n",
            "spark-3.0.2-bin-hadoop2.7/data/mllib/images/partitioned/cls=kittens/date=2018-02/\n",
            "spark-3.0.2-bin-hadoop2.7/data/mllib/images/partitioned/cls=kittens/date=2018-02/DP802813.jpg\n",
            "spark-3.0.2-bin-hadoop2.7/data/mllib/images/partitioned/cls=kittens/date=2018-02/DP153539.jpg\n",
            "spark-3.0.2-bin-hadoop2.7/data/mllib/images/partitioned/cls=kittens/date=2018-02/54893.jpg\n",
            "spark-3.0.2-bin-hadoop2.7/data/mllib/images/partitioned/cls=kittens/date=2018-01/\n",
            "spark-3.0.2-bin-hadoop2.7/data/mllib/images/partitioned/cls=kittens/date=2018-01/not-image.txt\n",
            "spark-3.0.2-bin-hadoop2.7/data/mllib/images/partitioned/cls=kittens/date=2018-01/29.5.a_b_EGDP022204.jpg\n",
            "spark-3.0.2-bin-hadoop2.7/data/mllib/images/origin/\n",
            "spark-3.0.2-bin-hadoop2.7/data/mllib/images/origin/multi-channel/\n",
            "spark-3.0.2-bin-hadoop2.7/data/mllib/images/origin/multi-channel/grayscale.jpg\n",
            "spark-3.0.2-bin-hadoop2.7/data/mllib/images/origin/multi-channel/chr30.4.184.jpg\n",
            "spark-3.0.2-bin-hadoop2.7/data/mllib/images/origin/multi-channel/BGRA_alpha_60.png\n",
            "spark-3.0.2-bin-hadoop2.7/data/mllib/images/origin/multi-channel/BGRA.png\n",
            "spark-3.0.2-bin-hadoop2.7/data/mllib/images/origin/license.txt\n",
            "spark-3.0.2-bin-hadoop2.7/data/mllib/images/origin/kittens/\n",
            "spark-3.0.2-bin-hadoop2.7/data/mllib/images/origin/kittens/not-image.txt\n",
            "spark-3.0.2-bin-hadoop2.7/data/mllib/images/origin/kittens/DP802813.jpg\n",
            "spark-3.0.2-bin-hadoop2.7/data/mllib/images/origin/kittens/DP153539.jpg\n",
            "spark-3.0.2-bin-hadoop2.7/data/mllib/images/origin/kittens/54893.jpg\n",
            "spark-3.0.2-bin-hadoop2.7/data/mllib/images/origin/kittens/29.5.a_b_EGDP022204.jpg\n",
            "spark-3.0.2-bin-hadoop2.7/data/mllib/images/license.txt\n",
            "spark-3.0.2-bin-hadoop2.7/data/mllib/gmm_data.txt\n",
            "spark-3.0.2-bin-hadoop2.7/data/mllib/als/\n",
            "spark-3.0.2-bin-hadoop2.7/data/mllib/als/test.data\n",
            "spark-3.0.2-bin-hadoop2.7/data/mllib/als/sample_movielens_ratings.txt\n",
            "spark-3.0.2-bin-hadoop2.7/data/graphx/\n",
            "spark-3.0.2-bin-hadoop2.7/data/graphx/users.txt\n",
            "spark-3.0.2-bin-hadoop2.7/data/graphx/followers.txt\n",
            "spark-3.0.2-bin-hadoop2.7/NOTICE\n",
            "spark-3.0.2-bin-hadoop2.7/licenses/\n",
            "spark-3.0.2-bin-hadoop2.7/licenses/LICENSE-heapq.txt\n",
            "spark-3.0.2-bin-hadoop2.7/licenses/LICENSE-datatables.txt\n",
            "spark-3.0.2-bin-hadoop2.7/licenses/LICENSE-bootstrap.txt\n",
            "spark-3.0.2-bin-hadoop2.7/licenses/LICENSE-zstd.txt\n",
            "spark-3.0.2-bin-hadoop2.7/licenses/LICENSE-zstd-jni.txt\n",
            "spark-3.0.2-bin-hadoop2.7/licenses/LICENSE-xmlenc.txt\n",
            "spark-3.0.2-bin-hadoop2.7/licenses/LICENSE-vis-timeline.txt\n",
            "spark-3.0.2-bin-hadoop2.7/licenses/LICENSE-spire.txt\n",
            "spark-3.0.2-bin-hadoop2.7/licenses/LICENSE-sorttable.js.txt\n",
            "spark-3.0.2-bin-hadoop2.7/licenses/LICENSE-slf4j.txt\n",
            "spark-3.0.2-bin-hadoop2.7/licenses/LICENSE-scopt.txt\n",
            "spark-3.0.2-bin-hadoop2.7/licenses/LICENSE-scala.txt\n",
            "spark-3.0.2-bin-hadoop2.7/licenses/LICENSE-sbt-launch-lib.txt\n",
            "spark-3.0.2-bin-hadoop2.7/licenses/LICENSE-respond.txt\n",
            "spark-3.0.2-bin-hadoop2.7/licenses/LICENSE-reflectasm.txt\n",
            "spark-3.0.2-bin-hadoop2.7/licenses/LICENSE-re2j.txt\n",
            "spark-3.0.2-bin-hadoop2.7/licenses/LICENSE-pyrolite.txt\n",
            "spark-3.0.2-bin-hadoop2.7/licenses/LICENSE-py4j.txt\n",
            "spark-3.0.2-bin-hadoop2.7/licenses/LICENSE-protobuf.txt\n",
            "spark-3.0.2-bin-hadoop2.7/licenses/LICENSE-pmml-model.txt\n",
            "spark-3.0.2-bin-hadoop2.7/licenses/LICENSE-paranamer.txt\n",
            "spark-3.0.2-bin-hadoop2.7/licenses/LICENSE-netlib.txt\n",
            "spark-3.0.2-bin-hadoop2.7/licenses/LICENSE-mustache.txt\n",
            "spark-3.0.2-bin-hadoop2.7/licenses/LICENSE-modernizr.txt\n",
            "spark-3.0.2-bin-hadoop2.7/licenses/LICENSE-minlog.txt\n",
            "spark-3.0.2-bin-hadoop2.7/licenses/LICENSE-matchMedia-polyfill.txt\n",
            "spark-3.0.2-bin-hadoop2.7/licenses/LICENSE-machinist.txt\n",
            "spark-3.0.2-bin-hadoop2.7/licenses/LICENSE-leveldbjni.txt\n",
            "spark-3.0.2-bin-hadoop2.7/licenses/LICENSE-kryo.txt\n",
            "spark-3.0.2-bin-hadoop2.7/licenses/LICENSE-jsp-api.txt\n",
            "spark-3.0.2-bin-hadoop2.7/licenses/LICENSE-json-formatter.txt\n",
            "spark-3.0.2-bin-hadoop2.7/licenses/LICENSE-jquery.txt\n",
            "spark-3.0.2-bin-hadoop2.7/licenses/LICENSE-join.txt\n",
            "spark-3.0.2-bin-hadoop2.7/licenses/LICENSE-jodd.txt\n",
            "spark-3.0.2-bin-hadoop2.7/licenses/LICENSE-jline.txt\n",
            "spark-3.0.2-bin-hadoop2.7/licenses/LICENSE-jaxb-runtime.txt\n",
            "spark-3.0.2-bin-hadoop2.7/licenses/LICENSE-javolution.txt\n",
            "spark-3.0.2-bin-hadoop2.7/licenses/LICENSE-javax-transaction-transaction-api.txt\n",
            "spark-3.0.2-bin-hadoop2.7/licenses/LICENSE-javassist.html\n",
            "spark-3.0.2-bin-hadoop2.7/licenses/LICENSE-janino.txt\n",
            "spark-3.0.2-bin-hadoop2.7/licenses/LICENSE-jakarta.xml.bind-api.txt\n",
            "spark-3.0.2-bin-hadoop2.7/licenses/LICENSE-jakarta.activation-api.txt\n",
            "spark-3.0.2-bin-hadoop2.7/licenses/LICENSE-jakarta-ws-rs-api\n",
            "spark-3.0.2-bin-hadoop2.7/licenses/LICENSE-jakarta-annotation-api\n",
            "spark-3.0.2-bin-hadoop2.7/licenses/LICENSE-istack-commons-runtime.txt\n",
            "spark-3.0.2-bin-hadoop2.7/licenses/LICENSE-graphlib-dot.txt\n",
            "spark-3.0.2-bin-hadoop2.7/licenses/LICENSE-f2j.txt\n",
            "spark-3.0.2-bin-hadoop2.7/licenses/LICENSE-dnsjava.txt\n",
            "spark-3.0.2-bin-hadoop2.7/licenses/LICENSE-dagre-d3.txt\n",
            "spark-3.0.2-bin-hadoop2.7/licenses/LICENSE-d3.min.js.txt\n",
            "spark-3.0.2-bin-hadoop2.7/licenses/LICENSE-cloudpickle.txt\n",
            "spark-3.0.2-bin-hadoop2.7/licenses/LICENSE-automaton.txt\n",
            "spark-3.0.2-bin-hadoop2.7/licenses/LICENSE-arpack.txt\n",
            "spark-3.0.2-bin-hadoop2.7/licenses/LICENSE-antlr.txt\n",
            "spark-3.0.2-bin-hadoop2.7/licenses/LICENSE-JTransforms.txt\n",
            "spark-3.0.2-bin-hadoop2.7/licenses/LICENSE-JLargeArrays.txt\n",
            "spark-3.0.2-bin-hadoop2.7/licenses/LICENSE-CC0.txt\n",
            "spark-3.0.2-bin-hadoop2.7/licenses/LICENSE-AnchorJS.txt\n",
            "spark-3.0.2-bin-hadoop2.7/LICENSE\n",
            "spark-3.0.2-bin-hadoop2.7/examples/\n",
            "spark-3.0.2-bin-hadoop2.7/examples/src/\n",
            "spark-3.0.2-bin-hadoop2.7/examples/src/main/\n",
            "spark-3.0.2-bin-hadoop2.7/examples/src/main/python/\n",
            "spark-3.0.2-bin-hadoop2.7/examples/src/main/python/mllib/\n",
            "spark-3.0.2-bin-hadoop2.7/examples/src/main/python/mllib/gradient_boosting_regression_example.py\n",
            "spark-3.0.2-bin-hadoop2.7/examples/src/main/python/mllib/gradient_boosting_classification_example.py\n",
            "spark-3.0.2-bin-hadoop2.7/examples/src/main/python/mllib/gaussian_mixture_model.py\n",
            "spark-3.0.2-bin-hadoop2.7/examples/src/main/python/mllib/gaussian_mixture_example.py\n",
            "spark-3.0.2-bin-hadoop2.7/examples/src/main/python/mllib/elementwise_product_example.py\n",
            "spark-3.0.2-bin-hadoop2.7/examples/src/main/python/mllib/decision_tree_regression_example.py\n",
            "spark-3.0.2-bin-hadoop2.7/examples/src/main/python/mllib/decision_tree_classification_example.py\n",
            "spark-3.0.2-bin-hadoop2.7/examples/src/main/python/mllib/correlations_example.py\n",
            "spark-3.0.2-bin-hadoop2.7/examples/src/main/python/mllib/correlations.py\n",
            "spark-3.0.2-bin-hadoop2.7/examples/src/main/python/mllib/bisecting_k_means_example.py\n",
            "spark-3.0.2-bin-hadoop2.7/examples/src/main/python/mllib/binary_classification_metrics_example.py\n",
            "spark-3.0.2-bin-hadoop2.7/examples/src/main/python/mllib/svm_with_sgd_example.py\n",
            "spark-3.0.2-bin-hadoop2.7/examples/src/main/python/mllib/svd_example.py\n",
            "spark-3.0.2-bin-hadoop2.7/examples/src/main/python/mllib/regression_metrics_example.py\n",
            "spark-3.0.2-bin-hadoop2.7/examples/src/main/python/mllib/ranking_metrics_example.py\n",
            "spark-3.0.2-bin-hadoop2.7/examples/src/main/python/mllib/pca_rowmatrix_example.py\n",
            "spark-3.0.2-bin-hadoop2.7/examples/src/main/python/mllib/multi_label_metrics_example.py\n",
            "spark-3.0.2-bin-hadoop2.7/examples/src/main/python/mllib/multi_class_metrics_example.py\n",
            "spark-3.0.2-bin-hadoop2.7/examples/src/main/python/mllib/fpgrowth_example.py\n",
            "spark-3.0.2-bin-hadoop2.7/examples/src/main/python/mllib/word2vec_example.py\n",
            "spark-3.0.2-bin-hadoop2.7/examples/src/main/python/mllib/word2vec.py\n",
            "spark-3.0.2-bin-hadoop2.7/examples/src/main/python/mllib/tf_idf_example.py\n",
            "spark-3.0.2-bin-hadoop2.7/examples/src/main/python/mllib/summary_statistics_example.py\n",
            "spark-3.0.2-bin-hadoop2.7/examples/src/main/python/mllib/streaming_linear_regression_example.py\n",
            "spark-3.0.2-bin-hadoop2.7/examples/src/main/python/mllib/streaming_k_means_example.py\n",
            "spark-3.0.2-bin-hadoop2.7/examples/src/main/python/mllib/stratified_sampling_example.py\n",
            "spark-3.0.2-bin-hadoop2.7/examples/src/main/python/mllib/standard_scaler_example.py\n",
            "spark-3.0.2-bin-hadoop2.7/examples/src/main/python/mllib/sampled_rdds.py\n",
            "spark-3.0.2-bin-hadoop2.7/examples/src/main/python/mllib/recommendation_example.py\n",
            "spark-3.0.2-bin-hadoop2.7/examples/src/main/python/mllib/random_rdd_generation.py\n",
            "spark-3.0.2-bin-hadoop2.7/examples/src/main/python/mllib/random_forest_regression_example.py\n",
            "spark-3.0.2-bin-hadoop2.7/examples/src/main/python/mllib/random_forest_classification_example.py\n",
            "spark-3.0.2-bin-hadoop2.7/examples/src/main/python/mllib/power_iteration_clustering_example.py\n",
            "spark-3.0.2-bin-hadoop2.7/examples/src/main/python/mllib/normalizer_example.py\n",
            "spark-3.0.2-bin-hadoop2.7/examples/src/main/python/mllib/naive_bayes_example.py\n",
            "spark-3.0.2-bin-hadoop2.7/examples/src/main/python/mllib/logistic_regression_with_lbfgs_example.py\n",
            "spark-3.0.2-bin-hadoop2.7/examples/src/main/python/mllib/logistic_regression.py\n",
            "spark-3.0.2-bin-hadoop2.7/examples/src/main/python/mllib/linear_regression_with_sgd_example.py\n",
            "spark-3.0.2-bin-hadoop2.7/examples/src/main/python/mllib/latent_dirichlet_allocation_example.py\n",
            "spark-3.0.2-bin-hadoop2.7/examples/src/main/python/mllib/kmeans.py\n",
            "spark-3.0.2-bin-hadoop2.7/examples/src/main/python/mllib/kernel_density_estimation_example.py\n",
            "spark-3.0.2-bin-hadoop2.7/examples/src/main/python/mllib/k_means_example.py\n",
            "spark-3.0.2-bin-hadoop2.7/examples/src/main/python/mllib/isotonic_regression_example.py\n",
            "spark-3.0.2-bin-hadoop2.7/examples/src/main/python/mllib/hypothesis_testing_kolmogorov_smirnov_test_example.py\n",
            "spark-3.0.2-bin-hadoop2.7/examples/src/main/python/mllib/hypothesis_testing_example.py\n",
            "spark-3.0.2-bin-hadoop2.7/examples/src/main/python/ml/\n",
            "spark-3.0.2-bin-hadoop2.7/examples/src/main/python/ml/word2vec_example.py\n",
            "spark-3.0.2-bin-hadoop2.7/examples/src/main/python/ml/vector_slicer_example.py\n",
            "spark-3.0.2-bin-hadoop2.7/examples/src/main/python/ml/vector_size_hint_example.py\n",
            "spark-3.0.2-bin-hadoop2.7/examples/src/main/python/ml/vector_indexer_example.py\n",
            "spark-3.0.2-bin-hadoop2.7/examples/src/main/python/ml/vector_assembler_example.py\n",
            "spark-3.0.2-bin-hadoop2.7/examples/src/main/python/ml/tokenizer_example.py\n",
            "spark-3.0.2-bin-hadoop2.7/examples/src/main/python/ml/tf_idf_example.py\n",
            "spark-3.0.2-bin-hadoop2.7/examples/src/main/python/ml/summarizer_example.py\n",
            "spark-3.0.2-bin-hadoop2.7/examples/src/main/python/ml/string_indexer_example.py\n",
            "spark-3.0.2-bin-hadoop2.7/examples/src/main/python/ml/stopwords_remover_example.py\n",
            "spark-3.0.2-bin-hadoop2.7/examples/src/main/python/ml/standard_scaler_example.py\n",
            "spark-3.0.2-bin-hadoop2.7/examples/src/main/python/ml/sql_transformer.py\n",
            "spark-3.0.2-bin-hadoop2.7/examples/src/main/python/ml/robust_scaler_example.py\n",
            "spark-3.0.2-bin-hadoop2.7/examples/src/main/python/ml/rformula_example.py\n",
            "spark-3.0.2-bin-hadoop2.7/examples/src/main/python/ml/random_forest_regressor_example.py\n",
            "spark-3.0.2-bin-hadoop2.7/examples/src/main/python/ml/random_forest_classifier_example.py\n",
            "spark-3.0.2-bin-hadoop2.7/examples/src/main/python/ml/quantile_discretizer_example.py\n",
            "spark-3.0.2-bin-hadoop2.7/examples/src/main/python/ml/polynomial_expansion_example.py\n",
            "spark-3.0.2-bin-hadoop2.7/examples/src/main/python/ml/pipeline_example.py\n",
            "spark-3.0.2-bin-hadoop2.7/examples/src/main/python/ml/train_validation_split.py\n",
            "spark-3.0.2-bin-hadoop2.7/examples/src/main/python/ml/prefixspan_example.py\n",
            "spark-3.0.2-bin-hadoop2.7/examples/src/main/python/ml/power_iteration_clustering_example.py\n",
            "spark-3.0.2-bin-hadoop2.7/examples/src/main/python/ml/imputer_example.py\n",
            "spark-3.0.2-bin-hadoop2.7/examples/src/main/python/ml/fpgrowth_example.py\n",
            "spark-3.0.2-bin-hadoop2.7/examples/src/main/python/ml/pca_example.py\n",
            "spark-3.0.2-bin-hadoop2.7/examples/src/main/python/ml/onehot_encoder_example.py\n",
            "spark-3.0.2-bin-hadoop2.7/examples/src/main/python/ml/one_vs_rest_example.py\n",
            "spark-3.0.2-bin-hadoop2.7/examples/src/main/python/ml/normalizer_example.py\n",
            "spark-3.0.2-bin-hadoop2.7/examples/src/main/python/ml/naive_bayes_example.py\n",
            "spark-3.0.2-bin-hadoop2.7/examples/src/main/python/ml/n_gram_example.py\n",
            "spark-3.0.2-bin-hadoop2.7/examples/src/main/python/ml/multilayer_perceptron_classification.py\n",
            "spark-3.0.2-bin-hadoop2.7/examples/src/main/python/ml/multiclass_logistic_regression_with_elastic_net.py\n",
            "spark-3.0.2-bin-hadoop2.7/examples/src/main/python/ml/min_max_scaler_example.py\n",
            "spark-3.0.2-bin-hadoop2.7/examples/src/main/python/ml/min_hash_lsh_example.py\n",
            "spark-3.0.2-bin-hadoop2.7/examples/src/main/python/ml/max_abs_scaler_example.py\n",
            "spark-3.0.2-bin-hadoop2.7/examples/src/main/python/ml/logistic_regression_with_elastic_net.py\n",
            "spark-3.0.2-bin-hadoop2.7/examples/src/main/python/ml/logistic_regression_summary_example.py\n",
            "spark-3.0.2-bin-hadoop2.7/examples/src/main/python/ml/linearsvc.py\n",
            "spark-3.0.2-bin-hadoop2.7/examples/src/main/python/ml/linear_regression_with_elastic_net.py\n",
            "spark-3.0.2-bin-hadoop2.7/examples/src/main/python/ml/lda_example.py\n",
            "spark-3.0.2-bin-hadoop2.7/examples/src/main/python/ml/kmeans_example.py\n",
            "spark-3.0.2-bin-hadoop2.7/examples/src/main/python/ml/isotonic_regression_example.py\n",
            "spark-3.0.2-bin-hadoop2.7/examples/src/main/python/ml/interaction_example.py\n",
            "spark-3.0.2-bin-hadoop2.7/examples/src/main/python/ml/index_to_string_example.py\n",
            "spark-3.0.2-bin-hadoop2.7/examples/src/main/python/ml/gradient_boosted_tree_regressor_example.py\n",
            "spark-3.0.2-bin-hadoop2.7/examples/src/main/python/ml/gradient_boosted_tree_classifier_example.py\n",
            "spark-3.0.2-bin-hadoop2.7/examples/src/main/python/ml/generalized_linear_regression_example.py\n",
            "spark-3.0.2-bin-hadoop2.7/examples/src/main/python/ml/gaussian_mixture_example.py\n",
            "spark-3.0.2-bin-hadoop2.7/examples/src/main/python/ml/fm_regressor_example.py\n",
            "spark-3.0.2-bin-hadoop2.7/examples/src/main/python/ml/fm_classifier_example.py\n",
            "spark-3.0.2-bin-hadoop2.7/examples/src/main/python/ml/feature_hasher_example.py\n",
            "spark-3.0.2-bin-hadoop2.7/examples/src/main/python/ml/estimator_transformer_param_example.py\n",
            "spark-3.0.2-bin-hadoop2.7/examples/src/main/python/ml/elementwise_product_example.py\n",
            "spark-3.0.2-bin-hadoop2.7/examples/src/main/python/ml/decision_tree_regression_example.py\n",
            "spark-3.0.2-bin-hadoop2.7/examples/src/main/python/ml/decision_tree_classification_example.py\n",
            "spark-3.0.2-bin-hadoop2.7/examples/src/main/python/ml/dct_example.py\n",
            "spark-3.0.2-bin-hadoop2.7/examples/src/main/python/ml/dataframe_example.py\n",
            "spark-3.0.2-bin-hadoop2.7/examples/src/main/python/ml/cross_validator.py\n",
            "spark-3.0.2-bin-hadoop2.7/examples/src/main/python/ml/count_vectorizer_example.py\n",
            "spark-3.0.2-bin-hadoop2.7/examples/src/main/python/ml/correlation_example.py\n",
            "spark-3.0.2-bin-hadoop2.7/examples/src/main/python/ml/chisq_selector_example.py\n",
            "spark-3.0.2-bin-hadoop2.7/examples/src/main/python/ml/chi_square_test_example.py\n",
            "spark-3.0.2-bin-hadoop2.7/examples/src/main/python/ml/bucketizer_example.py\n",
            "spark-3.0.2-bin-hadoop2.7/examples/src/main/python/ml/bucketed_random_projection_lsh_example.py\n",
            "spark-3.0.2-bin-hadoop2.7/examples/src/main/python/ml/bisecting_k_means_example.py\n",
            "spark-3.0.2-bin-hadoop2.7/examples/src/main/python/ml/binarizer_example.py\n",
            "spark-3.0.2-bin-hadoop2.7/examples/src/main/python/ml/als_example.py\n",
            "spark-3.0.2-bin-hadoop2.7/examples/src/main/python/ml/aft_survival_regression.py\n",
            "spark-3.0.2-bin-hadoop2.7/examples/src/main/python/logistic_regression.py\n",
            "spark-3.0.2-bin-hadoop2.7/examples/src/main/python/kmeans.py\n",
            "spark-3.0.2-bin-hadoop2.7/examples/src/main/python/avro_inputformat.py\n",
            "spark-3.0.2-bin-hadoop2.7/examples/src/main/python/als.py\n",
            "spark-3.0.2-bin-hadoop2.7/examples/src/main/python/wordcount.py\n",
            "spark-3.0.2-bin-hadoop2.7/examples/src/main/python/transitive_closure.py\n",
            "spark-3.0.2-bin-hadoop2.7/examples/src/main/python/status_api_demo.py\n",
            "spark-3.0.2-bin-hadoop2.7/examples/src/main/python/sort.py\n",
            "spark-3.0.2-bin-hadoop2.7/examples/src/main/python/pi.py\n",
            "spark-3.0.2-bin-hadoop2.7/examples/src/main/python/parquet_inputformat.py\n",
            "spark-3.0.2-bin-hadoop2.7/examples/src/main/python/pagerank.py\n",
            "spark-3.0.2-bin-hadoop2.7/examples/src/main/python/streaming/\n",
            "spark-3.0.2-bin-hadoop2.7/examples/src/main/python/streaming/stateful_network_wordcount.py\n",
            "spark-3.0.2-bin-hadoop2.7/examples/src/main/python/streaming/sql_network_wordcount.py\n",
            "spark-3.0.2-bin-hadoop2.7/examples/src/main/python/streaming/recoverable_network_wordcount.py\n",
            "spark-3.0.2-bin-hadoop2.7/examples/src/main/python/streaming/network_wordjoinsentiments.py\n",
            "spark-3.0.2-bin-hadoop2.7/examples/src/main/python/streaming/network_wordcount.py\n",
            "spark-3.0.2-bin-hadoop2.7/examples/src/main/python/streaming/hdfs_wordcount.py\n",
            "spark-3.0.2-bin-hadoop2.7/examples/src/main/python/streaming/queue_stream.py\n",
            "spark-3.0.2-bin-hadoop2.7/examples/src/main/python/sql/\n",
            "spark-3.0.2-bin-hadoop2.7/examples/src/main/python/sql/hive.py\n",
            "spark-3.0.2-bin-hadoop2.7/examples/src/main/python/sql/datasource.py\n",
            "spark-3.0.2-bin-hadoop2.7/examples/src/main/python/sql/basic.py\n",
            "spark-3.0.2-bin-hadoop2.7/examples/src/main/python/sql/arrow.py\n",
            "spark-3.0.2-bin-hadoop2.7/examples/src/main/python/sql/streaming/\n",
            "spark-3.0.2-bin-hadoop2.7/examples/src/main/python/sql/streaming/structured_network_wordcount_windowed.py\n",
            "spark-3.0.2-bin-hadoop2.7/examples/src/main/python/sql/streaming/structured_network_wordcount.py\n",
            "spark-3.0.2-bin-hadoop2.7/examples/src/main/python/sql/streaming/structured_kafka_wordcount.py\n",
            "spark-3.0.2-bin-hadoop2.7/examples/src/main/java/\n",
            "spark-3.0.2-bin-hadoop2.7/examples/src/main/java/org/\n",
            "spark-3.0.2-bin-hadoop2.7/examples/src/main/java/org/apache/\n",
            "spark-3.0.2-bin-hadoop2.7/examples/src/main/java/org/apache/spark/\n",
            "spark-3.0.2-bin-hadoop2.7/examples/src/main/java/org/apache/spark/examples/\n",
            "spark-3.0.2-bin-hadoop2.7/examples/src/main/java/org/apache/spark/examples/streaming/\n",
            "spark-3.0.2-bin-hadoop2.7/examples/src/main/java/org/apache/spark/examples/streaming/JavaStatefulNetworkWordCount.java\n",
            "spark-3.0.2-bin-hadoop2.7/examples/src/main/java/org/apache/spark/examples/streaming/JavaSqlNetworkWordCount.java\n",
            "spark-3.0.2-bin-hadoop2.7/examples/src/main/java/org/apache/spark/examples/streaming/JavaRecord.java\n",
            "spark-3.0.2-bin-hadoop2.7/examples/src/main/java/org/apache/spark/examples/streaming/JavaQueueStream.java\n",
            "spark-3.0.2-bin-hadoop2.7/examples/src/main/java/org/apache/spark/examples/streaming/JavaNetworkWordCount.java\n",
            "spark-3.0.2-bin-hadoop2.7/examples/src/main/java/org/apache/spark/examples/streaming/JavaDirectKerberizedKafkaWordCount.java\n",
            "spark-3.0.2-bin-hadoop2.7/examples/src/main/java/org/apache/spark/examples/streaming/JavaDirectKafkaWordCount.java\n",
            "spark-3.0.2-bin-hadoop2.7/examples/src/main/java/org/apache/spark/examples/streaming/JavaCustomReceiver.java\n",
            "spark-3.0.2-bin-hadoop2.7/examples/src/main/java/org/apache/spark/examples/streaming/JavaRecoverableNetworkWordCount.java\n",
            "spark-3.0.2-bin-hadoop2.7/examples/src/main/java/org/apache/spark/examples/sql/\n",
            "spark-3.0.2-bin-hadoop2.7/examples/src/main/java/org/apache/spark/examples/sql/streaming/\n",
            "spark-3.0.2-bin-hadoop2.7/examples/src/main/java/org/apache/spark/examples/sql/streaming/JavaStructuredSessionization.java\n",
            "spark-3.0.2-bin-hadoop2.7/examples/src/main/java/org/apache/spark/examples/sql/streaming/JavaStructuredNetworkWordCountWindowed.java\n",
            "spark-3.0.2-bin-hadoop2.7/examples/src/main/java/org/apache/spark/examples/sql/streaming/JavaStructuredNetworkWordCount.java\n",
            "spark-3.0.2-bin-hadoop2.7/examples/src/main/java/org/apache/spark/examples/sql/streaming/JavaStructuredKerberizedKafkaWordCount.java\n",
            "spark-3.0.2-bin-hadoop2.7/examples/src/main/java/org/apache/spark/examples/sql/streaming/JavaStructuredKafkaWordCount.java\n",
            "spark-3.0.2-bin-hadoop2.7/examples/src/main/java/org/apache/spark/examples/sql/hive/\n",
            "spark-3.0.2-bin-hadoop2.7/examples/src/main/java/org/apache/spark/examples/sql/hive/JavaSparkHiveExample.java\n",
            "spark-3.0.2-bin-hadoop2.7/examples/src/main/java/org/apache/spark/examples/sql/JavaUserDefinedUntypedAggregation.java\n",
            "spark-3.0.2-bin-hadoop2.7/examples/src/main/java/org/apache/spark/examples/sql/JavaUserDefinedTypedAggregation.java\n",
            "spark-3.0.2-bin-hadoop2.7/examples/src/main/java/org/apache/spark/examples/sql/JavaUserDefinedScalar.java\n",
            "spark-3.0.2-bin-hadoop2.7/examples/src/main/java/org/apache/spark/examples/sql/JavaSparkSQLExample.java\n",
            "spark-3.0.2-bin-hadoop2.7/examples/src/main/java/org/apache/spark/examples/sql/JavaSQLDataSourceExample.java\n",
            "spark-3.0.2-bin-hadoop2.7/examples/src/main/java/org/apache/spark/examples/mllib/\n",
            "spark-3.0.2-bin-hadoop2.7/examples/src/main/java/org/apache/spark/examples/mllib/JavaSummaryStatisticsExample.java\n",
            "spark-3.0.2-bin-hadoop2.7/examples/src/main/java/org/apache/spark/examples/mllib/JavaStreamingTestExample.java\n",
            "spark-3.0.2-bin-hadoop2.7/examples/src/main/java/org/apache/spark/examples/mllib/JavaStratifiedSamplingExample.java\n",
            "spark-3.0.2-bin-hadoop2.7/examples/src/main/java/org/apache/spark/examples/mllib/JavaSimpleFPGrowth.java\n",
            "spark-3.0.2-bin-hadoop2.7/examples/src/main/java/org/apache/spark/examples/mllib/JavaSVMWithSGDExample.java\n",
            "spark-3.0.2-bin-hadoop2.7/examples/src/main/java/org/apache/spark/examples/mllib/JavaSVDExample.java\n",
            "spark-3.0.2-bin-hadoop2.7/examples/src/main/java/org/apache/spark/examples/mllib/JavaRecommendationExample.java\n",
            "spark-3.0.2-bin-hadoop2.7/examples/src/main/java/org/apache/spark/examples/mllib/JavaRankingMetricsExample.java\n",
            "spark-3.0.2-bin-hadoop2.7/examples/src/main/java/org/apache/spark/examples/mllib/JavaRandomForestRegressionExample.java\n",
            "spark-3.0.2-bin-hadoop2.7/examples/src/main/java/org/apache/spark/examples/mllib/JavaRandomForestClassificationExample.java\n",
            "spark-3.0.2-bin-hadoop2.7/examples/src/main/java/org/apache/spark/examples/mllib/JavaPrefixSpanExample.java\n",
            "spark-3.0.2-bin-hadoop2.7/examples/src/main/java/org/apache/spark/examples/mllib/JavaPowerIterationClusteringExample.java\n",
            "spark-3.0.2-bin-hadoop2.7/examples/src/main/java/org/apache/spark/examples/mllib/JavaPCAExample.java\n",
            "spark-3.0.2-bin-hadoop2.7/examples/src/main/java/org/apache/spark/examples/mllib/JavaNaiveBayesExample.java\n",
            "spark-3.0.2-bin-hadoop2.7/examples/src/main/java/org/apache/spark/examples/mllib/JavaMulticlassClassificationMetricsExample.java\n",
            "spark-3.0.2-bin-hadoop2.7/examples/src/main/java/org/apache/spark/examples/mllib/JavaMultiLabelClassificationMetricsExample.java\n",
            "spark-3.0.2-bin-hadoop2.7/examples/src/main/java/org/apache/spark/examples/mllib/JavaLogisticRegressionWithLBFGSExample.java\n",
            "spark-3.0.2-bin-hadoop2.7/examples/src/main/java/org/apache/spark/examples/mllib/JavaLatentDirichletAllocationExample.java\n",
            "spark-3.0.2-bin-hadoop2.7/examples/src/main/java/org/apache/spark/examples/mllib/JavaLBFGSExample.java\n",
            "spark-3.0.2-bin-hadoop2.7/examples/src/main/java/org/apache/spark/examples/mllib/JavaKernelDensityEstimationExample.java\n",
            "spark-3.0.2-bin-hadoop2.7/examples/src/main/java/org/apache/spark/examples/mllib/JavaKMeansExample.java\n",
            "spark-3.0.2-bin-hadoop2.7/examples/src/main/java/org/apache/spark/examples/mllib/JavaIsotonicRegressionExample.java\n",
            "spark-3.0.2-bin-hadoop2.7/examples/src/main/java/org/apache/spark/examples/mllib/JavaHypothesisTestingKolmogorovSmirnovTestExample.java\n",
            "spark-3.0.2-bin-hadoop2.7/examples/src/main/java/org/apache/spark/examples/mllib/JavaHypothesisTestingExample.java\n",
            "spark-3.0.2-bin-hadoop2.7/examples/src/main/java/org/apache/spark/examples/mllib/JavaGradientBoostingRegressionExample.java\n",
            "spark-3.0.2-bin-hadoop2.7/examples/src/main/java/org/apache/spark/examples/mllib/JavaGradientBoostingClassificationExample.java\n",
            "spark-3.0.2-bin-hadoop2.7/examples/src/main/java/org/apache/spark/examples/mllib/JavaGaussianMixtureExample.java\n",
            "spark-3.0.2-bin-hadoop2.7/examples/src/main/java/org/apache/spark/examples/mllib/JavaElementwiseProductExample.java\n",
            "spark-3.0.2-bin-hadoop2.7/examples/src/main/java/org/apache/spark/examples/mllib/JavaDecisionTreeRegressionExample.java\n",
            "spark-3.0.2-bin-hadoop2.7/examples/src/main/java/org/apache/spark/examples/mllib/JavaDecisionTreeClassificationExample.java\n",
            "spark-3.0.2-bin-hadoop2.7/examples/src/main/java/org/apache/spark/examples/mllib/JavaCorrelationsExample.java\n",
            "spark-3.0.2-bin-hadoop2.7/examples/src/main/java/org/apache/spark/examples/mllib/JavaChiSqSelectorExample.java\n",
            "spark-3.0.2-bin-hadoop2.7/examples/src/main/java/org/apache/spark/examples/mllib/JavaBisectingKMeansExample.java\n",
            "spark-3.0.2-bin-hadoop2.7/examples/src/main/java/org/apache/spark/examples/mllib/JavaBinaryClassificationMetricsExample.java\n",
            "spark-3.0.2-bin-hadoop2.7/examples/src/main/java/org/apache/spark/examples/mllib/JavaAssociationRulesExample.java\n",
            "spark-3.0.2-bin-hadoop2.7/examples/src/main/java/org/apache/spark/examples/mllib/JavaALS.java\n",
            "spark-3.0.2-bin-hadoop2.7/examples/src/main/java/org/apache/spark/examples/ml/\n",
            "spark-3.0.2-bin-hadoop2.7/examples/src/main/java/org/apache/spark/examples/ml/JavaWord2VecExample.java\n",
            "spark-3.0.2-bin-hadoop2.7/examples/src/main/java/org/apache/spark/examples/ml/JavaVectorSlicerExample.java\n",
            "spark-3.0.2-bin-hadoop2.7/examples/src/main/java/org/apache/spark/examples/ml/JavaVectorSizeHintExample.java\n",
            "spark-3.0.2-bin-hadoop2.7/examples/src/main/java/org/apache/spark/examples/ml/JavaVectorIndexerExample.java\n",
            "spark-3.0.2-bin-hadoop2.7/examples/src/main/java/org/apache/spark/examples/ml/JavaVectorAssemblerExample.java\n",
            "spark-3.0.2-bin-hadoop2.7/examples/src/main/java/org/apache/spark/examples/ml/JavaTfIdfExample.java\n",
            "spark-3.0.2-bin-hadoop2.7/examples/src/main/java/org/apache/spark/examples/ml/JavaSummarizerExample.java\n",
            "spark-3.0.2-bin-hadoop2.7/examples/src/main/java/org/apache/spark/examples/ml/JavaStringIndexerExample.java\n",
            "spark-3.0.2-bin-hadoop2.7/examples/src/main/java/org/apache/spark/examples/ml/JavaStopWordsRemoverExample.java\n",
            "spark-3.0.2-bin-hadoop2.7/examples/src/main/java/org/apache/spark/examples/ml/JavaStandardScalerExample.java\n",
            "spark-3.0.2-bin-hadoop2.7/examples/src/main/java/org/apache/spark/examples/ml/JavaSQLTransformerExample.java\n",
            "spark-3.0.2-bin-hadoop2.7/examples/src/main/java/org/apache/spark/examples/ml/JavaRobustScalerExample.java\n",
            "spark-3.0.2-bin-hadoop2.7/examples/src/main/java/org/apache/spark/examples/ml/JavaRandomForestRegressorExample.java\n",
            "spark-3.0.2-bin-hadoop2.7/examples/src/main/java/org/apache/spark/examples/ml/JavaRandomForestClassifierExample.java\n",
            "spark-3.0.2-bin-hadoop2.7/examples/src/main/java/org/apache/spark/examples/ml/JavaRFormulaExample.java\n",
            "spark-3.0.2-bin-hadoop2.7/examples/src/main/java/org/apache/spark/examples/ml/JavaQuantileDiscretizerExample.java\n",
            "spark-3.0.2-bin-hadoop2.7/examples/src/main/java/org/apache/spark/examples/ml/JavaPrefixSpanExample.java\n",
            "spark-3.0.2-bin-hadoop2.7/examples/src/main/java/org/apache/spark/examples/ml/JavaPowerIterationClusteringExample.java\n",
            "spark-3.0.2-bin-hadoop2.7/examples/src/main/java/org/apache/spark/examples/ml/JavaPolynomialExpansionExample.java\n",
            "spark-3.0.2-bin-hadoop2.7/examples/src/main/java/org/apache/spark/examples/ml/JavaPipelineExample.java\n",
            "spark-3.0.2-bin-hadoop2.7/examples/src/main/java/org/apache/spark/examples/ml/JavaPCAExample.java\n",
            "spark-3.0.2-bin-hadoop2.7/examples/src/main/java/org/apache/spark/examples/ml/JavaOneVsRestExample.java\n",
            "spark-3.0.2-bin-hadoop2.7/examples/src/main/java/org/apache/spark/examples/ml/JavaOneHotEncoderExample.java\n",
            "spark-3.0.2-bin-hadoop2.7/examples/src/main/java/org/apache/spark/examples/ml/JavaNormalizerExample.java\n",
            "spark-3.0.2-bin-hadoop2.7/examples/src/main/java/org/apache/spark/examples/ml/JavaNaiveBayesExample.java\n",
            "spark-3.0.2-bin-hadoop2.7/examples/src/main/java/org/apache/spark/examples/ml/JavaNGramExample.java\n",
            "spark-3.0.2-bin-hadoop2.7/examples/src/main/java/org/apache/spark/examples/ml/JavaMultilayerPerceptronClassifierExample.java\n",
            "spark-3.0.2-bin-hadoop2.7/examples/src/main/java/org/apache/spark/examples/ml/JavaMulticlassLogisticRegressionWithElasticNetExample.java\n",
            "spark-3.0.2-bin-hadoop2.7/examples/src/main/java/org/apache/spark/examples/ml/JavaModelSelectionViaTrainValidationSplitExample.java\n",
            "spark-3.0.2-bin-hadoop2.7/examples/src/main/java/org/apache/spark/examples/ml/JavaModelSelectionViaCrossValidationExample.java\n",
            "spark-3.0.2-bin-hadoop2.7/examples/src/main/java/org/apache/spark/examples/ml/JavaMinMaxScalerExample.java\n",
            "spark-3.0.2-bin-hadoop2.7/examples/src/main/java/org/apache/spark/examples/ml/JavaMinHashLSHExample.java\n",
            "spark-3.0.2-bin-hadoop2.7/examples/src/main/java/org/apache/spark/examples/ml/JavaMaxAbsScalerExample.java\n",
            "spark-3.0.2-bin-hadoop2.7/examples/src/main/java/org/apache/spark/examples/ml/JavaLogisticRegressionWithElasticNetExample.java\n",
            "spark-3.0.2-bin-hadoop2.7/examples/src/main/java/org/apache/spark/examples/ml/JavaLogisticRegressionSummaryExample.java\n",
            "spark-3.0.2-bin-hadoop2.7/examples/src/main/java/org/apache/spark/examples/ml/JavaLinearSVCExample.java\n",
            "spark-3.0.2-bin-hadoop2.7/examples/src/main/java/org/apache/spark/examples/ml/JavaLinearRegressionWithElasticNetExample.java\n",
            "spark-3.0.2-bin-hadoop2.7/examples/src/main/java/org/apache/spark/examples/ml/JavaLabeledDocument.java\n",
            "spark-3.0.2-bin-hadoop2.7/examples/src/main/java/org/apache/spark/examples/ml/JavaLDAExample.java\n",
            "spark-3.0.2-bin-hadoop2.7/examples/src/main/java/org/apache/spark/examples/ml/JavaKMeansExample.java\n",
            "spark-3.0.2-bin-hadoop2.7/examples/src/main/java/org/apache/spark/examples/ml/JavaIsotonicRegressionExample.java\n",
            "spark-3.0.2-bin-hadoop2.7/examples/src/main/java/org/apache/spark/examples/ml/JavaInteractionExample.java\n",
            "spark-3.0.2-bin-hadoop2.7/examples/src/main/java/org/apache/spark/examples/ml/JavaIndexToStringExample.java\n",
            "spark-3.0.2-bin-hadoop2.7/examples/src/main/java/org/apache/spark/examples/ml/JavaImputerExample.java\n",
            "spark-3.0.2-bin-hadoop2.7/examples/src/main/java/org/apache/spark/examples/ml/JavaGradientBoostedTreeRegressorExample.java\n",
            "spark-3.0.2-bin-hadoop2.7/examples/src/main/java/org/apache/spark/examples/ml/JavaGradientBoostedTreeClassifierExample.java\n",
            "spark-3.0.2-bin-hadoop2.7/examples/src/main/java/org/apache/spark/examples/ml/JavaGeneralizedLinearRegressionExample.java\n",
            "spark-3.0.2-bin-hadoop2.7/examples/src/main/java/org/apache/spark/examples/ml/JavaGaussianMixtureExample.java\n",
            "spark-3.0.2-bin-hadoop2.7/examples/src/main/java/org/apache/spark/examples/ml/JavaFeatureHasherExample.java\n",
            "spark-3.0.2-bin-hadoop2.7/examples/src/main/java/org/apache/spark/examples/ml/JavaFPGrowthExample.java\n",
            "spark-3.0.2-bin-hadoop2.7/examples/src/main/java/org/apache/spark/examples/ml/JavaFMRegressorExample.java\n",
            "spark-3.0.2-bin-hadoop2.7/examples/src/main/java/org/apache/spark/examples/ml/JavaFMClassifierExample.java\n",
            "spark-3.0.2-bin-hadoop2.7/examples/src/main/java/org/apache/spark/examples/ml/JavaEstimatorTransformerParamExample.java\n",
            "spark-3.0.2-bin-hadoop2.7/examples/src/main/java/org/apache/spark/examples/ml/JavaElementwiseProductExample.java\n",
            "spark-3.0.2-bin-hadoop2.7/examples/src/main/java/org/apache/spark/examples/ml/JavaDocument.java\n",
            "spark-3.0.2-bin-hadoop2.7/examples/src/main/java/org/apache/spark/examples/ml/JavaDecisionTreeRegressionExample.java\n",
            "spark-3.0.2-bin-hadoop2.7/examples/src/main/java/org/apache/spark/examples/ml/JavaDecisionTreeClassificationExample.java\n",
            "spark-3.0.2-bin-hadoop2.7/examples/src/main/java/org/apache/spark/examples/ml/JavaDCTExample.java\n",
            "spark-3.0.2-bin-hadoop2.7/examples/src/main/java/org/apache/spark/examples/ml/JavaCountVectorizerExample.java\n",
            "spark-3.0.2-bin-hadoop2.7/examples/src/main/java/org/apache/spark/examples/ml/JavaCorrelationExample.java\n",
            "spark-3.0.2-bin-hadoop2.7/examples/src/main/java/org/apache/spark/examples/ml/JavaChiSquareTestExample.java\n",
            "spark-3.0.2-bin-hadoop2.7/examples/src/main/java/org/apache/spark/examples/ml/JavaChiSqSelectorExample.java\n",
            "spark-3.0.2-bin-hadoop2.7/examples/src/main/java/org/apache/spark/examples/ml/JavaBucketizerExample.java\n",
            "spark-3.0.2-bin-hadoop2.7/examples/src/main/java/org/apache/spark/examples/ml/JavaBucketedRandomProjectionLSHExample.java\n",
            "spark-3.0.2-bin-hadoop2.7/examples/src/main/java/org/apache/spark/examples/ml/JavaBisectingKMeansExample.java\n",
            "spark-3.0.2-bin-hadoop2.7/examples/src/main/java/org/apache/spark/examples/ml/JavaBinarizerExample.java\n",
            "spark-3.0.2-bin-hadoop2.7/examples/src/main/java/org/apache/spark/examples/ml/JavaALSExample.java\n",
            "spark-3.0.2-bin-hadoop2.7/examples/src/main/java/org/apache/spark/examples/ml/JavaAFTSurvivalRegressionExample.java\n",
            "spark-3.0.2-bin-hadoop2.7/examples/src/main/java/org/apache/spark/examples/ml/JavaTokenizerExample.java\n",
            "spark-3.0.2-bin-hadoop2.7/examples/src/main/java/org/apache/spark/examples/JavaWordCount.java\n",
            "spark-3.0.2-bin-hadoop2.7/examples/src/main/java/org/apache/spark/examples/JavaTC.java\n",
            "spark-3.0.2-bin-hadoop2.7/examples/src/main/java/org/apache/spark/examples/JavaStatusTrackerDemo.java\n",
            "spark-3.0.2-bin-hadoop2.7/examples/src/main/java/org/apache/spark/examples/JavaSparkPi.java\n",
            "spark-3.0.2-bin-hadoop2.7/examples/src/main/java/org/apache/spark/examples/JavaPageRank.java\n",
            "spark-3.0.2-bin-hadoop2.7/examples/src/main/java/org/apache/spark/examples/JavaLogQuery.java\n",
            "spark-3.0.2-bin-hadoop2.7/examples/src/main/java/org/apache/spark/examples/JavaHdfsLR.java\n",
            "spark-3.0.2-bin-hadoop2.7/examples/src/main/scripts/\n",
            "spark-3.0.2-bin-hadoop2.7/examples/src/main/scripts/getGpusResources.sh\n",
            "spark-3.0.2-bin-hadoop2.7/examples/src/main/scala/\n",
            "spark-3.0.2-bin-hadoop2.7/examples/src/main/scala/org/\n",
            "spark-3.0.2-bin-hadoop2.7/examples/src/main/scala/org/apache/\n",
            "spark-3.0.2-bin-hadoop2.7/examples/src/main/scala/org/apache/spark/\n",
            "spark-3.0.2-bin-hadoop2.7/examples/src/main/scala/org/apache/spark/examples/\n",
            "spark-3.0.2-bin-hadoop2.7/examples/src/main/scala/org/apache/spark/examples/SparkKMeans.scala\n",
            "spark-3.0.2-bin-hadoop2.7/examples/src/main/scala/org/apache/spark/examples/LocalKMeans.scala\n",
            "spark-3.0.2-bin-hadoop2.7/examples/src/main/scala/org/apache/spark/examples/streaming/\n",
            "spark-3.0.2-bin-hadoop2.7/examples/src/main/scala/org/apache/spark/examples/streaming/RecoverableNetworkWordCount.scala\n",
            "spark-3.0.2-bin-hadoop2.7/examples/src/main/scala/org/apache/spark/examples/streaming/clickstream/\n",
            "spark-3.0.2-bin-hadoop2.7/examples/src/main/scala/org/apache/spark/examples/streaming/clickstream/PageViewStream.scala\n",
            "spark-3.0.2-bin-hadoop2.7/examples/src/main/scala/org/apache/spark/examples/streaming/clickstream/PageViewGenerator.scala\n",
            "spark-3.0.2-bin-hadoop2.7/examples/src/main/scala/org/apache/spark/examples/streaming/StreamingExamples.scala\n",
            "spark-3.0.2-bin-hadoop2.7/examples/src/main/scala/org/apache/spark/examples/streaming/StatefulNetworkWordCount.scala\n",
            "spark-3.0.2-bin-hadoop2.7/examples/src/main/scala/org/apache/spark/examples/streaming/SqlNetworkWordCount.scala\n",
            "spark-3.0.2-bin-hadoop2.7/examples/src/main/scala/org/apache/spark/examples/streaming/RawNetworkGrep.scala\n",
            "spark-3.0.2-bin-hadoop2.7/examples/src/main/scala/org/apache/spark/examples/streaming/QueueStream.scala\n",
            "spark-3.0.2-bin-hadoop2.7/examples/src/main/scala/org/apache/spark/examples/streaming/NetworkWordCount.scala\n",
            "spark-3.0.2-bin-hadoop2.7/examples/src/main/scala/org/apache/spark/examples/streaming/HdfsWordCount.scala\n",
            "spark-3.0.2-bin-hadoop2.7/examples/src/main/scala/org/apache/spark/examples/streaming/DirectKerberizedKafkaWordCount.scala\n",
            "spark-3.0.2-bin-hadoop2.7/examples/src/main/scala/org/apache/spark/examples/streaming/DirectKafkaWordCount.scala\n",
            "spark-3.0.2-bin-hadoop2.7/examples/src/main/scala/org/apache/spark/examples/streaming/CustomReceiver.scala\n",
            "spark-3.0.2-bin-hadoop2.7/examples/src/main/scala/org/apache/spark/examples/sql/\n",
            "spark-3.0.2-bin-hadoop2.7/examples/src/main/scala/org/apache/spark/examples/sql/SparkSQLExample.scala\n",
            "spark-3.0.2-bin-hadoop2.7/examples/src/main/scala/org/apache/spark/examples/sql/SQLDataSourceExample.scala\n",
            "spark-3.0.2-bin-hadoop2.7/examples/src/main/scala/org/apache/spark/examples/sql/streaming/\n",
            "spark-3.0.2-bin-hadoop2.7/examples/src/main/scala/org/apache/spark/examples/sql/streaming/StructuredSessionization.scala\n",
            "spark-3.0.2-bin-hadoop2.7/examples/src/main/scala/org/apache/spark/examples/sql/streaming/StructuredNetworkWordCountWindowed.scala\n",
            "spark-3.0.2-bin-hadoop2.7/examples/src/main/scala/org/apache/spark/examples/sql/streaming/StructuredNetworkWordCount.scala\n",
            "spark-3.0.2-bin-hadoop2.7/examples/src/main/scala/org/apache/spark/examples/sql/streaming/StructuredKerberizedKafkaWordCount.scala\n",
            "spark-3.0.2-bin-hadoop2.7/examples/src/main/scala/org/apache/spark/examples/sql/streaming/StructuredKafkaWordCount.scala\n",
            "spark-3.0.2-bin-hadoop2.7/examples/src/main/scala/org/apache/spark/examples/sql/hive/\n",
            "spark-3.0.2-bin-hadoop2.7/examples/src/main/scala/org/apache/spark/examples/sql/hive/SparkHiveExample.scala\n",
            "spark-3.0.2-bin-hadoop2.7/examples/src/main/scala/org/apache/spark/examples/sql/UserDefinedUntypedAggregation.scala\n",
            "spark-3.0.2-bin-hadoop2.7/examples/src/main/scala/org/apache/spark/examples/sql/UserDefinedTypedAggregation.scala\n",
            "spark-3.0.2-bin-hadoop2.7/examples/src/main/scala/org/apache/spark/examples/sql/UserDefinedScalar.scala\n",
            "spark-3.0.2-bin-hadoop2.7/examples/src/main/scala/org/apache/spark/examples/sql/SimpleTypedAggregator.scala\n",
            "spark-3.0.2-bin-hadoop2.7/examples/src/main/scala/org/apache/spark/examples/sql/RDDRelation.scala\n",
            "spark-3.0.2-bin-hadoop2.7/examples/src/main/scala/org/apache/spark/examples/pythonconverters/\n",
            "spark-3.0.2-bin-hadoop2.7/examples/src/main/scala/org/apache/spark/examples/pythonconverters/AvroConverters.scala\n",
            "spark-3.0.2-bin-hadoop2.7/examples/src/main/scala/org/apache/spark/examples/mllib/\n",
            "spark-3.0.2-bin-hadoop2.7/examples/src/main/scala/org/apache/spark/examples/mllib/RankingMetricsExample.scala\n",
            "spark-3.0.2-bin-hadoop2.7/examples/src/main/scala/org/apache/spark/examples/mllib/Word2VecExample.scala\n",
            "spark-3.0.2-bin-hadoop2.7/examples/src/main/scala/org/apache/spark/examples/mllib/TallSkinnySVD.scala\n",
            "spark-3.0.2-bin-hadoop2.7/examples/src/main/scala/org/apache/spark/examples/mllib/TallSkinnyPCA.scala\n",
            "spark-3.0.2-bin-hadoop2.7/examples/src/main/scala/org/apache/spark/examples/mllib/TFIDFExample.scala\n",
            "spark-3.0.2-bin-hadoop2.7/examples/src/main/scala/org/apache/spark/examples/mllib/SummaryStatisticsExample.scala\n",
            "spark-3.0.2-bin-hadoop2.7/examples/src/main/scala/org/apache/spark/examples/mllib/StreamingTestExample.scala\n",
            "spark-3.0.2-bin-hadoop2.7/examples/src/main/scala/org/apache/spark/examples/mllib/StreamingLogisticRegression.scala\n",
            "spark-3.0.2-bin-hadoop2.7/examples/src/main/scala/org/apache/spark/examples/mllib/StreamingLinearRegressionExample.scala\n",
            "spark-3.0.2-bin-hadoop2.7/examples/src/main/scala/org/apache/spark/examples/mllib/StreamingKMeansExample.scala\n",
            "spark-3.0.2-bin-hadoop2.7/examples/src/main/scala/org/apache/spark/examples/mllib/StratifiedSamplingExample.scala\n",
            "spark-3.0.2-bin-hadoop2.7/examples/src/main/scala/org/apache/spark/examples/mllib/StandardScalerExample.scala\n",
            "spark-3.0.2-bin-hadoop2.7/examples/src/main/scala/org/apache/spark/examples/mllib/SparseNaiveBayes.scala\n",
            "spark-3.0.2-bin-hadoop2.7/examples/src/main/scala/org/apache/spark/examples/mllib/SimpleFPGrowth.scala\n",
            "spark-3.0.2-bin-hadoop2.7/examples/src/main/scala/org/apache/spark/examples/mllib/SampledRDDs.scala\n",
            "spark-3.0.2-bin-hadoop2.7/examples/src/main/scala/org/apache/spark/examples/mllib/SVMWithSGDExample.scala\n",
            "spark-3.0.2-bin-hadoop2.7/examples/src/main/scala/org/apache/spark/examples/mllib/SVDExample.scala\n",
            "spark-3.0.2-bin-hadoop2.7/examples/src/main/scala/org/apache/spark/examples/mllib/RecommendationExample.scala\n",
            "spark-3.0.2-bin-hadoop2.7/examples/src/main/scala/org/apache/spark/examples/mllib/RandomRDDGeneration.scala\n",
            "spark-3.0.2-bin-hadoop2.7/examples/src/main/scala/org/apache/spark/examples/mllib/RandomForestRegressionExample.scala\n",
            "spark-3.0.2-bin-hadoop2.7/examples/src/main/scala/org/apache/spark/examples/mllib/RandomForestClassificationExample.scala\n",
            "spark-3.0.2-bin-hadoop2.7/examples/src/main/scala/org/apache/spark/examples/mllib/PrefixSpanExample.scala\n",
            "spark-3.0.2-bin-hadoop2.7/examples/src/main/scala/org/apache/spark/examples/mllib/PowerIterationClusteringExample.scala\n",
            "spark-3.0.2-bin-hadoop2.7/examples/src/main/scala/org/apache/spark/examples/mllib/PMMLModelExportExample.scala\n",
            "spark-3.0.2-bin-hadoop2.7/examples/src/main/scala/org/apache/spark/examples/mllib/PCAOnSourceVectorExample.scala\n",
            "spark-3.0.2-bin-hadoop2.7/examples/src/main/scala/org/apache/spark/examples/mllib/PCAOnRowMatrixExample.scala\n",
            "spark-3.0.2-bin-hadoop2.7/examples/src/main/scala/org/apache/spark/examples/mllib/NormalizerExample.scala\n",
            "spark-3.0.2-bin-hadoop2.7/examples/src/main/scala/org/apache/spark/examples/mllib/NaiveBayesExample.scala\n",
            "spark-3.0.2-bin-hadoop2.7/examples/src/main/scala/org/apache/spark/examples/mllib/MultivariateSummarizer.scala\n",
            "spark-3.0.2-bin-hadoop2.7/examples/src/main/scala/org/apache/spark/examples/mllib/MulticlassMetricsExample.scala\n",
            "spark-3.0.2-bin-hadoop2.7/examples/src/main/scala/org/apache/spark/examples/mllib/MultiLabelMetricsExample.scala\n",
            "spark-3.0.2-bin-hadoop2.7/examples/src/main/scala/org/apache/spark/examples/mllib/MovieLensALS.scala\n",
            "spark-3.0.2-bin-hadoop2.7/examples/src/main/scala/org/apache/spark/examples/mllib/LogisticRegressionWithLBFGSExample.scala\n",
            "spark-3.0.2-bin-hadoop2.7/examples/src/main/scala/org/apache/spark/examples/mllib/LatentDirichletAllocationExample.scala\n",
            "spark-3.0.2-bin-hadoop2.7/examples/src/main/scala/org/apache/spark/examples/mllib/LDAExample.scala\n",
            "spark-3.0.2-bin-hadoop2.7/examples/src/main/scala/org/apache/spark/examples/mllib/LBFGSExample.scala\n",
            "spark-3.0.2-bin-hadoop2.7/examples/src/main/scala/org/apache/spark/examples/mllib/KernelDensityEstimationExample.scala\n",
            "spark-3.0.2-bin-hadoop2.7/examples/src/main/scala/org/apache/spark/examples/mllib/KMeansExample.scala\n",
            "spark-3.0.2-bin-hadoop2.7/examples/src/main/scala/org/apache/spark/examples/mllib/IsotonicRegressionExample.scala\n",
            "spark-3.0.2-bin-hadoop2.7/examples/src/main/scala/org/apache/spark/examples/mllib/HypothesisTestingKolmogorovSmirnovTestExample.scala\n",
            "spark-3.0.2-bin-hadoop2.7/examples/src/main/scala/org/apache/spark/examples/mllib/HypothesisTestingExample.scala\n",
            "spark-3.0.2-bin-hadoop2.7/examples/src/main/scala/org/apache/spark/examples/mllib/GradientBoostingRegressionExample.scala\n",
            "spark-3.0.2-bin-hadoop2.7/examples/src/main/scala/org/apache/spark/examples/mllib/GradientBoostingClassificationExample.scala\n",
            "spark-3.0.2-bin-hadoop2.7/examples/src/main/scala/org/apache/spark/examples/mllib/GradientBoostedTreesRunner.scala\n",
            "spark-3.0.2-bin-hadoop2.7/examples/src/main/scala/org/apache/spark/examples/mllib/GaussianMixtureExample.scala\n",
            "spark-3.0.2-bin-hadoop2.7/examples/src/main/scala/org/apache/spark/examples/mllib/FPGrowthExample.scala\n",
            "spark-3.0.2-bin-hadoop2.7/examples/src/main/scala/org/apache/spark/examples/mllib/ElementwiseProductExample.scala\n",
            "spark-3.0.2-bin-hadoop2.7/examples/src/main/scala/org/apache/spark/examples/mllib/DenseKMeans.scala\n",
            "spark-3.0.2-bin-hadoop2.7/examples/src/main/scala/org/apache/spark/examples/mllib/DecisionTreeRunner.scala\n",
            "spark-3.0.2-bin-hadoop2.7/examples/src/main/scala/org/apache/spark/examples/mllib/DecisionTreeRegressionExample.scala\n",
            "spark-3.0.2-bin-hadoop2.7/examples/src/main/scala/org/apache/spark/examples/mllib/DecisionTreeClassificationExample.scala\n",
            "spark-3.0.2-bin-hadoop2.7/examples/src/main/scala/org/apache/spark/examples/mllib/CosineSimilarity.scala\n",
            "spark-3.0.2-bin-hadoop2.7/examples/src/main/scala/org/apache/spark/examples/mllib/CorrelationsExample.scala\n",
            "spark-3.0.2-bin-hadoop2.7/examples/src/main/scala/org/apache/spark/examples/mllib/Correlations.scala\n",
            "spark-3.0.2-bin-hadoop2.7/examples/src/main/scala/org/apache/spark/examples/mllib/ChiSqSelectorExample.scala\n",
            "spark-3.0.2-bin-hadoop2.7/examples/src/main/scala/org/apache/spark/examples/mllib/BisectingKMeansExample.scala\n",
            "spark-3.0.2-bin-hadoop2.7/examples/src/main/scala/org/apache/spark/examples/mllib/BinaryClassificationMetricsExample.scala\n",
            "spark-3.0.2-bin-hadoop2.7/examples/src/main/scala/org/apache/spark/examples/mllib/BinaryClassification.scala\n",
            "spark-3.0.2-bin-hadoop2.7/examples/src/main/scala/org/apache/spark/examples/mllib/AssociationRulesExample.scala\n",
            "spark-3.0.2-bin-hadoop2.7/examples/src/main/scala/org/apache/spark/examples/mllib/AbstractParams.scala\n",
            "spark-3.0.2-bin-hadoop2.7/examples/src/main/scala/org/apache/spark/examples/ml/\n",
            "spark-3.0.2-bin-hadoop2.7/examples/src/main/scala/org/apache/spark/examples/ml/DeveloperApiExample.scala\n",
            "spark-3.0.2-bin-hadoop2.7/examples/src/main/scala/org/apache/spark/examples/ml/Word2VecExample.scala\n",
            "spark-3.0.2-bin-hadoop2.7/examples/src/main/scala/org/apache/spark/examples/ml/VectorSlicerExample.scala\n",
            "spark-3.0.2-bin-hadoop2.7/examples/src/main/scala/org/apache/spark/examples/ml/VectorSizeHintExample.scala\n",
            "spark-3.0.2-bin-hadoop2.7/examples/src/main/scala/org/apache/spark/examples/ml/VectorIndexerExample.scala\n",
            "spark-3.0.2-bin-hadoop2.7/examples/src/main/scala/org/apache/spark/examples/ml/VectorAssemblerExample.scala\n",
            "spark-3.0.2-bin-hadoop2.7/examples/src/main/scala/org/apache/spark/examples/ml/UnaryTransformerExample.scala\n",
            "spark-3.0.2-bin-hadoop2.7/examples/src/main/scala/org/apache/spark/examples/ml/TokenizerExample.scala\n",
            "spark-3.0.2-bin-hadoop2.7/examples/src/main/scala/org/apache/spark/examples/ml/TfIdfExample.scala\n",
            "spark-3.0.2-bin-hadoop2.7/examples/src/main/scala/org/apache/spark/examples/ml/SummarizerExample.scala\n",
            "spark-3.0.2-bin-hadoop2.7/examples/src/main/scala/org/apache/spark/examples/ml/StringIndexerExample.scala\n",
            "spark-3.0.2-bin-hadoop2.7/examples/src/main/scala/org/apache/spark/examples/ml/StopWordsRemoverExample.scala\n",
            "spark-3.0.2-bin-hadoop2.7/examples/src/main/scala/org/apache/spark/examples/ml/StandardScalerExample.scala\n",
            "spark-3.0.2-bin-hadoop2.7/examples/src/main/scala/org/apache/spark/examples/ml/SQLTransformerExample.scala\n",
            "spark-3.0.2-bin-hadoop2.7/examples/src/main/scala/org/apache/spark/examples/ml/RobustScalerExample.scala\n",
            "spark-3.0.2-bin-hadoop2.7/examples/src/main/scala/org/apache/spark/examples/ml/RandomForestRegressorExample.scala\n",
            "spark-3.0.2-bin-hadoop2.7/examples/src/main/scala/org/apache/spark/examples/ml/RandomForestExample.scala\n",
            "spark-3.0.2-bin-hadoop2.7/examples/src/main/scala/org/apache/spark/examples/ml/RandomForestClassifierExample.scala\n",
            "spark-3.0.2-bin-hadoop2.7/examples/src/main/scala/org/apache/spark/examples/ml/RFormulaExample.scala\n",
            "spark-3.0.2-bin-hadoop2.7/examples/src/main/scala/org/apache/spark/examples/ml/QuantileDiscretizerExample.scala\n",
            "spark-3.0.2-bin-hadoop2.7/examples/src/main/scala/org/apache/spark/examples/ml/PrefixSpanExample.scala\n",
            "spark-3.0.2-bin-hadoop2.7/examples/src/main/scala/org/apache/spark/examples/ml/PowerIterationClusteringExample.scala\n",
            "spark-3.0.2-bin-hadoop2.7/examples/src/main/scala/org/apache/spark/examples/ml/PolynomialExpansionExample.scala\n",
            "spark-3.0.2-bin-hadoop2.7/examples/src/main/scala/org/apache/spark/examples/ml/PipelineExample.scala\n",
            "spark-3.0.2-bin-hadoop2.7/examples/src/main/scala/org/apache/spark/examples/ml/PCAExample.scala\n",
            "spark-3.0.2-bin-hadoop2.7/examples/src/main/scala/org/apache/spark/examples/ml/OneVsRestExample.scala\n",
            "spark-3.0.2-bin-hadoop2.7/examples/src/main/scala/org/apache/spark/examples/ml/OneHotEncoderExample.scala\n",
            "spark-3.0.2-bin-hadoop2.7/examples/src/main/scala/org/apache/spark/examples/ml/NormalizerExample.scala\n",
            "spark-3.0.2-bin-hadoop2.7/examples/src/main/scala/org/apache/spark/examples/ml/NaiveBayesExample.scala\n",
            "spark-3.0.2-bin-hadoop2.7/examples/src/main/scala/org/apache/spark/examples/ml/NGramExample.scala\n",
            "spark-3.0.2-bin-hadoop2.7/examples/src/main/scala/org/apache/spark/examples/ml/MultilayerPerceptronClassifierExample.scala\n",
            "spark-3.0.2-bin-hadoop2.7/examples/src/main/scala/org/apache/spark/examples/ml/MulticlassLogisticRegressionWithElasticNetExample.scala\n",
            "spark-3.0.2-bin-hadoop2.7/examples/src/main/scala/org/apache/spark/examples/ml/ModelSelectionViaTrainValidationSplitExample.scala\n",
            "spark-3.0.2-bin-hadoop2.7/examples/src/main/scala/org/apache/spark/examples/ml/ModelSelectionViaCrossValidationExample.scala\n",
            "spark-3.0.2-bin-hadoop2.7/examples/src/main/scala/org/apache/spark/examples/ml/MinMaxScalerExample.scala\n",
            "spark-3.0.2-bin-hadoop2.7/examples/src/main/scala/org/apache/spark/examples/ml/MinHashLSHExample.scala\n",
            "spark-3.0.2-bin-hadoop2.7/examples/src/main/scala/org/apache/spark/examples/ml/MaxAbsScalerExample.scala\n",
            "spark-3.0.2-bin-hadoop2.7/examples/src/main/scala/org/apache/spark/examples/ml/LogisticRegressionWithElasticNetExample.scala\n",
            "spark-3.0.2-bin-hadoop2.7/examples/src/main/scala/org/apache/spark/examples/ml/LogisticRegressionSummaryExample.scala\n",
            "spark-3.0.2-bin-hadoop2.7/examples/src/main/scala/org/apache/spark/examples/ml/LogisticRegressionExample.scala\n",
            "spark-3.0.2-bin-hadoop2.7/examples/src/main/scala/org/apache/spark/examples/ml/LinearSVCExample.scala\n",
            "spark-3.0.2-bin-hadoop2.7/examples/src/main/scala/org/apache/spark/examples/ml/LinearRegressionWithElasticNetExample.scala\n",
            "spark-3.0.2-bin-hadoop2.7/examples/src/main/scala/org/apache/spark/examples/ml/LinearRegressionExample.scala\n",
            "spark-3.0.2-bin-hadoop2.7/examples/src/main/scala/org/apache/spark/examples/ml/LDAExample.scala\n",
            "spark-3.0.2-bin-hadoop2.7/examples/src/main/scala/org/apache/spark/examples/ml/KMeansExample.scala\n",
            "spark-3.0.2-bin-hadoop2.7/examples/src/main/scala/org/apache/spark/examples/ml/IsotonicRegressionExample.scala\n",
            "spark-3.0.2-bin-hadoop2.7/examples/src/main/scala/org/apache/spark/examples/ml/InteractionExample.scala\n",
            "spark-3.0.2-bin-hadoop2.7/examples/src/main/scala/org/apache/spark/examples/ml/IndexToStringExample.scala\n",
            "spark-3.0.2-bin-hadoop2.7/examples/src/main/scala/org/apache/spark/examples/ml/ImputerExample.scala\n",
            "spark-3.0.2-bin-hadoop2.7/examples/src/main/scala/org/apache/spark/examples/ml/GradientBoostedTreeRegressorExample.scala\n",
            "spark-3.0.2-bin-hadoop2.7/examples/src/main/scala/org/apache/spark/examples/ml/GradientBoostedTreeClassifierExample.scala\n",
            "spark-3.0.2-bin-hadoop2.7/examples/src/main/scala/org/apache/spark/examples/ml/GeneralizedLinearRegressionExample.scala\n",
            "spark-3.0.2-bin-hadoop2.7/examples/src/main/scala/org/apache/spark/examples/ml/GaussianMixtureExample.scala\n",
            "spark-3.0.2-bin-hadoop2.7/examples/src/main/scala/org/apache/spark/examples/ml/GBTExample.scala\n",
            "spark-3.0.2-bin-hadoop2.7/examples/src/main/scala/org/apache/spark/examples/ml/FeatureHasherExample.scala\n",
            "spark-3.0.2-bin-hadoop2.7/examples/src/main/scala/org/apache/spark/examples/ml/FPGrowthExample.scala\n",
            "spark-3.0.2-bin-hadoop2.7/examples/src/main/scala/org/apache/spark/examples/ml/FMRegressorExample.scala\n",
            "spark-3.0.2-bin-hadoop2.7/examples/src/main/scala/org/apache/spark/examples/ml/FMClassifierExample.scala\n",
            "spark-3.0.2-bin-hadoop2.7/examples/src/main/scala/org/apache/spark/examples/ml/EstimatorTransformerParamExample.scala\n",
            "spark-3.0.2-bin-hadoop2.7/examples/src/main/scala/org/apache/spark/examples/ml/ElementwiseProductExample.scala\n",
            "spark-3.0.2-bin-hadoop2.7/examples/src/main/scala/org/apache/spark/examples/ml/DecisionTreeRegressionExample.scala\n",
            "spark-3.0.2-bin-hadoop2.7/examples/src/main/scala/org/apache/spark/examples/ml/DecisionTreeExample.scala\n",
            "spark-3.0.2-bin-hadoop2.7/examples/src/main/scala/org/apache/spark/examples/ml/DecisionTreeClassificationExample.scala\n",
            "spark-3.0.2-bin-hadoop2.7/examples/src/main/scala/org/apache/spark/examples/ml/DataFrameExample.scala\n",
            "spark-3.0.2-bin-hadoop2.7/examples/src/main/scala/org/apache/spark/examples/ml/DCTExample.scala\n",
            "spark-3.0.2-bin-hadoop2.7/examples/src/main/scala/org/apache/spark/examples/ml/CountVectorizerExample.scala\n",
            "spark-3.0.2-bin-hadoop2.7/examples/src/main/scala/org/apache/spark/examples/ml/CorrelationExample.scala\n",
            "spark-3.0.2-bin-hadoop2.7/examples/src/main/scala/org/apache/spark/examples/ml/ChiSquareTestExample.scala\n",
            "spark-3.0.2-bin-hadoop2.7/examples/src/main/scala/org/apache/spark/examples/ml/ChiSqSelectorExample.scala\n",
            "spark-3.0.2-bin-hadoop2.7/examples/src/main/scala/org/apache/spark/examples/ml/BucketizerExample.scala\n",
            "spark-3.0.2-bin-hadoop2.7/examples/src/main/scala/org/apache/spark/examples/ml/BucketedRandomProjectionLSHExample.scala\n",
            "spark-3.0.2-bin-hadoop2.7/examples/src/main/scala/org/apache/spark/examples/ml/BisectingKMeansExample.scala\n",
            "spark-3.0.2-bin-hadoop2.7/examples/src/main/scala/org/apache/spark/examples/ml/BinarizerExample.scala\n",
            "spark-3.0.2-bin-hadoop2.7/examples/src/main/scala/org/apache/spark/examples/ml/ALSExample.scala\n",
            "spark-3.0.2-bin-hadoop2.7/examples/src/main/scala/org/apache/spark/examples/ml/AFTSurvivalRegressionExample.scala\n",
            "spark-3.0.2-bin-hadoop2.7/examples/src/main/scala/org/apache/spark/examples/graphx/\n",
            "spark-3.0.2-bin-hadoop2.7/examples/src/main/scala/org/apache/spark/examples/graphx/TriangleCountingExample.scala\n",
            "spark-3.0.2-bin-hadoop2.7/examples/src/main/scala/org/apache/spark/examples/graphx/SynthBenchmark.scala\n",
            "spark-3.0.2-bin-hadoop2.7/examples/src/main/scala/org/apache/spark/examples/graphx/SSSPExample.scala\n",
            "spark-3.0.2-bin-hadoop2.7/examples/src/main/scala/org/apache/spark/examples/graphx/PageRankExample.scala\n",
            "spark-3.0.2-bin-hadoop2.7/examples/src/main/scala/org/apache/spark/examples/graphx/LiveJournalPageRank.scala\n",
            "spark-3.0.2-bin-hadoop2.7/examples/src/main/scala/org/apache/spark/examples/graphx/ConnectedComponentsExample.scala\n",
            "spark-3.0.2-bin-hadoop2.7/examples/src/main/scala/org/apache/spark/examples/graphx/ComprehensiveExample.scala\n",
            "spark-3.0.2-bin-hadoop2.7/examples/src/main/scala/org/apache/spark/examples/graphx/Analytics.scala\n",
            "spark-3.0.2-bin-hadoop2.7/examples/src/main/scala/org/apache/spark/examples/graphx/AggregateMessagesExample.scala\n",
            "spark-3.0.2-bin-hadoop2.7/examples/src/main/scala/org/apache/spark/examples/SparkTC.scala\n",
            "spark-3.0.2-bin-hadoop2.7/examples/src/main/scala/org/apache/spark/examples/SparkRemoteFileTest.scala\n",
            "spark-3.0.2-bin-hadoop2.7/examples/src/main/scala/org/apache/spark/examples/SparkPi.scala\n",
            "spark-3.0.2-bin-hadoop2.7/examples/src/main/scala/org/apache/spark/examples/SparkPageRank.scala\n",
            "spark-3.0.2-bin-hadoop2.7/examples/src/main/scala/org/apache/spark/examples/SparkLR.scala\n",
            "spark-3.0.2-bin-hadoop2.7/examples/src/main/scala/org/apache/spark/examples/SparkHdfsLR.scala\n",
            "spark-3.0.2-bin-hadoop2.7/examples/src/main/scala/org/apache/spark/examples/SparkALS.scala\n",
            "spark-3.0.2-bin-hadoop2.7/examples/src/main/scala/org/apache/spark/examples/SkewedGroupByTest.scala\n",
            "spark-3.0.2-bin-hadoop2.7/examples/src/main/scala/org/apache/spark/examples/SimpleSkewedGroupByTest.scala\n",
            "spark-3.0.2-bin-hadoop2.7/examples/src/main/scala/org/apache/spark/examples/MultiBroadcastTest.scala\n",
            "spark-3.0.2-bin-hadoop2.7/examples/src/main/scala/org/apache/spark/examples/LogQuery.scala\n",
            "spark-3.0.2-bin-hadoop2.7/examples/src/main/scala/org/apache/spark/examples/LocalPi.scala\n",
            "spark-3.0.2-bin-hadoop2.7/examples/src/main/scala/org/apache/spark/examples/LocalLR.scala\n",
            "spark-3.0.2-bin-hadoop2.7/examples/src/main/scala/org/apache/spark/examples/LocalFileLR.scala\n",
            "spark-3.0.2-bin-hadoop2.7/examples/src/main/scala/org/apache/spark/examples/LocalALS.scala\n",
            "spark-3.0.2-bin-hadoop2.7/examples/src/main/scala/org/apache/spark/examples/HdfsTest.scala\n",
            "spark-3.0.2-bin-hadoop2.7/examples/src/main/scala/org/apache/spark/examples/GroupByTest.scala\n",
            "spark-3.0.2-bin-hadoop2.7/examples/src/main/scala/org/apache/spark/examples/ExceptionHandlingTest.scala\n",
            "spark-3.0.2-bin-hadoop2.7/examples/src/main/scala/org/apache/spark/examples/DriverSubmissionTest.scala\n",
            "spark-3.0.2-bin-hadoop2.7/examples/src/main/scala/org/apache/spark/examples/DFSReadWriteTest.scala\n",
            "spark-3.0.2-bin-hadoop2.7/examples/src/main/scala/org/apache/spark/examples/BroadcastTest.scala\n",
            "spark-3.0.2-bin-hadoop2.7/examples/src/main/scala/org/apache/spark/examples/AccumulatorMetricsTest.scala\n",
            "spark-3.0.2-bin-hadoop2.7/examples/src/main/resources/\n",
            "spark-3.0.2-bin-hadoop2.7/examples/src/main/resources/users.parquet\n",
            "spark-3.0.2-bin-hadoop2.7/examples/src/main/resources/users.orc\n",
            "spark-3.0.2-bin-hadoop2.7/examples/src/main/resources/users.avro\n",
            "spark-3.0.2-bin-hadoop2.7/examples/src/main/resources/user.avsc\n",
            "spark-3.0.2-bin-hadoop2.7/examples/src/main/resources/people.txt\n",
            "spark-3.0.2-bin-hadoop2.7/examples/src/main/resources/people.json\n",
            "spark-3.0.2-bin-hadoop2.7/examples/src/main/resources/people.csv\n",
            "spark-3.0.2-bin-hadoop2.7/examples/src/main/resources/kv1.txt\n",
            "spark-3.0.2-bin-hadoop2.7/examples/src/main/resources/full_user.avsc\n",
            "spark-3.0.2-bin-hadoop2.7/examples/src/main/resources/employees.json\n",
            "spark-3.0.2-bin-hadoop2.7/examples/src/main/resources/dir1/\n",
            "spark-3.0.2-bin-hadoop2.7/examples/src/main/resources/dir1/file3.json\n",
            "spark-3.0.2-bin-hadoop2.7/examples/src/main/resources/dir1/file1.parquet\n",
            "spark-3.0.2-bin-hadoop2.7/examples/src/main/resources/dir1/dir2/\n",
            "spark-3.0.2-bin-hadoop2.7/examples/src/main/resources/dir1/dir2/file2.parquet\n",
            "spark-3.0.2-bin-hadoop2.7/examples/src/main/r/\n",
            "spark-3.0.2-bin-hadoop2.7/examples/src/main/r/RSparkSQLExample.R\n",
            "spark-3.0.2-bin-hadoop2.7/examples/src/main/r/streaming/\n",
            "spark-3.0.2-bin-hadoop2.7/examples/src/main/r/streaming/structured_network_wordcount.R\n",
            "spark-3.0.2-bin-hadoop2.7/examples/src/main/r/ml/\n",
            "spark-3.0.2-bin-hadoop2.7/examples/src/main/r/ml/svmLinear.R\n",
            "spark-3.0.2-bin-hadoop2.7/examples/src/main/r/ml/survreg.R\n",
            "spark-3.0.2-bin-hadoop2.7/examples/src/main/r/ml/randomForest.R\n",
            "spark-3.0.2-bin-hadoop2.7/examples/src/main/r/ml/prefixSpan.R\n",
            "spark-3.0.2-bin-hadoop2.7/examples/src/main/r/ml/powerIterationClustering.R\n",
            "spark-3.0.2-bin-hadoop2.7/examples/src/main/r/ml/naiveBayes.R\n",
            "spark-3.0.2-bin-hadoop2.7/examples/src/main/r/ml/mlp.R\n",
            "spark-3.0.2-bin-hadoop2.7/examples/src/main/r/ml/ml.R\n",
            "spark-3.0.2-bin-hadoop2.7/examples/src/main/r/ml/logit.R\n",
            "spark-3.0.2-bin-hadoop2.7/examples/src/main/r/ml/lda.R\n",
            "spark-3.0.2-bin-hadoop2.7/examples/src/main/r/ml/kstest.R\n",
            "spark-3.0.2-bin-hadoop2.7/examples/src/main/r/ml/kmeans.R\n",
            "spark-3.0.2-bin-hadoop2.7/examples/src/main/r/ml/isoreg.R\n",
            "spark-3.0.2-bin-hadoop2.7/examples/src/main/r/ml/glm.R\n",
            "spark-3.0.2-bin-hadoop2.7/examples/src/main/r/ml/gbt.R\n",
            "spark-3.0.2-bin-hadoop2.7/examples/src/main/r/ml/gaussianMixture.R\n",
            "spark-3.0.2-bin-hadoop2.7/examples/src/main/r/ml/fpm.R\n",
            "spark-3.0.2-bin-hadoop2.7/examples/src/main/r/ml/decisionTree.R\n",
            "spark-3.0.2-bin-hadoop2.7/examples/src/main/r/ml/bisectingKmeans.R\n",
            "spark-3.0.2-bin-hadoop2.7/examples/src/main/r/ml/als.R\n",
            "spark-3.0.2-bin-hadoop2.7/examples/src/main/r/dataframe.R\n",
            "spark-3.0.2-bin-hadoop2.7/examples/src/main/r/data-manipulation.R\n",
            "spark-3.0.2-bin-hadoop2.7/examples/jars/\n",
            "spark-3.0.2-bin-hadoop2.7/examples/jars/spark-examples_2.12-3.0.2.jar\n",
            "spark-3.0.2-bin-hadoop2.7/examples/jars/scopt_2.12-3.7.1.jar\n",
            "spark-3.0.2-bin-hadoop2.7/kubernetes/\n",
            "spark-3.0.2-bin-hadoop2.7/kubernetes/tests/\n",
            "spark-3.0.2-bin-hadoop2.7/kubernetes/tests/worker_memory_check.py\n",
            "spark-3.0.2-bin-hadoop2.7/kubernetes/tests/pyfiles.py\n",
            "spark-3.0.2-bin-hadoop2.7/kubernetes/tests/py_container_checks.py\n",
            "spark-3.0.2-bin-hadoop2.7/kubernetes/dockerfiles/\n",
            "spark-3.0.2-bin-hadoop2.7/kubernetes/dockerfiles/spark/\n",
            "spark-3.0.2-bin-hadoop2.7/kubernetes/dockerfiles/spark/bindings/\n",
            "spark-3.0.2-bin-hadoop2.7/kubernetes/dockerfiles/spark/bindings/python/\n",
            "spark-3.0.2-bin-hadoop2.7/kubernetes/dockerfiles/spark/bindings/python/Dockerfile\n",
            "spark-3.0.2-bin-hadoop2.7/kubernetes/dockerfiles/spark/bindings/R/\n",
            "spark-3.0.2-bin-hadoop2.7/kubernetes/dockerfiles/spark/bindings/R/Dockerfile\n",
            "spark-3.0.2-bin-hadoop2.7/kubernetes/dockerfiles/spark/entrypoint.sh\n",
            "spark-3.0.2-bin-hadoop2.7/kubernetes/dockerfiles/spark/Dockerfile\n",
            "spark-3.0.2-bin-hadoop2.7/yarn/\n",
            "spark-3.0.2-bin-hadoop2.7/yarn/spark-3.0.2-yarn-shuffle.jar\n",
            "spark-3.0.2-bin-hadoop2.7/jars/\n",
            "spark-3.0.2-bin-hadoop2.7/jars/zstd-jni-1.4.4-3.jar\n",
            "spark-3.0.2-bin-hadoop2.7/jars/zookeeper-3.4.14.jar\n",
            "spark-3.0.2-bin-hadoop2.7/jars/zjsonpatch-0.3.0.jar\n",
            "spark-3.0.2-bin-hadoop2.7/jars/xz-1.5.jar\n",
            "spark-3.0.2-bin-hadoop2.7/jars/xmlenc-0.52.jar\n",
            "spark-3.0.2-bin-hadoop2.7/jars/xml-apis-1.4.01.jar\n",
            "spark-3.0.2-bin-hadoop2.7/jars/xercesImpl-2.12.0.jar\n",
            "spark-3.0.2-bin-hadoop2.7/jars/xbean-asm7-shaded-4.15.jar\n",
            "spark-3.0.2-bin-hadoop2.7/jars/velocity-1.5.jar\n",
            "spark-3.0.2-bin-hadoop2.7/jars/univocity-parsers-2.9.0.jar\n",
            "spark-3.0.2-bin-hadoop2.7/jars/transaction-api-1.1.jar\n",
            "spark-3.0.2-bin-hadoop2.7/jars/threeten-extra-1.5.0.jar\n",
            "spark-3.0.2-bin-hadoop2.7/jars/super-csv-2.2.0.jar\n",
            "spark-3.0.2-bin-hadoop2.7/jars/stream-2.9.6.jar\n",
            "spark-3.0.2-bin-hadoop2.7/jars/stax-api-1.0.1.jar\n",
            "spark-3.0.2-bin-hadoop2.7/jars/stax-api-1.0-2.jar\n",
            "spark-3.0.2-bin-hadoop2.7/jars/spire_2.12-0.17.0-M1.jar\n",
            "spark-3.0.2-bin-hadoop2.7/jars/spire-util_2.12-0.17.0-M1.jar\n",
            "spark-3.0.2-bin-hadoop2.7/jars/spire-platform_2.12-0.17.0-M1.jar\n",
            "spark-3.0.2-bin-hadoop2.7/jars/spire-macros_2.12-0.17.0-M1.jar\n",
            "spark-3.0.2-bin-hadoop2.7/jars/spark-yarn_2.12-3.0.2.jar\n",
            "spark-3.0.2-bin-hadoop2.7/jars/spark-unsafe_2.12-3.0.2.jar\n",
            "spark-3.0.2-bin-hadoop2.7/jars/spark-tags_2.12-3.0.2.jar\n",
            "spark-3.0.2-bin-hadoop2.7/jars/spark-tags_2.12-3.0.2-tests.jar\n",
            "spark-3.0.2-bin-hadoop2.7/jars/spark-streaming_2.12-3.0.2.jar\n",
            "spark-3.0.2-bin-hadoop2.7/jars/spark-sql_2.12-3.0.2.jar\n",
            "spark-3.0.2-bin-hadoop2.7/jars/spark-sketch_2.12-3.0.2.jar\n",
            "spark-3.0.2-bin-hadoop2.7/jars/spark-repl_2.12-3.0.2.jar\n",
            "spark-3.0.2-bin-hadoop2.7/jars/spark-network-shuffle_2.12-3.0.2.jar\n",
            "spark-3.0.2-bin-hadoop2.7/jars/spark-network-common_2.12-3.0.2.jar\n",
            "spark-3.0.2-bin-hadoop2.7/jars/spark-mllib_2.12-3.0.2.jar\n",
            "spark-3.0.2-bin-hadoop2.7/jars/spark-mllib-local_2.12-3.0.2.jar\n",
            "spark-3.0.2-bin-hadoop2.7/jars/spark-mesos_2.12-3.0.2.jar\n",
            "spark-3.0.2-bin-hadoop2.7/jars/spark-launcher_2.12-3.0.2.jar\n",
            "spark-3.0.2-bin-hadoop2.7/jars/spark-kvstore_2.12-3.0.2.jar\n",
            "spark-3.0.2-bin-hadoop2.7/jars/spark-kubernetes_2.12-3.0.2.jar\n",
            "spark-3.0.2-bin-hadoop2.7/jars/spark-hive_2.12-3.0.2.jar\n",
            "spark-3.0.2-bin-hadoop2.7/jars/spark-hive-thriftserver_2.12-3.0.2.jar\n",
            "spark-3.0.2-bin-hadoop2.7/jars/spark-graphx_2.12-3.0.2.jar\n",
            "spark-3.0.2-bin-hadoop2.7/jars/spark-core_2.12-3.0.2.jar\n",
            "spark-3.0.2-bin-hadoop2.7/jars/scala-reflect-2.12.10.jar\n",
            "spark-3.0.2-bin-hadoop2.7/jars/scala-parser-combinators_2.12-1.1.2.jar\n",
            "spark-3.0.2-bin-hadoop2.7/jars/scala-library-2.12.10.jar\n",
            "spark-3.0.2-bin-hadoop2.7/jars/scala-compiler-2.12.10.jar\n",
            "spark-3.0.2-bin-hadoop2.7/jars/scala-collection-compat_2.12-2.1.1.jar\n",
            "spark-3.0.2-bin-hadoop2.7/jars/pyrolite-4.30.jar\n",
            "spark-3.0.2-bin-hadoop2.7/jars/py4j-0.10.9.jar\n",
            "spark-3.0.2-bin-hadoop2.7/jars/protobuf-java-2.5.0.jar\n",
            "spark-3.0.2-bin-hadoop2.7/jars/parquet-jackson-1.10.1.jar\n",
            "spark-3.0.2-bin-hadoop2.7/jars/parquet-hadoop-1.10.1.jar\n",
            "spark-3.0.2-bin-hadoop2.7/jars/parquet-format-2.4.0.jar\n",
            "spark-3.0.2-bin-hadoop2.7/jars/parquet-encoding-1.10.1.jar\n",
            "spark-3.0.2-bin-hadoop2.7/jars/parquet-common-1.10.1.jar\n",
            "spark-3.0.2-bin-hadoop2.7/jars/parquet-column-1.10.1.jar\n",
            "spark-3.0.2-bin-hadoop2.7/jars/paranamer-2.8.jar\n",
            "spark-3.0.2-bin-hadoop2.7/jars/osgi-resource-locator-1.0.3.jar\n",
            "spark-3.0.2-bin-hadoop2.7/jars/oro-2.0.8.jar\n",
            "spark-3.0.2-bin-hadoop2.7/jars/orc-shims-1.5.10.jar\n",
            "spark-3.0.2-bin-hadoop2.7/jars/orc-mapreduce-1.5.10.jar\n",
            "spark-3.0.2-bin-hadoop2.7/jars/orc-core-1.5.10.jar\n",
            "spark-3.0.2-bin-hadoop2.7/jars/opencsv-2.3.jar\n",
            "spark-3.0.2-bin-hadoop2.7/jars/okio-1.15.0.jar\n",
            "spark-3.0.2-bin-hadoop2.7/jars/okhttp-3.12.6.jar\n",
            "spark-3.0.2-bin-hadoop2.7/jars/objenesis-2.5.1.jar\n",
            "spark-3.0.2-bin-hadoop2.7/jars/netty-all-4.1.47.Final.jar\n",
            "spark-3.0.2-bin-hadoop2.7/jars/minlog-1.3.0.jar\n",
            "spark-3.0.2-bin-hadoop2.7/jars/metrics-jvm-4.1.1.jar\n",
            "spark-3.0.2-bin-hadoop2.7/jars/metrics-json-4.1.1.jar\n",
            "spark-3.0.2-bin-hadoop2.7/jars/metrics-jmx-4.1.1.jar\n",
            "spark-3.0.2-bin-hadoop2.7/jars/metrics-graphite-4.1.1.jar\n",
            "spark-3.0.2-bin-hadoop2.7/jars/metrics-core-4.1.1.jar\n",
            "spark-3.0.2-bin-hadoop2.7/jars/mesos-1.4.0-shaded-protobuf.jar\n",
            "spark-3.0.2-bin-hadoop2.7/jars/macro-compat_2.12-1.1.1.jar\n",
            "spark-3.0.2-bin-hadoop2.7/jars/machinist_2.12-0.6.8.jar\n",
            "spark-3.0.2-bin-hadoop2.7/jars/lz4-java-1.7.1.jar\n",
            "spark-3.0.2-bin-hadoop2.7/jars/logging-interceptor-3.12.6.jar\n",
            "spark-3.0.2-bin-hadoop2.7/jars/log4j-1.2.17.jar\n",
            "spark-3.0.2-bin-hadoop2.7/jars/libthrift-0.12.0.jar\n",
            "spark-3.0.2-bin-hadoop2.7/jars/libfb303-0.9.3.jar\n",
            "spark-3.0.2-bin-hadoop2.7/jars/leveldbjni-all-1.8.jar\n",
            "spark-3.0.2-bin-hadoop2.7/jars/kubernetes-model-common-4.9.2.jar\n",
            "spark-3.0.2-bin-hadoop2.7/jars/kubernetes-model-4.9.2.jar\n",
            "spark-3.0.2-bin-hadoop2.7/jars/kubernetes-client-4.9.2.jar\n",
            "spark-3.0.2-bin-hadoop2.7/jars/kryo-shaded-4.0.2.jar\n",
            "spark-3.0.2-bin-hadoop2.7/jars/jul-to-slf4j-1.7.30.jar\n",
            "spark-3.0.2-bin-hadoop2.7/jars/jta-1.1.jar\n",
            "spark-3.0.2-bin-hadoop2.7/jars/jsr305-3.0.0.jar\n",
            "spark-3.0.2-bin-hadoop2.7/jars/jsp-api-2.1.jar\n",
            "spark-3.0.2-bin-hadoop2.7/jars/json4s-scalap_2.12-3.6.6.jar\n",
            "spark-3.0.2-bin-hadoop2.7/jars/json4s-jackson_2.12-3.6.6.jar\n",
            "spark-3.0.2-bin-hadoop2.7/jars/json4s-core_2.12-3.6.6.jar\n",
            "spark-3.0.2-bin-hadoop2.7/jars/json4s-ast_2.12-3.6.6.jar\n",
            "spark-3.0.2-bin-hadoop2.7/jars/json-1.8.jar\n",
            "spark-3.0.2-bin-hadoop2.7/jars/jpam-1.1.jar\n",
            "spark-3.0.2-bin-hadoop2.7/jars/jodd-core-3.5.2.jar\n",
            "spark-3.0.2-bin-hadoop2.7/jars/joda-time-2.10.5.jar\n",
            "spark-3.0.2-bin-hadoop2.7/jars/jline-2.14.6.jar\n",
            "spark-3.0.2-bin-hadoop2.7/jars/jetty-util-6.1.26.jar\n",
            "spark-3.0.2-bin-hadoop2.7/jars/jetty-sslengine-6.1.26.jar\n",
            "spark-3.0.2-bin-hadoop2.7/jars/jetty-6.1.26.jar\n",
            "spark-3.0.2-bin-hadoop2.7/jars/jersey-server-2.30.jar\n",
            "spark-3.0.2-bin-hadoop2.7/jars/jersey-media-jaxb-2.30.jar\n",
            "spark-3.0.2-bin-hadoop2.7/jars/jersey-hk2-2.30.jar\n",
            "spark-3.0.2-bin-hadoop2.7/jars/jersey-container-servlet-core-2.30.jar\n",
            "spark-3.0.2-bin-hadoop2.7/jars/jersey-container-servlet-2.30.jar\n",
            "spark-3.0.2-bin-hadoop2.7/jars/jersey-common-2.30.jar\n",
            "spark-3.0.2-bin-hadoop2.7/jars/jersey-client-2.30.jar\n",
            "spark-3.0.2-bin-hadoop2.7/jars/jdo-api-3.0.1.jar\n",
            "spark-3.0.2-bin-hadoop2.7/jars/jcl-over-slf4j-1.7.30.jar\n",
            "spark-3.0.2-bin-hadoop2.7/jars/jaxb-runtime-2.3.2.jar\n",
            "spark-3.0.2-bin-hadoop2.7/jars/jaxb-api-2.2.2.jar\n",
            "spark-3.0.2-bin-hadoop2.7/jars/javolution-5.5.1.jar\n",
            "spark-3.0.2-bin-hadoop2.7/jars/javax.servlet-api-3.1.0.jar\n",
            "spark-3.0.2-bin-hadoop2.7/jars/javax.jdo-3.2.0-m3.jar\n",
            "spark-3.0.2-bin-hadoop2.7/jars/javax.inject-1.jar\n",
            "spark-3.0.2-bin-hadoop2.7/jars/javassist-3.25.0-GA.jar\n",
            "spark-3.0.2-bin-hadoop2.7/jars/janino-3.0.16.jar\n",
            "spark-3.0.2-bin-hadoop2.7/jars/jakarta.xml.bind-api-2.3.2.jar\n",
            "spark-3.0.2-bin-hadoop2.7/jars/jakarta.ws.rs-api-2.1.6.jar\n",
            "spark-3.0.2-bin-hadoop2.7/jars/jakarta.validation-api-2.0.2.jar\n",
            "spark-3.0.2-bin-hadoop2.7/jars/jakarta.inject-2.6.1.jar\n",
            "spark-3.0.2-bin-hadoop2.7/jars/jakarta.annotation-api-1.3.5.jar\n",
            "spark-3.0.2-bin-hadoop2.7/jars/jakarta.activation-api-1.2.1.jar\n",
            "spark-3.0.2-bin-hadoop2.7/jars/jackson-xc-1.9.13.jar\n",
            "spark-3.0.2-bin-hadoop2.7/jars/jackson-module-scala_2.12-2.10.0.jar\n",
            "spark-3.0.2-bin-hadoop2.7/jars/jackson-module-paranamer-2.10.0.jar\n",
            "spark-3.0.2-bin-hadoop2.7/jars/jackson-module-jaxb-annotations-2.10.0.jar\n",
            "spark-3.0.2-bin-hadoop2.7/jars/jackson-mapper-asl-1.9.13.jar\n",
            "spark-3.0.2-bin-hadoop2.7/jars/jackson-jaxrs-1.9.13.jar\n",
            "spark-3.0.2-bin-hadoop2.7/jars/jackson-datatype-jsr310-2.10.3.jar\n",
            "spark-3.0.2-bin-hadoop2.7/jars/jackson-dataformat-yaml-2.10.0.jar\n",
            "spark-3.0.2-bin-hadoop2.7/jars/jackson-databind-2.10.0.jar\n",
            "spark-3.0.2-bin-hadoop2.7/jars/jackson-core-asl-1.9.13.jar\n",
            "spark-3.0.2-bin-hadoop2.7/jars/jackson-core-2.10.0.jar\n",
            "spark-3.0.2-bin-hadoop2.7/jars/jackson-annotations-2.10.0.jar\n",
            "spark-3.0.2-bin-hadoop2.7/jars/ivy-2.4.0.jar\n",
            "spark-3.0.2-bin-hadoop2.7/jars/istack-commons-runtime-3.0.8.jar\n",
            "spark-3.0.2-bin-hadoop2.7/jars/httpcore-4.4.12.jar\n",
            "spark-3.0.2-bin-hadoop2.7/jars/httpclient-4.5.6.jar\n",
            "spark-3.0.2-bin-hadoop2.7/jars/htrace-core-3.1.0-incubating.jar\n",
            "spark-3.0.2-bin-hadoop2.7/jars/hk2-utils-2.6.1.jar\n",
            "spark-3.0.2-bin-hadoop2.7/jars/hk2-locator-2.6.1.jar\n",
            "spark-3.0.2-bin-hadoop2.7/jars/hk2-api-2.6.1.jar\n",
            "spark-3.0.2-bin-hadoop2.7/jars/hive-vector-code-gen-2.3.7.jar\n",
            "spark-3.0.2-bin-hadoop2.7/jars/hive-storage-api-2.7.1.jar\n",
            "spark-3.0.2-bin-hadoop2.7/jars/hive-shims-scheduler-2.3.7.jar\n",
            "spark-3.0.2-bin-hadoop2.7/jars/hive-shims-common-2.3.7.jar\n",
            "spark-3.0.2-bin-hadoop2.7/jars/hive-shims-2.3.7.jar\n",
            "spark-3.0.2-bin-hadoop2.7/jars/hive-shims-0.23-2.3.7.jar\n",
            "spark-3.0.2-bin-hadoop2.7/jars/hive-serde-2.3.7.jar\n",
            "spark-3.0.2-bin-hadoop2.7/jars/hive-metastore-2.3.7.jar\n",
            "spark-3.0.2-bin-hadoop2.7/jars/hive-llap-common-2.3.7.jar\n",
            "spark-3.0.2-bin-hadoop2.7/jars/hive-jdbc-2.3.7.jar\n",
            "spark-3.0.2-bin-hadoop2.7/jars/hive-exec-2.3.7-core.jar\n",
            "spark-3.0.2-bin-hadoop2.7/jars/hive-common-2.3.7.jar\n",
            "spark-3.0.2-bin-hadoop2.7/jars/hive-cli-2.3.7.jar\n",
            "spark-3.0.2-bin-hadoop2.7/jars/hive-beeline-2.3.7.jar\n",
            "spark-3.0.2-bin-hadoop2.7/jars/hadoop-yarn-server-web-proxy-2.7.4.jar\n",
            "spark-3.0.2-bin-hadoop2.7/jars/hadoop-yarn-server-common-2.7.4.jar\n",
            "spark-3.0.2-bin-hadoop2.7/jars/hadoop-yarn-common-2.7.4.jar\n",
            "spark-3.0.2-bin-hadoop2.7/jars/hadoop-yarn-client-2.7.4.jar\n",
            "spark-3.0.2-bin-hadoop2.7/jars/hadoop-yarn-api-2.7.4.jar\n",
            "spark-3.0.2-bin-hadoop2.7/jars/hadoop-mapreduce-client-shuffle-2.7.4.jar\n",
            "spark-3.0.2-bin-hadoop2.7/jars/hadoop-mapreduce-client-jobclient-2.7.4.jar\n",
            "spark-3.0.2-bin-hadoop2.7/jars/hadoop-mapreduce-client-core-2.7.4.jar\n",
            "spark-3.0.2-bin-hadoop2.7/jars/hadoop-mapreduce-client-common-2.7.4.jar\n",
            "spark-3.0.2-bin-hadoop2.7/jars/hadoop-mapreduce-client-app-2.7.4.jar\n",
            "spark-3.0.2-bin-hadoop2.7/jars/hadoop-hdfs-2.7.4.jar\n",
            "spark-3.0.2-bin-hadoop2.7/jars/hadoop-common-2.7.4.jar\n",
            "spark-3.0.2-bin-hadoop2.7/jars/hadoop-client-2.7.4.jar\n",
            "spark-3.0.2-bin-hadoop2.7/jars/hadoop-auth-2.7.4.jar\n",
            "spark-3.0.2-bin-hadoop2.7/jars/hadoop-annotations-2.7.4.jar\n",
            "spark-3.0.2-bin-hadoop2.7/jars/guice-servlet-3.0.jar\n",
            "spark-3.0.2-bin-hadoop2.7/jars/guice-3.0.jar\n",
            "spark-3.0.2-bin-hadoop2.7/jars/guava-14.0.1.jar\n",
            "spark-3.0.2-bin-hadoop2.7/jars/gson-2.2.4.jar\n",
            "spark-3.0.2-bin-hadoop2.7/jars/generex-1.0.2.jar\n",
            "spark-3.0.2-bin-hadoop2.7/jars/flatbuffers-java-1.9.0.jar\n",
            "spark-3.0.2-bin-hadoop2.7/jars/dropwizard-metrics-hadoop-metrics2-reporter-0.1.2.jar\n",
            "spark-3.0.2-bin-hadoop2.7/jars/derby-10.12.1.1.jar\n",
            "spark-3.0.2-bin-hadoop2.7/jars/datanucleus-rdbms-4.1.19.jar\n",
            "spark-3.0.2-bin-hadoop2.7/jars/datanucleus-core-4.1.17.jar\n",
            "spark-3.0.2-bin-hadoop2.7/jars/datanucleus-api-jdo-4.2.4.jar\n",
            "spark-3.0.2-bin-hadoop2.7/jars/curator-recipes-2.7.1.jar\n",
            "spark-3.0.2-bin-hadoop2.7/jars/curator-framework-2.7.1.jar\n",
            "spark-3.0.2-bin-hadoop2.7/jars/curator-client-2.7.1.jar\n",
            "spark-3.0.2-bin-hadoop2.7/jars/core-1.1.2.jar\n",
            "spark-3.0.2-bin-hadoop2.7/jars/compress-lzf-1.0.3.jar\n",
            "spark-3.0.2-bin-hadoop2.7/jars/commons-text-1.6.jar\n",
            "spark-3.0.2-bin-hadoop2.7/jars/commons-pool-1.5.4.jar\n",
            "spark-3.0.2-bin-hadoop2.7/jars/commons-net-3.1.jar\n",
            "spark-3.0.2-bin-hadoop2.7/jars/commons-math3-3.4.1.jar\n",
            "spark-3.0.2-bin-hadoop2.7/jars/commons-logging-1.1.3.jar\n",
            "spark-3.0.2-bin-hadoop2.7/jars/commons-lang3-3.9.jar\n",
            "spark-3.0.2-bin-hadoop2.7/jars/commons-lang-2.6.jar\n",
            "spark-3.0.2-bin-hadoop2.7/jars/commons-io-2.4.jar\n",
            "spark-3.0.2-bin-hadoop2.7/jars/commons-httpclient-3.1.jar\n",
            "spark-3.0.2-bin-hadoop2.7/jars/commons-digester-1.8.jar\n",
            "spark-3.0.2-bin-hadoop2.7/jars/commons-dbcp-1.4.jar\n",
            "spark-3.0.2-bin-hadoop2.7/jars/commons-crypto-1.1.0.jar\n",
            "spark-3.0.2-bin-hadoop2.7/jars/commons-configuration-1.6.jar\n",
            "spark-3.0.2-bin-hadoop2.7/jars/commons-compress-1.20.jar\n",
            "spark-3.0.2-bin-hadoop2.7/jars/commons-compiler-3.0.16.jar\n",
            "spark-3.0.2-bin-hadoop2.7/jars/commons-collections-3.2.2.jar\n",
            "spark-3.0.2-bin-hadoop2.7/jars/commons-codec-1.10.jar\n",
            "spark-3.0.2-bin-hadoop2.7/jars/commons-cli-1.2.jar\n",
            "spark-3.0.2-bin-hadoop2.7/jars/commons-beanutils-1.9.4.jar\n",
            "spark-3.0.2-bin-hadoop2.7/jars/chill_2.12-0.9.5.jar\n",
            "spark-3.0.2-bin-hadoop2.7/jars/chill-java-0.9.5.jar\n",
            "spark-3.0.2-bin-hadoop2.7/jars/cats-kernel_2.12-2.0.0-M4.jar\n",
            "spark-3.0.2-bin-hadoop2.7/jars/breeze_2.12-1.0.jar\n",
            "spark-3.0.2-bin-hadoop2.7/jars/breeze-macros_2.12-1.0.jar\n",
            "spark-3.0.2-bin-hadoop2.7/jars/bonecp-0.8.0.RELEASE.jar\n",
            "spark-3.0.2-bin-hadoop2.7/jars/avro-mapred-1.8.2-hadoop2.jar\n",
            "spark-3.0.2-bin-hadoop2.7/jars/avro-ipc-1.8.2.jar\n",
            "spark-3.0.2-bin-hadoop2.7/jars/avro-1.8.2.jar\n",
            "spark-3.0.2-bin-hadoop2.7/jars/automaton-1.11-8.jar\n",
            "spark-3.0.2-bin-hadoop2.7/jars/audience-annotations-0.5.0.jar\n",
            "spark-3.0.2-bin-hadoop2.7/jars/arrow-vector-0.15.1.jar\n",
            "spark-3.0.2-bin-hadoop2.7/jars/arrow-memory-0.15.1.jar\n",
            "spark-3.0.2-bin-hadoop2.7/jars/arrow-format-0.15.1.jar\n",
            "spark-3.0.2-bin-hadoop2.7/jars/arpack_combined_all-0.1.jar\n",
            "spark-3.0.2-bin-hadoop2.7/jars/api-util-1.0.0-M20.jar\n",
            "spark-3.0.2-bin-hadoop2.7/jars/api-asn1-api-1.0.0-M20.jar\n",
            "spark-3.0.2-bin-hadoop2.7/jars/apacheds-kerberos-codec-2.0.0-M15.jar\n",
            "spark-3.0.2-bin-hadoop2.7/jars/apacheds-i18n-2.0.0-M15.jar\n",
            "spark-3.0.2-bin-hadoop2.7/jars/aopalliance-repackaged-2.6.1.jar\n",
            "spark-3.0.2-bin-hadoop2.7/jars/aopalliance-1.0.jar\n",
            "spark-3.0.2-bin-hadoop2.7/jars/antlr4-runtime-4.7.1.jar\n",
            "spark-3.0.2-bin-hadoop2.7/jars/antlr-runtime-3.5.2.jar\n",
            "spark-3.0.2-bin-hadoop2.7/jars/algebra_2.12-2.0.0-M2.jar\n",
            "spark-3.0.2-bin-hadoop2.7/jars/aircompressor-0.10.jar\n",
            "spark-3.0.2-bin-hadoop2.7/jars/activation-1.1.1.jar\n",
            "spark-3.0.2-bin-hadoop2.7/jars/ST4-4.0.4.jar\n",
            "spark-3.0.2-bin-hadoop2.7/jars/RoaringBitmap-0.7.45.jar\n",
            "spark-3.0.2-bin-hadoop2.7/jars/JTransforms-3.1.jar\n",
            "spark-3.0.2-bin-hadoop2.7/jars/JLargeArrays-1.5.jar\n",
            "spark-3.0.2-bin-hadoop2.7/jars/HikariCP-2.5.1.jar\n",
            "spark-3.0.2-bin-hadoop2.7/jars/spark-catalyst_2.12-3.0.2.jar\n",
            "spark-3.0.2-bin-hadoop2.7/jars/snappy-java-1.1.8.2.jar\n",
            "spark-3.0.2-bin-hadoop2.7/jars/snakeyaml-1.24.jar\n",
            "spark-3.0.2-bin-hadoop2.7/jars/slf4j-log4j12-1.7.30.jar\n",
            "spark-3.0.2-bin-hadoop2.7/jars/slf4j-api-1.7.30.jar\n",
            "spark-3.0.2-bin-hadoop2.7/jars/shims-0.7.45.jar\n",
            "spark-3.0.2-bin-hadoop2.7/jars/shapeless_2.12-2.3.3.jar\n",
            "spark-3.0.2-bin-hadoop2.7/jars/scala-xml_2.12-1.2.0.jar\n",
            "spark-3.0.2-bin-hadoop2.7/RELEASE\n"
          ],
          "name": "stdout"
        }
      ]
    },
    {
      "cell_type": "code",
      "metadata": {
        "id": "uIs2VRXosQnG"
      },
      "source": [
        "from pyspark.sql import SparkSession\n",
        "spark = SparkSession.builder.getOrCreate()"
      ],
      "execution_count": 2,
      "outputs": []
    },
    {
      "cell_type": "code",
      "metadata": {
        "colab": {
          "base_uri": "https://localhost:8080/"
        },
        "id": "HXk73P95sZyn",
        "outputId": "0e7772e8-4109-4197-8552-8e46d26bc49f"
      },
      "source": [
        "# create RDD using parallelize contained in the SparkContext\n",
        "\n",
        "arr = [1, 2, 3, 4, 5, 6, 7, 1]\n",
        "data = spark.sparkContext.parallelize(arr)\n",
        "data.collect()"
      ],
      "execution_count": 3,
      "outputs": [
        {
          "output_type": "execute_result",
          "data": {
            "text/plain": [
              "[1, 2, 3, 4, 5, 6, 7, 1]"
            ]
          },
          "metadata": {
            "tags": []
          },
          "execution_count": 3
        }
      ]
    },
    {
      "cell_type": "markdown",
      "metadata": {
        "id": "vuJK6rb_qlZd"
      },
      "source": [
        "# Python"
      ]
    },
    {
      "cell_type": "markdown",
      "metadata": {
        "id": "v3j3BvFo3Cz3"
      },
      "source": [
        "## Output"
      ]
    },
    {
      "cell_type": "code",
      "metadata": {
        "colab": {
          "base_uri": "https://localhost:8080/"
        },
        "id": "iugLn3pR3ES8",
        "outputId": "7a8c9fec-6e9b-459b-fbe2-85587f0e581b"
      },
      "source": [
        "print('halo')\n",
        "print('halo perkenalkan nama saya {} umur {}'.format('andi', 12))"
      ],
      "execution_count": 4,
      "outputs": [
        {
          "output_type": "stream",
          "text": [
            "halo\n",
            "halo perkenalkan nama saya andi umur 12\n"
          ],
          "name": "stdout"
        }
      ]
    },
    {
      "cell_type": "markdown",
      "metadata": {
        "id": "VWD-bABk7xiO"
      },
      "source": [
        "### Input"
      ]
    },
    {
      "cell_type": "code",
      "metadata": {
        "id": "fwyfpjVf7y64",
        "colab": {
          "base_uri": "https://localhost:8080/"
        },
        "outputId": "17be4685-5b67-49eb-e4e4-2d45c4ffb575"
      },
      "source": [
        "x = input('Enter your name:')\n",
        "print('Hello, ' + x)"
      ],
      "execution_count": 5,
      "outputs": [
        {
          "output_type": "stream",
          "text": [
            "Enter your name:codewizard\n",
            "Hello, codewizard\n"
          ],
          "name": "stdout"
        }
      ]
    },
    {
      "cell_type": "markdown",
      "metadata": {
        "id": "QW4tDzUm74Kp"
      },
      "source": [
        "### Conditions\n",
        "* Equals: a == b\n",
        "* Not Equals: a != b\n",
        "* Less than: a < b\n",
        "* Less than or equal to: a <= b\n",
        "* Greater than: a > b\n",
        "* Greater than or equal to: a >= b"
      ]
    },
    {
      "cell_type": "code",
      "metadata": {
        "id": "Ct-NN8Bb77iz",
        "colab": {
          "base_uri": "https://localhost:8080/"
        },
        "outputId": "88565117-9077-444e-8b20-ead2b1e2988d"
      },
      "source": [
        "a = 200\n",
        "b = 33\n",
        "if b > a:\n",
        "  print(\"b is greater than a\")\n",
        "elif a == b:\n",
        "  print(\"a and b are equal\")\n",
        "else:\n",
        "  print(\"a is greater than b\")"
      ],
      "execution_count": 6,
      "outputs": [
        {
          "output_type": "stream",
          "text": [
            "a is greater than b\n"
          ],
          "name": "stdout"
        }
      ]
    },
    {
      "cell_type": "markdown",
      "metadata": {
        "id": "A9OIhWLt8UdR"
      },
      "source": [
        "## For Loops"
      ]
    },
    {
      "cell_type": "code",
      "metadata": {
        "id": "pqW3rDA78WLy",
        "colab": {
          "base_uri": "https://localhost:8080/"
        },
        "outputId": "2de6b1ce-a0b6-4785-ea21-2927f85e3233"
      },
      "source": [
        "fruits = [\"apple\", \"banana\", \"cherry\"]\n",
        "for x in fruits:\n",
        "  print(x)"
      ],
      "execution_count": 7,
      "outputs": [
        {
          "output_type": "stream",
          "text": [
            "apple\n",
            "banana\n",
            "cherry\n"
          ],
          "name": "stdout"
        }
      ]
    },
    {
      "cell_type": "markdown",
      "metadata": {
        "id": "oW6G2ov48jjn"
      },
      "source": [
        "### While Loops"
      ]
    },
    {
      "cell_type": "code",
      "metadata": {
        "id": "UYhwPwgl8lJt",
        "colab": {
          "base_uri": "https://localhost:8080/"
        },
        "outputId": "9a61b673-9ee8-48ab-d101-3548042c09af"
      },
      "source": [
        "i = 1\n",
        "while i < 6:\n",
        "  print(i)\n",
        "  i += 1"
      ],
      "execution_count": 8,
      "outputs": [
        {
          "output_type": "stream",
          "text": [
            "1\n",
            "2\n",
            "3\n",
            "4\n",
            "5\n"
          ],
          "name": "stdout"
        }
      ]
    },
    {
      "cell_type": "markdown",
      "metadata": {
        "id": "4D5I_vv73vLl"
      },
      "source": [
        "## Function"
      ]
    },
    {
      "cell_type": "markdown",
      "metadata": {
        "id": "fIwxwjbS4mms"
      },
      "source": [
        "### Regular Function"
      ]
    },
    {
      "cell_type": "code",
      "metadata": {
        "colab": {
          "base_uri": "https://localhost:8080/"
        },
        "id": "4AZrxcT63who",
        "outputId": "6ac9c6bd-3e12-4fd2-b743-449287b187bf"
      },
      "source": [
        "# Tanpa input, namun ada output\n",
        "def my_function():\n",
        "  print(\"Hello from a function\")\n",
        "my_function()"
      ],
      "execution_count": 9,
      "outputs": [
        {
          "output_type": "stream",
          "text": [
            "Hello from a function\n"
          ],
          "name": "stdout"
        }
      ]
    },
    {
      "cell_type": "code",
      "metadata": {
        "colab": {
          "base_uri": "https://localhost:8080/"
        },
        "id": "DVN8G90q3z6T",
        "outputId": "673f92b4-b306-4592-b170-31bf3bb5adc7"
      },
      "source": [
        "# Input parameter\n",
        "def tambah(angka1, angka2):\n",
        "  return angka1 + angka2\n",
        "hasil = tambah(5, 10)\n",
        "print(hasil)"
      ],
      "execution_count": 10,
      "outputs": [
        {
          "output_type": "stream",
          "text": [
            "15\n"
          ],
          "name": "stdout"
        }
      ]
    },
    {
      "cell_type": "code",
      "metadata": {
        "id": "CHiarGDZ6E5N",
        "colab": {
          "base_uri": "https://localhost:8080/"
        },
        "outputId": "c6b466d5-cd1e-410e-f878-a4a3bea0de4f"
      },
      "source": [
        "# Looping\n",
        "def my_function(food):\n",
        "  for x in food:\n",
        "    print(x)\n",
        "\n",
        "fruits = [\"apple\", \"banana\", \"cherry\"]\n",
        "\n",
        "my_function(fruits)"
      ],
      "execution_count": 11,
      "outputs": [
        {
          "output_type": "stream",
          "text": [
            "apple\n",
            "banana\n",
            "cherry\n"
          ],
          "name": "stdout"
        }
      ]
    },
    {
      "cell_type": "code",
      "metadata": {
        "colab": {
          "base_uri": "https://localhost:8080/"
        },
        "id": "iG3EY1BW6syu",
        "outputId": "9dae064f-f4a7-4161-d639-840a2949ea61"
      },
      "source": [
        "# Recursive \n",
        "def countdown(counter):\n",
        "  print(counter)\n",
        "  counter -= 1\n",
        "\n",
        "  if(counter >=0 ):\n",
        "    countdown(counter)\n",
        "countdown(5)"
      ],
      "execution_count": 12,
      "outputs": [
        {
          "output_type": "stream",
          "text": [
            "5\n",
            "4\n",
            "3\n",
            "2\n",
            "1\n",
            "0\n"
          ],
          "name": "stdout"
        }
      ]
    },
    {
      "cell_type": "markdown",
      "metadata": {
        "id": "Q5h_7zxt4o9c"
      },
      "source": [
        "### Lambda Function\n",
        "* A lambda function can have any number of parameters, but can only\n",
        "have one expression"
      ]
    },
    {
      "cell_type": "code",
      "metadata": {
        "colab": {
          "base_uri": "https://localhost:8080/"
        },
        "id": "W8z_7jig4qrC",
        "outputId": "82ed4022-744a-4418-c878-3da46b5432e5"
      },
      "source": [
        "x = lambda angka1, angka2 : angka1 + angka2\n",
        "print(x(5, 10))"
      ],
      "execution_count": 13,
      "outputs": [
        {
          "output_type": "stream",
          "text": [
            "15\n"
          ],
          "name": "stdout"
        }
      ]
    },
    {
      "cell_type": "markdown",
      "metadata": {
        "id": "EvG8Nke39BYc"
      },
      "source": [
        "## Collection Data Types\n",
        "Terdapat 4 buah tipe data collection dalam bahasa pemograman Python:\n",
        "\n",
        "* List adalah collection yang berurutan,  dapat diubah, dan memperbolehkan adanya nilai-nilai/value-value yang duplikat.\n",
        "* Tuple adalah collection yang berurutan dan tidak dapat diubah, dan memperbolehkan adanya nilai-nilai/value-value yang duplikat.\n",
        "* Set adalah collection yang tidak berurutan dan tidak ter-indeks. Tidak memperbolehkan adanya nilai/value duplikat.\n",
        "* Dictionary adalah collection yang tidak berurutan namun dapat diubah datanya. Tidak memperbolehkan adanya nilai/value duplikat."
      ]
    },
    {
      "cell_type": "markdown",
      "metadata": {
        "id": "6-H7-YbB9GDT"
      },
      "source": [
        "### List\n",
        "* Item-item dalam list akan berurutan, dapat diubah, dan diperbolehkan adanya nilai-nilai yang duplikat."
      ]
    },
    {
      "cell_type": "code",
      "metadata": {
        "id": "ecUVHO6p9MnT"
      },
      "source": [
        "# inisialisasi\n",
        "myList = ['hello', 1, 2, 3, True]\n"
      ],
      "execution_count": 14,
      "outputs": []
    },
    {
      "cell_type": "code",
      "metadata": {
        "colab": {
          "base_uri": "https://localhost:8080/"
        },
        "id": "mjQoUXUG-NTv",
        "outputId": "9a4beeaa-13ed-49bb-c0c4-b690ac29b556"
      },
      "source": [
        "# print and akses index \n",
        "print(myList)\n",
        "print(myList[0])\n",
        "print(myList[-2])\n",
        "print(myList[1:3])\n"
      ],
      "execution_count": 15,
      "outputs": [
        {
          "output_type": "stream",
          "text": [
            "['hello', 1, 2, 3, True]\n",
            "hello\n",
            "3\n",
            "[1, 2]\n"
          ],
          "name": "stdout"
        }
      ]
    },
    {
      "cell_type": "code",
      "metadata": {
        "id": "_yw4QMnV-PGK"
      },
      "source": [
        "# ubah data\n",
        "myList[0] = 10"
      ],
      "execution_count": 16,
      "outputs": []
    },
    {
      "cell_type": "code",
      "metadata": {
        "colab": {
          "base_uri": "https://localhost:8080/"
        },
        "id": "5Mnxwk69-Qu9",
        "outputId": "c5949788-c9f2-42a4-b433-9665c2152083"
      },
      "source": [
        "# menambahkan data\n",
        "myList.append('tambahan')\n",
        "myList.insert(2, 'coba')\n",
        "myList"
      ],
      "execution_count": 17,
      "outputs": [
        {
          "output_type": "execute_result",
          "data": {
            "text/plain": [
              "[10, 1, 'coba', 2, 3, True, 'tambahan']"
            ]
          },
          "metadata": {
            "tags": []
          },
          "execution_count": 17
        }
      ]
    },
    {
      "cell_type": "code",
      "metadata": {
        "id": "rl-7DJlv-sc8"
      },
      "source": [
        "# menghapus string 'tambahan' yang pertama kali muncul (apabila ada duplikat)\n",
        "myList.remove('tambahan')\n",
        "\n",
        "# menghapus 1 data terakhir\n",
        "myList.pop()\n",
        "\n",
        "# menghapus semua item yang ada di list\n",
        "myList.clear()"
      ],
      "execution_count": 18,
      "outputs": []
    },
    {
      "cell_type": "code",
      "metadata": {
        "id": "-VSVTZAN_FPG"
      },
      "source": [
        "# menjalankan looping untuk setiap data didalam list\n",
        "for item in myList:\n",
        "  print(item)"
      ],
      "execution_count": 19,
      "outputs": []
    },
    {
      "cell_type": "markdown",
      "metadata": {
        "id": "uraR9veN_aEC"
      },
      "source": [
        "### Tuple\n",
        "* Colletion data type yang berurutan dan tidak dapat diubah(immutable)"
      ]
    },
    {
      "cell_type": "code",
      "metadata": {
        "id": "Wk0N5Mvb_eYE"
      },
      "source": [
        "# initialize\n",
        "thistuple = (\"apple\", \"banana\", \"cherry\", 1, 4, True)\n"
      ],
      "execution_count": 20,
      "outputs": []
    },
    {
      "cell_type": "code",
      "metadata": {
        "colab": {
          "base_uri": "https://localhost:8080/"
        },
        "id": "DeVRfSnLAUE7",
        "outputId": "bf965be7-ab2e-4ff8-b0b0-80afde592196"
      },
      "source": [
        "# print dan akses index\n",
        "print(thistuple)\n",
        "print(thistuple[0])\n",
        "print(thistuple[-1])\n",
        "print(thistuple[0:-1])"
      ],
      "execution_count": 21,
      "outputs": [
        {
          "output_type": "stream",
          "text": [
            "('apple', 'banana', 'cherry', 1, 4, True)\n",
            "apple\n",
            "True\n",
            "('apple', 'banana', 'cherry', 1, 4)\n"
          ],
          "name": "stdout"
        }
      ]
    },
    {
      "cell_type": "code",
      "metadata": {
        "colab": {
          "base_uri": "https://localhost:8080/",
          "height": 180
        },
        "id": "rwZhgT_aAhRK",
        "outputId": "b23cba35-bfbd-49b7-bbb6-571318952848"
      },
      "source": [
        "# perubahan yang dilakukan pada tuple akan menimbulkan error, karena tuple bersifat immutable(tidak dapat diubah)\n",
        "thistuple[2] = \"juice\""
      ],
      "execution_count": 22,
      "outputs": [
        {
          "output_type": "error",
          "ename": "TypeError",
          "evalue": "ignored",
          "traceback": [
            "\u001b[0;31m---------------------------------------------------------------------------\u001b[0m",
            "\u001b[0;31mTypeError\u001b[0m                                 Traceback (most recent call last)",
            "\u001b[0;32m<ipython-input-22-f2cb653851f0>\u001b[0m in \u001b[0;36m<module>\u001b[0;34m()\u001b[0m\n\u001b[1;32m      1\u001b[0m \u001b[0;31m# perubahan yang dilakukan pada tuple akan menimbulkan error, karena tuple bersifat immutable(tidak dapat diubah)\u001b[0m\u001b[0;34m\u001b[0m\u001b[0;34m\u001b[0m\u001b[0;34m\u001b[0m\u001b[0m\n\u001b[0;32m----> 2\u001b[0;31m \u001b[0mthistuple\u001b[0m\u001b[0;34m[\u001b[0m\u001b[0;36m2\u001b[0m\u001b[0;34m]\u001b[0m \u001b[0;34m=\u001b[0m \u001b[0;34m\"juice\"\u001b[0m\u001b[0;34m\u001b[0m\u001b[0;34m\u001b[0m\u001b[0m\n\u001b[0m",
            "\u001b[0;31mTypeError\u001b[0m: 'tuple' object does not support item assignment"
          ]
        }
      ]
    },
    {
      "cell_type": "code",
      "metadata": {
        "id": "fGOloSfBBLgw"
      },
      "source": [
        "# menjalankan looping untuk setiap data di dalam tuple\n",
        "for items in thistuple:\n",
        "  print(items)"
      ],
      "execution_count": null,
      "outputs": []
    },
    {
      "cell_type": "markdown",
      "metadata": {
        "id": "zUVUTB2iBLSz"
      },
      "source": [
        ""
      ]
    },
    {
      "cell_type": "markdown",
      "metadata": {
        "id": "wb24OCfYBEg4"
      },
      "source": [
        "### Dictionary\n",
        "* Dictionary digunakan untuk menyimpan data secara berpasangan key:value \n",
        "\n",
        "* Collection data type yang berurutan, dapat diubah, tidak memperbolehkan adanya data duplikat. "
      ]
    },
    {
      "cell_type": "code",
      "metadata": {
        "id": "GTaBKt2fBkI9"
      },
      "source": [
        "# inisialisasi\n",
        "thisdictionary = {\n",
        "  \"nama\": \"codewizard\",\n",
        "  \"sekolah\": \"binus\",\n",
        "  \"year\": 2024\n",
        "}\n",
        "print(thisdictionary)"
      ],
      "execution_count": null,
      "outputs": []
    },
    {
      "cell_type": "code",
      "metadata": {
        "id": "TLzlYanfB79M"
      },
      "source": [
        "# print dan akses data\n",
        "print(thisdictionary['sekolah'])"
      ],
      "execution_count": null,
      "outputs": []
    },
    {
      "cell_type": "code",
      "metadata": {
        "id": "K28gGFipCHzk"
      },
      "source": [
        "# mengubah data\n",
        "thisdictionary['year'] = 2023"
      ],
      "execution_count": null,
      "outputs": []
    },
    {
      "cell_type": "code",
      "metadata": {
        "id": "tM43aFiXCSXI"
      },
      "source": [
        "# menambahkan data\n",
        "thisdictionary['hobi'] = 'belajar'"
      ],
      "execution_count": null,
      "outputs": []
    },
    {
      "cell_type": "code",
      "metadata": {
        "id": "gDiQ9sEuDD90"
      },
      "source": [
        "# menghapus data\n",
        "thisdictionary.pop('hobi') \n",
        "thisdictionary.popitem()\n",
        "thisdictionary.clear()"
      ],
      "execution_count": null,
      "outputs": []
    },
    {
      "cell_type": "code",
      "metadata": {
        "id": "K3QbkKp2DmRg"
      },
      "source": [
        "# melakukan looping untuk setiap data dalam dictionary\n",
        "for key, val in thisdictionary.items():\n",
        "  print(\"{} = {}\".format(key,val))\n",
        "\n",
        "  "
      ],
      "execution_count": null,
      "outputs": []
    },
    {
      "cell_type": "markdown",
      "metadata": {
        "id": "TP06mGZgFUQG"
      },
      "source": [
        "### Set\n",
        "* Collection data type yang tidak berurutan dan tidak ter-index"
      ]
    },
    {
      "cell_type": "code",
      "metadata": {
        "id": "Pz5okCPXFa3u"
      },
      "source": [
        "# inisialisasi\n",
        "thisset = {\"database\", \"machine learning\", \"OOP\"}"
      ],
      "execution_count": null,
      "outputs": []
    },
    {
      "cell_type": "code",
      "metadata": {
        "id": "H5p6pqzrFvu2"
      },
      "source": [
        "# print - urutannya akan random\n",
        "print(thisset)\n"
      ],
      "execution_count": null,
      "outputs": []
    },
    {
      "cell_type": "code",
      "metadata": {
        "id": "AoAxfPjoFw0M"
      },
      "source": [
        "# cara membuat set dari list, tuple, dan dictionary\n",
        "setList = set(myList)\n",
        "setTuple = set(thistuple)\n",
        "setDictionary = set(thisdictionary)"
      ],
      "execution_count": null,
      "outputs": []
    },
    {
      "cell_type": "code",
      "metadata": {
        "id": "zmbYN5m3Gp_t"
      },
      "source": [
        "# menambahkan data\n",
        "thisset.add('discrete math')\n",
        "thisset.update({'database', 'calculus' })\n"
      ],
      "execution_count": null,
      "outputs": []
    },
    {
      "cell_type": "code",
      "metadata": {
        "id": "yM0pNC9EHOHq"
      },
      "source": [
        "# menghapus data\n",
        "\n",
        "# apabila kita melakukan remove terhadap data yang tidak ada, maka akan muncul error\n",
        "# apabila kita melakukan discard terhadap data yang tidak ada, maka tidak akan terjadi apa-apa\n",
        "thisset.remove('OOP')\n",
        "thisset.discard('calculus')\n",
        "thisset.pop()\n",
        "thisset.clear()"
      ],
      "execution_count": null,
      "outputs": []
    },
    {
      "cell_type": "code",
      "metadata": {
        "id": "Ip9EN3m0HgUK"
      },
      "source": [
        "# join\n",
        "\n",
        "set1 = {'avengers', 'hulk', 'ironman 3', 'spiderman'}\n",
        "set2 = {'disney princess', 'cinderella', 'aurora'}\n",
        "setGabungan = set1.union(set2)\n",
        "print(setGabungan)"
      ],
      "execution_count": null,
      "outputs": []
    },
    {
      "cell_type": "markdown",
      "metadata": {
        "id": "9cHg_lCSvgfr"
      },
      "source": [
        "# Transformation\n",
        "Membuat sebuah RDD baru dari RDD yang sudah ada"
      ]
    },
    {
      "cell_type": "markdown",
      "metadata": {
        "id": "x3teX41loYmQ"
      },
      "source": [
        "## 1. Map\n",
        "Melakukan Iterasi setiap line dalam RDD dan split menjadi RDD yang baru"
      ]
    },
    {
      "cell_type": "code",
      "metadata": {
        "id": "mGkZGe5ctalT"
      },
      "source": [
        "# cara 1\n",
        "# def decrement(param):\n",
        "#     return param-1\n",
        "\n",
        "# data = data.map(decrement)\n",
        "# data.collect()\n",
        "\n",
        "# # cara 2\n",
        "# lambda expression\n",
        "data = data.map(lambda x : x + 1)\n",
        "data.collect()"
      ],
      "execution_count": null,
      "outputs": []
    },
    {
      "cell_type": "markdown",
      "metadata": {
        "id": "gw-fXvoMQ1wg"
      },
      "source": [
        "## 2. Filter\n",
        "Melakukan filter untuk elemen-elemen yang memenuhi kondisi "
      ]
    },
    {
      "cell_type": "code",
      "metadata": {
        "id": "rnuksaFxuYvk"
      },
      "source": [
        "filtered_data = data.filter(lambda x : x%2 == 1)\n",
        "filtered_data.collect()"
      ],
      "execution_count": null,
      "outputs": []
    },
    {
      "cell_type": "markdown",
      "metadata": {
        "id": "Vn4fng3AQ4uT"
      },
      "source": [
        "## 3. Distinct\n",
        "Memunculkan output dari value-value yang unik"
      ]
    },
    {
      "cell_type": "code",
      "metadata": {
        "id": "ULxaL-gtu4L6"
      },
      "source": [
        "distinct_data = data.distinct()\n",
        "distinct_data.collect()"
      ],
      "execution_count": null,
      "outputs": []
    },
    {
      "cell_type": "markdown",
      "metadata": {
        "id": "4iK2QMVtOqjt"
      },
      "source": [
        "## 4. Sort\n",
        "Melakukan pengurutan data, ascending maupun descending"
      ]
    },
    {
      "cell_type": "code",
      "metadata": {
        "id": "7QQZjZMDu9ri"
      },
      "source": [
        "sorted_data = distinct_data.sortBy(lambda x : x, False)\n",
        "sorted_data.collect()"
      ],
      "execution_count": null,
      "outputs": []
    },
    {
      "cell_type": "markdown",
      "metadata": {
        "id": "Olcs8gyoOwY9"
      },
      "source": [
        "## 5. Flat Map\n",
        "Sama seperti Map, perbedaannya flatMap() ini me-return sebuah list yang berisi elemen-element dalam 1 dimensi"
      ]
    },
    {
      "cell_type": "code",
      "metadata": {
        "id": "lvMTzhXivYW9"
      },
      "source": [
        "flat_map_data = data.flatMap(lambda x: (x, 1))\n",
        "flat_map_data.collect()"
      ],
      "execution_count": null,
      "outputs": []
    },
    {
      "cell_type": "markdown",
      "metadata": {
        "id": "dqwIwRc7sQcG"
      },
      "source": [
        "# Action\n",
        "Return non-RDD value ke driver program"
      ]
    },
    {
      "cell_type": "markdown",
      "metadata": {
        "id": "tRMfy8jnW62C"
      },
      "source": [
        "## 1. Take\n",
        "take(n) akan me-return n values"
      ]
    },
    {
      "cell_type": "code",
      "metadata": {
        "id": "u1CyvXNmQHdH"
      },
      "source": [
        "flat_map_data.take(5)"
      ],
      "execution_count": null,
      "outputs": []
    },
    {
      "cell_type": "markdown",
      "metadata": {
        "id": "kOrm07RsW8Ly"
      },
      "source": [
        "## 2. First\n",
        "first() akan me-return data pertama"
      ]
    },
    {
      "cell_type": "code",
      "metadata": {
        "id": "eYi8LZCMV_1w"
      },
      "source": [
        "flat_map_data.first()"
      ],
      "execution_count": null,
      "outputs": []
    },
    {
      "cell_type": "markdown",
      "metadata": {
        "id": "J4EGPJvcW9xY"
      },
      "source": [
        "## 3. Top\n",
        "top(n) akan me-return n data teratas "
      ]
    },
    {
      "cell_type": "code",
      "metadata": {
        "id": "JqXn0yU_WF77"
      },
      "source": [
        "flat_map_data.top(3)"
      ],
      "execution_count": null,
      "outputs": []
    },
    {
      "cell_type": "markdown",
      "metadata": {
        "id": "ezJIYfJYW_Kp"
      },
      "source": [
        "## 4. Count\n",
        "count() akan menghitung jumlah data yang ada"
      ]
    },
    {
      "cell_type": "code",
      "metadata": {
        "id": "8GlOX0SzWTAX"
      },
      "source": [
        "flat_map_data.count()"
      ],
      "execution_count": null,
      "outputs": []
    },
    {
      "cell_type": "markdown",
      "metadata": {
        "id": "RnX-Z_ULXA2T"
      },
      "source": [
        "## 5. Count By Value\n",
        "countByValue() akan menghitung jumlah data berdasarkan value"
      ]
    },
    {
      "cell_type": "code",
      "metadata": {
        "id": "HBY77d9iWgiP"
      },
      "source": [
        "flat_map_data.countByValue()"
      ],
      "execution_count": null,
      "outputs": []
    },
    {
      "cell_type": "markdown",
      "metadata": {
        "id": "QMI93bTts7NO"
      },
      "source": [
        ""
      ]
    },
    {
      "cell_type": "markdown",
      "metadata": {
        "id": "zw0PQr_lQBj4"
      },
      "source": [
        "# Case Frog Prince (Intro to Spark)"
      ]
    },
    {
      "cell_type": "code",
      "metadata": {
        "id": "oLsTIzzmva_J"
      },
      "source": [
        "# 1\n",
        "lines = spark.sparkContext.textFile(\"The Frog Prince.txt\")\n",
        "lines.count()\n"
      ],
      "execution_count": null,
      "outputs": []
    },
    {
      "cell_type": "code",
      "metadata": {
        "id": "4miW0PbFzeJl"
      },
      "source": [
        "# 2\n",
        "\n",
        "prince_count = lines.map(lambda x : \"Prince\" in x)\n",
        "prince_count.countByValue()"
      ],
      "execution_count": null,
      "outputs": []
    },
    {
      "cell_type": "code",
      "metadata": {
        "id": "oICLJs7_0CGX"
      },
      "source": [
        "# 3 \n",
        "master_or_love = lines.filter(lambda x : \"master\" in x or \"love\" in x)\n",
        "master_or_love.collect()"
      ],
      "execution_count": null,
      "outputs": []
    },
    {
      "cell_type": "code",
      "metadata": {
        "id": "k3Pa3xHC0ql0"
      },
      "source": [
        "# 4\n",
        "words = lines.flatMap(lambda x : x.split(\" \"))\n",
        "distinct_words = words.distinct()\n",
        "distinct_words.collect()"
      ],
      "execution_count": null,
      "outputs": []
    },
    {
      "cell_type": "code",
      "metadata": {
        "id": "7QqJ8nd42AAZ"
      },
      "source": [
        "# 5\n",
        "total_blanks = spark.sparkContext.accumulator(0)\n",
        "\n",
        "def count_blank(param):\n",
        "\tglobal total_blanks\n",
        "\tif param == \"\":\n",
        "\t\ttotal_blanks += 1\n",
        "lines.foreach(count_blank)\n",
        "print(total_blanks)"
      ],
      "execution_count": null,
      "outputs": []
    },
    {
      "cell_type": "markdown",
      "metadata": {
        "id": "cyeromJnt391"
      },
      "source": [
        "# SQL Context\n",
        "Menggunakan SQLContext untuk mengakses SparkContext "
      ]
    },
    {
      "cell_type": "code",
      "metadata": {
        "id": "G7VHUnuPt6p7"
      },
      "source": [
        "# Pertama, import spark context\n",
        "from pyspark import SparkContext\n",
        "context = SparkContext()\n",
        "\n",
        "# Kedua, import SQLContext\n",
        "from pyspark.sql import SQLContext\n",
        "sc = SQLContext(context)\n"
      ],
      "execution_count": null,
      "outputs": []
    },
    {
      "cell_type": "markdown",
      "metadata": {
        "id": "OtQNdPL1t-dh"
      },
      "source": [
        "# Spark Dataframe\n",
        "Kumpulan data RDD yang diditribusikan dan disusun dalam kolom nama"
      ]
    },
    {
      "cell_type": "markdown",
      "metadata": {
        "id": "PPq1lXaYvnbh"
      },
      "source": [
        "Membuat Dataframe dengan SQLContext"
      ]
    },
    {
      "cell_type": "code",
      "metadata": {
        "id": "W7C5hB-WuC6S"
      },
      "source": [
        "df_sc = sc.createDataFrame([\n",
        "                            {\"name\":\"jeff\", \"age\":21},\n",
        "                            {\"name\":\"revaldi\", \"age\": 21},\n",
        "                            {\"name\":\"budi\", \"age\": 19}\n",
        "                            ])\n",
        "df_sc.show()\n",
        "df_sc.printSchema()"
      ],
      "execution_count": null,
      "outputs": []
    },
    {
      "cell_type": "markdown",
      "metadata": {
        "id": "Epk8zm3_vr9F"
      },
      "source": [
        "Membuat Dataframe dengan SparkSession"
      ]
    },
    {
      "cell_type": "code",
      "metadata": {
        "id": "lD5H_3f1vlWG"
      },
      "source": [
        "df_sk = spark.createDataFrame([\n",
        "                            {\"name\":\"jeff\", \"age\":21},\n",
        "                            {\"name\":\"revaldi\", \"age\": 21},\n",
        "                            {\"name\":\"budi\", \"age\": 19}                  \n",
        "])\n",
        "df_sk.show()\n",
        "young = df_sk.filter(df_sk.age < 21)\n",
        "young.collect()"
      ],
      "execution_count": null,
      "outputs": []
    },
    {
      "cell_type": "markdown",
      "metadata": {
        "id": "NkmRgVEHv70v"
      },
      "source": [
        "# Case Spark SQL"
      ]
    },
    {
      "cell_type": "markdown",
      "metadata": {
        "id": "h0IjWt5Zv_Qy"
      },
      "source": [
        "## Load Data from CSV to Spark"
      ]
    },
    {
      "cell_type": "code",
      "metadata": {
        "id": "jc1yVti_v9zm"
      },
      "source": [
        "# kegunaan inferSchema :  Infer schema akan secara otomatis mendeteksi tipe data dari setiap field/kolom dalam file RDD \n",
        "# set parameter header menjadi True sehingga baris pertama dari data kalian akan terbaca sebagai nama kolom\n",
        "\n",
        "msBrand = spark.read.option(\"inferSchema\", \"true\").csv(\"MsBrand.csv\", header=True)\n",
        "msCountry = spark.read.option(\"inferSchema\", \"true\").csv(\"MsCountry.csv\", header=True)\n",
        "msCustomer = spark.read.option(\"inferSchema\", \"true\").csv(\"MsCustomer.csv\", header=True)\n",
        "msRamen = spark.read.option(\"inferSchema\", \"true\").csv(\"MsRamen.csv\", header=True)\n",
        "msRamenStyle = spark.read.option(\"inferSchema\", \"true\").csv(\"MsRamenStyle.csv\", header=True)\n",
        "transactionDetail = spark.read.option(\"inferSchema\", \"true\").csv(\"TransactionDetail.csv\", header=True)\n",
        "transactionHeader = spark.read.option(\"inferSchema\", \"true\").csv(\"TransactionHeader.csv\", header=True)"
      ],
      "execution_count": 23,
      "outputs": []
    },
    {
      "cell_type": "markdown",
      "metadata": {
        "id": "uU9dIcmbwCpF"
      },
      "source": [
        "## Print Schema"
      ]
    },
    {
      "cell_type": "code",
      "metadata": {
        "id": "kV3uMH23wFP4",
        "colab": {
          "base_uri": "https://localhost:8080/"
        },
        "outputId": "f5fe6676-c8d1-4229-8f30-306e970bb0f9"
      },
      "source": [
        "# kegunaan printSchema : untuk print schema dalam bentuk tree\n",
        "msBrand.printSchema()\n",
        "msCountry.printSchema()\n",
        "msCustomer.printSchema()\n",
        "msRamen.printSchema()\n",
        "msRamenStyle.printSchema()\n",
        "transactionDetail.printSchema()\n",
        "transactionHeader.printSchema()"
      ],
      "execution_count": 24,
      "outputs": [
        {
          "output_type": "stream",
          "text": [
            "root\n",
            " |-- BrandId: integer (nullable = true)\n",
            " |-- BrandName: string (nullable = true)\n",
            " |-- EstablishedYear: integer (nullable = true)\n",
            "\n",
            "root\n",
            " |-- CountryId: integer (nullable = true)\n",
            " |-- CountryName: string (nullable = true)\n",
            "\n",
            "root\n",
            " |-- CustomerId: integer (nullable = true)\n",
            " |-- CustomerName: string (nullable = true)\n",
            " |-- CustomerPhone: string (nullable = true)\n",
            " |-- CustomerEmail: string (nullable = true)\n",
            "\n",
            "root\n",
            " |-- RamenId: integer (nullable = true)\n",
            " |-- BrandId: integer (nullable = true)\n",
            " |-- RamenName: string (nullable = true)\n",
            " |-- RamenStyleId: integer (nullable = true)\n",
            " |-- CountryId: integer (nullable = true)\n",
            " |-- RamenPrice: integer (nullable = true)\n",
            "\n",
            "root\n",
            " |-- RamenStyleId: integer (nullable = true)\n",
            " |-- RamenStyleName: string (nullable = true)\n",
            "\n",
            "root\n",
            " |-- TransactionId: integer (nullable = true)\n",
            " |-- RamenId: integer (nullable = true)\n",
            " |-- Quantity: integer (nullable = true)\n",
            "\n",
            "root\n",
            " |-- TransactionId: integer (nullable = true)\n",
            " |-- TransactionDate: string (nullable = true)\n",
            " |-- CustomerId: integer (nullable = true)\n",
            "\n"
          ],
          "name": "stdout"
        }
      ]
    },
    {
      "cell_type": "markdown",
      "metadata": {
        "id": "EwI7K5-7wMnm"
      },
      "source": [
        "## Create Temporary Table"
      ]
    },
    {
      "cell_type": "code",
      "metadata": {
        "id": "AbebpVoVwPjt",
        "colab": {
          "base_uri": "https://localhost:8080/"
        },
        "outputId": "68bc1d49-0536-4d89-a8aa-90fb2cd866be"
      },
      "source": [
        "# membuat table sementara untuk melakukan query analysis agar data aslinya tidak terubah-ubah\n",
        "msBrand.registerTempTable(\"MsBrand\")\n",
        "msCountry.registerTempTable(\"MsCountry\")\n",
        "msCustomer.registerTempTable(\"MsCustomer\")\n",
        "msRamen.registerTempTable(\"MsRamen\")\n",
        "msRamenStyle.registerTempTable(\"MsRamenStyle\")\n",
        "transactionDetail.registerTempTable(\"TransactionDetail\")\n",
        "transactionHeader.registerTempTable(\"TransactionHeader\")\n",
        "\n",
        "\n",
        "# contoh membuat query dalam spark sql dalam 1 baris\n",
        "result1 = spark.sql(\"SELECT * FROM MsBrand\")\n",
        "result1.show()\n",
        "\n",
        "# contoh membuat query dalam spark sql dalam beberapa baris\n",
        "result1 = spark.sql(\"\"\"\n",
        "        SELECT * \n",
        "        FROM MsCustomer\n",
        "\"\"\")\n",
        "result1.show()\n"
      ],
      "execution_count": 25,
      "outputs": [
        {
          "output_type": "stream",
          "text": [
            "+-------+----------------+---------------+\n",
            "|BrandId|       BrandName|EstablishedYear|\n",
            "+-------+----------------+---------------+\n",
            "|      1|       New Touch|           2019|\n",
            "|      2|        Just Way|           2010|\n",
            "|      3|          Nissin|           2016|\n",
            "|      4|         Wei Lih|           2011|\n",
            "|      5|   Chings Secret|           2011|\n",
            "|      6|   Samyang Foods|           2010|\n",
            "|      7|         Acecook|           2010|\n",
            "|      8|     Ikeda Shoku|           2017|\n",
            "|      9|      Ripe n Dry|           2010|\n",
            "|     10|            KOKA|           2017|\n",
            "|     11|     Tao Kae Noi|           2010|\n",
            "|     12|        Yamachan|           2017|\n",
            "|     13|        Nongshim|           2012|\n",
            "|     14|            TRDP|           2010|\n",
            "|     15|        Binh Tay|           2011|\n",
            "|     16|           Paldo|           2018|\n",
            "|     17|Jackpot Teriyaki|           2013|\n",
            "|     18|         Yum-Mie|           2011|\n",
            "|     19|         MyKuali|           2015|\n",
            "|     20|          Ottogi|           2014|\n",
            "+-------+----------------+---------------+\n",
            "only showing top 20 rows\n",
            "\n",
            "+----------+--------------------+-----------------+--------------------+\n",
            "|CustomerId|        CustomerName|    CustomerPhone|       CustomerEmail|\n",
            "+----------+--------------------+-----------------+--------------------+\n",
            "|         1|         Ky Mossdale| +33 956 967 8883|kmossdale0@eventb...|\n",
            "|         2|          Elora Camp| +55 872 805 1595|   ecamp1@reddit.com|\n",
            "|         3|         Lesli Birds| +86 365 657 4802|  lbirds2@oakley.com|\n",
            "|         4|      Vivianne Lukas| +86 776 874 9691|   vlukas3@alexa.com|\n",
            "|         5|      Ronny Klaesson|+378 130 669 9961|rklaesson4@smugmu...|\n",
            "|         6|    Delaney Pawelski| +86 838 788 6960|dpawelski5@weibo.com|\n",
            "|         7|     Gigi Stonbridge| +86 722 576 4237|gstonbridge6@buzz...|\n",
            "|         8|  Blondell Chattaway| +57 801 501 4983|bchattaway7@syman...|\n",
            "|         9|       Edita Valerio|+358 534 896 2773|evalerio8@cafepre...|\n",
            "|        10|Christalle Langca...| +81 249 342 0991|clangcastle9@colu...|\n",
            "|        11|        Kristel Dowd| +86 301 164 5672|    kdowda@globo.com|\n",
            "|        12|         Odette Hele|+234 372 105 0577| oheleb@netvibes.com|\n",
            "|        13|          Fern Audus| +81 110 726 9016|faudusc@marriott.com|\n",
            "|        14|  Alasdair Wetherill|+976 732 179 9594|awetherilld@thegl...|\n",
            "|        15|      Cosetta Jursch|+880 254 254 1604|    cjursche@mtv.com|\n",
            "|        16|      Lizette Artois|  +7 528 306 0322|lartoisf@histats.com|\n",
            "|        17|         Gard Cassar| +63 120 489 7357|gcassarg@youtube.com|\n",
            "|        18|        Port Giuroni| +86 609 544 7157| pgiuronih@google.nl|\n",
            "|        19|     Debbie Cockrill|+216 568 753 7031|dcockrilli@globo.com|\n",
            "|        20|    Jacquelyn Nutten| +62 693 342 7685|jnuttenj@stumbleu...|\n",
            "+----------+--------------------+-----------------+--------------------+\n",
            "only showing top 20 rows\n",
            "\n"
          ],
          "name": "stdout"
        }
      ]
    },
    {
      "cell_type": "markdown",
      "metadata": {
        "id": "XDt8ft7BwkEl"
      },
      "source": [
        "## Query Analysis\n",
        "Dalam Spark SQL ini, kita menggunakan syntax MySQL"
      ]
    },
    {
      "cell_type": "markdown",
      "metadata": {
        "id": "slWEfLKSwmg5"
      },
      "source": [
        "### A\n",
        "Show top 10 brand which distributed the most number of ramen"
      ]
    },
    {
      "cell_type": "code",
      "metadata": {
        "id": "ImTFXAYywntn",
        "colab": {
          "base_uri": "https://localhost:8080/"
        },
        "outputId": "ca6006db-2270-4c78-fe66-65c0c440d7c5"
      },
      "source": [
        "result1 = spark.sql(\"\"\"\n",
        "  SELECT BrandName, COUNT(RamenID) AS TotalRamen\n",
        "  FROM MsBrand mb\n",
        "  JOIN MsRamen mr ON mb.BrandID = mr.BrandID\n",
        "  GROUP BY BrandName\n",
        "  ORDER BY TotalRamen DESC\n",
        "  LIMIT 10\n",
        "\"\"\")\n",
        "result1.show()"
      ],
      "execution_count": 26,
      "outputs": [
        {
          "output_type": "stream",
          "text": [
            "+-------------+----------+\n",
            "|    BrandName|TotalRamen|\n",
            "+-------------+----------+\n",
            "|       Nissin|       381|\n",
            "|     Nongshim|        98|\n",
            "|     Maruchan|        76|\n",
            "|         Mama|        71|\n",
            "|        Paldo|        66|\n",
            "|        Myojo|        63|\n",
            "|      Indomie|        53|\n",
            "|Samyang Foods|        52|\n",
            "|       Ottogi|        46|\n",
            "|    Lucky Me!|        34|\n",
            "+-------------+----------+\n",
            "\n"
          ],
          "name": "stdout"
        }
      ]
    },
    {
      "cell_type": "markdown",
      "metadata": {
        "id": "ZqpCbBOPwsS1"
      },
      "source": [
        "### B\n",
        "Show the number of ramen sold for each month within year 2019 in which the brand name is 'Nissin'"
      ]
    },
    {
      "cell_type": "code",
      "metadata": {
        "id": "LTwP0d6Mwtnq",
        "colab": {
          "base_uri": "https://localhost:8080/"
        },
        "outputId": "1919234a-a9cc-4cf9-dbca-41e77736ae59"
      },
      "source": [
        "result2 = spark.sql(\"\"\"\n",
        "  SELECT SUM(Quantity) AS TotalRamen, MONTH(TransactionDate) AS Month\n",
        "  FROM MsRamen mr\n",
        "  JOIN TransactionDetail td ON mr.RamenID = td.RamenID\n",
        "  JOIN TransactionHeader th ON td.TransactionID = th.TransactionID\n",
        "  JOIN MsBrand mb ON mr.BrandID = mb.BrandID\n",
        "  WHERE YEAR(TransactionDate) = 2019 AND BrandName = 'Nissin'\n",
        "  GROUP BY month(TransactionDate)\n",
        "\"\"\")\n",
        "result2.show()"
      ],
      "execution_count": 27,
      "outputs": [
        {
          "output_type": "stream",
          "text": [
            "+----------+-----+\n",
            "|TotalRamen|Month|\n",
            "+----------+-----+\n",
            "|      1561|   12|\n",
            "|      1605|    1|\n",
            "|      1660|    6|\n",
            "|      1624|    3|\n",
            "|      1661|    5|\n",
            "|      1546|    9|\n",
            "|      1504|    4|\n",
            "|      1748|    8|\n",
            "|      1485|    7|\n",
            "|      1667|   10|\n",
            "|      1550|   11|\n",
            "|      1403|    2|\n",
            "+----------+-----+\n",
            "\n"
          ],
          "name": "stdout"
        }
      ]
    },
    {
      "cell_type": "markdown",
      "metadata": {
        "id": "1_vReFjhwyDV"
      },
      "source": [
        "### C\n",
        "Show top 5 customer that do the most number of transaction in 2019 and there must be ‘Nissin’ brand within the transaction. "
      ]
    },
    {
      "cell_type": "code",
      "metadata": {
        "id": "lBHzW1_vwzM4",
        "colab": {
          "base_uri": "https://localhost:8080/"
        },
        "outputId": "e30c19b0-5049-4cd0-b3cc-02ccf8e2dd0a"
      },
      "source": [
        "result3 = spark.sql(\"\"\"\n",
        "  SELECT CustomerName, COUNT(th.TransactionID) AS TotalTransaction\n",
        "  FROM MsCustomer mc\n",
        "  JOIN TransactionHeader th ON mc.CustomerID = th.CustomerID\n",
        "  JOIN TransactionDetail td ON th.TransactionID = td.TransactionID\n",
        "  JOIN MsRamen mr ON td.RamenID = mr.RamenID\n",
        "  JOIN MsBrand mb ON mb.BrandID = mr.BrandID\n",
        "  WHERE YEAR(TransactionDate) = 2019 AND BrandName = 'Nissin'\n",
        "  GROUP BY CustomerName\n",
        "  ORDER BY TotalTransaction DESC\n",
        "  LIMIT 5\n",
        "\"\"\")\n",
        "result3.show()"
      ],
      "execution_count": 28,
      "outputs": [
        {
          "output_type": "stream",
          "text": [
            "+-------------+----------------+\n",
            "| CustomerName|TotalTransaction|\n",
            "+-------------+----------------+\n",
            "|Bettina Elsey|               9|\n",
            "|Nevil Batisse|               8|\n",
            "|      Lon Rex|               7|\n",
            "|   Tomi Orrow|               7|\n",
            "|Shantee Gager|               7|\n",
            "+-------------+----------------+\n",
            "\n"
          ],
          "name": "stdout"
        }
      ]
    },
    {
      "cell_type": "markdown",
      "metadata": {
        "id": "9OLwXDzBw12Y"
      },
      "source": [
        "## Save Data"
      ]
    },
    {
      "cell_type": "code",
      "metadata": {
        "id": "aPwM49PLw3pD"
      },
      "source": [
        "# coalesce adalah sebuah method untuk mempartisi data yang ada di dataframe\n",
        "# parameter 1 dalam coalesce berarti kita hanya menginginkan data kita menjadi 1 partisi (table tetap utuh tidak terpisah-pisah)\n",
        "result1.coalesce(1).write.option(\"header\", \"true\").csv(\"Result1\")"
      ],
      "execution_count": 29,
      "outputs": []
    },
    {
      "cell_type": "markdown",
      "metadata": {
        "id": "fDyMyRjqv8Yc"
      },
      "source": [
        "## Cek apakah data sudah tersimpan\n",
        "1.   ubah directory dengan command : cd Result1\n",
        "2.   cek command ls untuk melihat nama file\n"
      ]
    },
    {
      "cell_type": "code",
      "metadata": {
        "colab": {
          "base_uri": "https://localhost:8080/"
        },
        "id": "xfRaKpiGwfEt",
        "outputId": "26534ccc-113b-4204-9aa5-bd11c5db4ad3"
      },
      "source": [
        "cd Result1/"
      ],
      "execution_count": 30,
      "outputs": [
        {
          "output_type": "stream",
          "text": [
            "/content/Result1\n"
          ],
          "name": "stdout"
        }
      ]
    },
    {
      "cell_type": "code",
      "metadata": {
        "colab": {
          "base_uri": "https://localhost:8080/"
        },
        "id": "ds0BPQYbwoxr",
        "outputId": "a5ef94ce-7f51-41a7-ce0f-0b57777a8375"
      },
      "source": [
        "ls"
      ],
      "execution_count": 31,
      "outputs": [
        {
          "output_type": "stream",
          "text": [
            "part-00000-c117b605-f191-4faf-84da-f2c3bef70af7-c000.csv  _SUCCESS\n"
          ],
          "name": "stdout"
        }
      ]
    },
    {
      "cell_type": "code",
      "metadata": {
        "colab": {
          "base_uri": "https://localhost:8080/"
        },
        "id": "NPWlBQHdwpzD",
        "outputId": "1eb689fa-1975-44d2-98e3-362f4103f834"
      },
      "source": [
        "cat part-00000-c117b605-f191-4faf-84da-f2c3bef70af7-c000.csv"
      ],
      "execution_count": 32,
      "outputs": [
        {
          "output_type": "stream",
          "text": [
            "BrandName,TotalRamen\n",
            "Nissin,381\n",
            "Nongshim,98\n",
            "Maruchan,76\n",
            "Mama,71\n",
            "Paldo,66\n",
            "Myojo,63\n",
            "Indomie,53\n",
            "Samyang Foods,52\n",
            "Ottogi,46\n",
            "Lucky Me!,34\n"
          ],
          "name": "stdout"
        }
      ]
    }
  ]
}